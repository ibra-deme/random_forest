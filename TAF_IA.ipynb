{
 "cells": [
  {
   "cell_type": "markdown",
   "id": "89d8a082-96bb-4964-9d5f-ed3bd295b0b3",
   "metadata": {},
   "source": [
    "Le domaine de la santé est l'un des domaines ou le machine learning peut apporter une plus value.En effet, plusieurs maladies pouvaient etre moins letales si on parvenait a les diagnostiques plus tot. Seulement, il y a une enorme quantite de donnees a traiter ce qui rend le diagnostic plus complexe et plus tardif. C est le cas du diabete. \n",
    "Lors de notre tavail de recherches nous avons utilise le jeu de donnees du diabete qui nous provient de l institut national du diabete et des maladies digestives renales. Il a pour objectif de predire le diagnostic d un patient pour savoir s il est diabetique ou pas.Plusieurs contraintes ont été placées sur la sélection de ces instances à partir d’une base de données plus grande. En particulier, tous les patients ici sont des femmes d’au moins 21 ans d’origine indienne"
   ]
  },
  {
   "cell_type": "code",
   "execution_count": 45,
   "id": "43251411-6523-4698-8ee1-4e28fb909c06",
   "metadata": {},
   "outputs": [],
   "source": [
    "import pandas as pd\n",
    "import numpy as np"
   ]
  },
  {
   "cell_type": "code",
   "execution_count": 46,
   "id": "725c8066-e471-4cd4-8230-1137d8275838",
   "metadata": {},
   "outputs": [
    {
     "data": {
      "text/html": [
       "<div>\n",
       "<style scoped>\n",
       "    .dataframe tbody tr th:only-of-type {\n",
       "        vertical-align: middle;\n",
       "    }\n",
       "\n",
       "    .dataframe tbody tr th {\n",
       "        vertical-align: top;\n",
       "    }\n",
       "\n",
       "    .dataframe thead th {\n",
       "        text-align: right;\n",
       "    }\n",
       "</style>\n",
       "<table border=\"1\" class=\"dataframe\">\n",
       "  <thead>\n",
       "    <tr style=\"text-align: right;\">\n",
       "      <th></th>\n",
       "      <th>Pregnancies</th>\n",
       "      <th>Glucose</th>\n",
       "      <th>BloodPressure</th>\n",
       "      <th>SkinThickness</th>\n",
       "      <th>Insulin</th>\n",
       "      <th>BMI</th>\n",
       "      <th>DiabetesPedigreeFunction</th>\n",
       "      <th>Age</th>\n",
       "      <th>Outcome</th>\n",
       "    </tr>\n",
       "  </thead>\n",
       "  <tbody>\n",
       "    <tr>\n",
       "      <th>0</th>\n",
       "      <td>6</td>\n",
       "      <td>148</td>\n",
       "      <td>72</td>\n",
       "      <td>35</td>\n",
       "      <td>0</td>\n",
       "      <td>33.6</td>\n",
       "      <td>0.627</td>\n",
       "      <td>50</td>\n",
       "      <td>1</td>\n",
       "    </tr>\n",
       "    <tr>\n",
       "      <th>1</th>\n",
       "      <td>1</td>\n",
       "      <td>85</td>\n",
       "      <td>66</td>\n",
       "      <td>29</td>\n",
       "      <td>0</td>\n",
       "      <td>26.6</td>\n",
       "      <td>0.351</td>\n",
       "      <td>31</td>\n",
       "      <td>0</td>\n",
       "    </tr>\n",
       "    <tr>\n",
       "      <th>2</th>\n",
       "      <td>8</td>\n",
       "      <td>183</td>\n",
       "      <td>64</td>\n",
       "      <td>0</td>\n",
       "      <td>0</td>\n",
       "      <td>23.3</td>\n",
       "      <td>0.672</td>\n",
       "      <td>32</td>\n",
       "      <td>1</td>\n",
       "    </tr>\n",
       "  </tbody>\n",
       "</table>\n",
       "</div>"
      ],
      "text/plain": [
       "   Pregnancies  Glucose  BloodPressure  SkinThickness  Insulin   BMI  \\\n",
       "0            6      148             72             35        0  33.6   \n",
       "1            1       85             66             29        0  26.6   \n",
       "2            8      183             64              0        0  23.3   \n",
       "\n",
       "   DiabetesPedigreeFunction  Age  Outcome  \n",
       "0                     0.627   50        1  \n",
       "1                     0.351   31        0  \n",
       "2                     0.672   32        1  "
      ]
     },
     "execution_count": 46,
     "metadata": {},
     "output_type": "execute_result"
    }
   ],
   "source": [
    "df=pd.read_csv(\"diabetes.csv\")\n",
    "df.head(3)"
   ]
  },
  {
   "cell_type": "code",
   "execution_count": 47,
   "id": "0d1d4bdf-a991-4eea-a0a4-b7360606dcb0",
   "metadata": {},
   "outputs": [],
   "source": [
    "Y=df['Outcome']\n",
    "X=df.drop(['Outcome'],axis=1)\n",
    "from sklearn.metrics import accuracy_score\n",
    "from sklearn.model_selection import GridSearchCV"
   ]
  },
  {
   "cell_type": "code",
   "execution_count": 48,
   "id": "04881614-7d29-4235-bc5a-dd30bfacb947",
   "metadata": {},
   "outputs": [],
   "source": [
    "from sklearn.model_selection import train_test_split\n",
    "X_train,X_test,Y_train,Y_test=train_test_split(X,Y,test_size=(0.2),random_state=12)"
   ]
  },
  {
   "cell_type": "code",
   "execution_count": 49,
   "id": "9f497ce1-65a7-408c-b539-91994aad10ce",
   "metadata": {},
   "outputs": [],
   "source": [
    "# Appliquons un modele du plus proche voisins (K-NN)\n",
    "\n",
    "#instanciation\n",
    "from sklearn.neighbors import KNeighborsClassifier\n",
    "knn=KNeighborsClassifier(n_neighbors=10)\n",
    "knn\n",
    "#fitting du model\n",
    "knn.fit(X_train,Y_train)\n",
    "#prediction\n",
    "pred_knn = knn.predict(X_test)"
   ]
  },
  {
   "cell_type": "code",
   "execution_count": 50,
   "id": "7344bf5d-0e74-4f34-b400-51fe0d4bdf64",
   "metadata": {},
   "outputs": [
    {
     "name": "stdout",
     "output_type": "stream",
     "text": [
      "Fitting 5 folds for each of 22 candidates, totalling 110 fits\n",
      "[CV 1/5; 1/22] START n_neighbors=4..............................................\n",
      "[CV 1/5; 1/22] END ...............n_neighbors=4;, score=0.748 total time=   0.0s\n",
      "[CV 2/5; 1/22] START n_neighbors=4..............................................\n",
      "[CV 2/5; 1/22] END ...............n_neighbors=4;, score=0.732 total time=   0.0s\n",
      "[CV 3/5; 1/22] START n_neighbors=4..............................................\n",
      "[CV 3/5; 1/22] END ...............n_neighbors=4;, score=0.756 total time=   0.0s\n",
      "[CV 4/5; 1/22] START n_neighbors=4..............................................\n",
      "[CV 4/5; 1/22] END ...............n_neighbors=4;, score=0.724 total time=   0.0s\n",
      "[CV 5/5; 1/22] START n_neighbors=4..............................................\n",
      "[CV 5/5; 1/22] END ...............n_neighbors=4;, score=0.705 total time=   0.0s\n",
      "[CV 1/5; 2/22] START n_neighbors=5..............................................\n",
      "[CV 1/5; 2/22] END ...............n_neighbors=5;, score=0.667 total time=   0.0s\n",
      "[CV 2/5; 2/22] START n_neighbors=5..............................................\n",
      "[CV 2/5; 2/22] END ...............n_neighbors=5;, score=0.732 total time=   0.0s\n",
      "[CV 3/5; 2/22] START n_neighbors=5..............................................\n",
      "[CV 3/5; 2/22] END ...............n_neighbors=5;, score=0.764 total time=   0.0s\n",
      "[CV 4/5; 2/22] START n_neighbors=5..............................................\n",
      "[CV 4/5; 2/22] END ...............n_neighbors=5;, score=0.764 total time=   0.0s\n",
      "[CV 5/5; 2/22] START n_neighbors=5..............................................\n",
      "[CV 5/5; 2/22] END ...............n_neighbors=5;, score=0.713 total time=   0.0s\n",
      "[CV 1/5; 3/22] START n_neighbors=7..............................................\n",
      "[CV 1/5; 3/22] END ...............n_neighbors=7;, score=0.683 total time=   0.0s\n",
      "[CV 2/5; 3/22] START n_neighbors=7..............................................\n",
      "[CV 2/5; 3/22] END ...............n_neighbors=7;, score=0.772 total time=   0.0s\n",
      "[CV 3/5; 3/22] START n_neighbors=7..............................................\n",
      "[CV 3/5; 3/22] END ...............n_neighbors=7;, score=0.732 total time=   0.0s\n",
      "[CV 4/5; 3/22] START n_neighbors=7..............................................\n",
      "[CV 4/5; 3/22] END ...............n_neighbors=7;, score=0.764 total time=   0.0s\n",
      "[CV 5/5; 3/22] START n_neighbors=7..............................................\n",
      "[CV 5/5; 3/22] END ...............n_neighbors=7;, score=0.705 total time=   0.0s\n",
      "[CV 1/5; 4/22] START n_neighbors=9..............................................\n",
      "[CV 1/5; 4/22] END ...............n_neighbors=9;, score=0.699 total time=   0.0s\n",
      "[CV 2/5; 4/22] START n_neighbors=9..............................................\n",
      "[CV 2/5; 4/22] END ...............n_neighbors=9;, score=0.772 total time=   0.0s\n",
      "[CV 3/5; 4/22] START n_neighbors=9..............................................\n",
      "[CV 3/5; 4/22] END ...............n_neighbors=9;, score=0.740 total time=   0.0s\n",
      "[CV 4/5; 4/22] START n_neighbors=9..............................................\n",
      "[CV 4/5; 4/22] END ...............n_neighbors=9;, score=0.732 total time=   0.0s\n",
      "[CV 5/5; 4/22] START n_neighbors=9..............................................\n",
      "[CV 5/5; 4/22] END ...............n_neighbors=9;, score=0.746 total time=   0.0s\n",
      "[CV 1/5; 5/22] START n_neighbors=10.............................................\n",
      "[CV 1/5; 5/22] END ..............n_neighbors=10;, score=0.667 total time=   0.0s\n",
      "[CV 2/5; 5/22] START n_neighbors=10.............................................\n",
      "[CV 2/5; 5/22] END ..............n_neighbors=10;, score=0.764 total time=   0.0s\n",
      "[CV 3/5; 5/22] START n_neighbors=10.............................................\n",
      "[CV 3/5; 5/22] END ..............n_neighbors=10;, score=0.748 total time=   0.0s\n",
      "[CV 4/5; 5/22] START n_neighbors=10.............................................\n",
      "[CV 4/5; 5/22] END ..............n_neighbors=10;, score=0.715 total time=   0.0s\n",
      "[CV 5/5; 5/22] START n_neighbors=10.............................................\n",
      "[CV 5/5; 5/22] END ..............n_neighbors=10;, score=0.770 total time=   0.0s\n",
      "[CV 1/5; 6/22] START n_neighbors=30.............................................\n",
      "[CV 1/5; 6/22] END ..............n_neighbors=30;, score=0.699 total time=   0.0s\n",
      "[CV 2/5; 6/22] START n_neighbors=30.............................................\n",
      "[CV 2/5; 6/22] END ..............n_neighbors=30;, score=0.789 total time=   0.0s\n",
      "[CV 3/5; 6/22] START n_neighbors=30.............................................\n",
      "[CV 3/5; 6/22] END ..............n_neighbors=30;, score=0.748 total time=   0.0s\n",
      "[CV 4/5; 6/22] START n_neighbors=30.............................................\n",
      "[CV 4/5; 6/22] END ..............n_neighbors=30;, score=0.707 total time=   0.0s\n",
      "[CV 5/5; 6/22] START n_neighbors=30.............................................\n",
      "[CV 5/5; 6/22] END ..............n_neighbors=30;, score=0.713 total time=   0.0s\n",
      "[CV 1/5; 7/22] START n_neighbors=20.............................................\n",
      "[CV 1/5; 7/22] END ..............n_neighbors=20;, score=0.667 total time=   0.0s\n",
      "[CV 2/5; 7/22] START n_neighbors=20.............................................\n",
      "[CV 2/5; 7/22] END ..............n_neighbors=20;, score=0.780 total time=   0.0s\n",
      "[CV 3/5; 7/22] START n_neighbors=20.............................................\n",
      "[CV 3/5; 7/22] END ..............n_neighbors=20;, score=0.740 total time=   0.0s\n",
      "[CV 4/5; 7/22] START n_neighbors=20.............................................\n",
      "[CV 4/5; 7/22] END ..............n_neighbors=20;, score=0.707 total time=   0.0s\n",
      "[CV 5/5; 7/22] START n_neighbors=20.............................................\n",
      "[CV 5/5; 7/22] END ..............n_neighbors=20;, score=0.697 total time=   0.0s\n",
      "[CV 1/5; 8/22] START n_neighbors=6..............................................\n",
      "[CV 1/5; 8/22] END ...............n_neighbors=6;, score=0.699 total time=   0.0s\n",
      "[CV 2/5; 8/22] START n_neighbors=6..............................................\n",
      "[CV 2/5; 8/22] END ...............n_neighbors=6;, score=0.748 total time=   0.0s\n",
      "[CV 3/5; 8/22] START n_neighbors=6..............................................\n",
      "[CV 3/5; 8/22] END ...............n_neighbors=6;, score=0.715 total time=   0.0s\n",
      "[CV 4/5; 8/22] START n_neighbors=6..............................................\n",
      "[CV 4/5; 8/22] END ...............n_neighbors=6;, score=0.748 total time=   0.0s\n",
      "[CV 5/5; 8/22] START n_neighbors=6..............................................\n",
      "[CV 5/5; 8/22] END ...............n_neighbors=6;, score=0.721 total time=   0.0s\n",
      "[CV 1/5; 9/22] START n_neighbors=2..............................................\n",
      "[CV 1/5; 9/22] END ...............n_neighbors=2;, score=0.707 total time=   0.0s\n",
      "[CV 2/5; 9/22] START n_neighbors=2..............................................\n",
      "[CV 2/5; 9/22] END ...............n_neighbors=2;, score=0.715 total time=   0.0s\n",
      "[CV 3/5; 9/22] START n_neighbors=2..............................................\n",
      "[CV 3/5; 9/22] END ...............n_neighbors=2;, score=0.715 total time=   0.0s\n",
      "[CV 4/5; 9/22] START n_neighbors=2..............................................\n",
      "[CV 4/5; 9/22] END ...............n_neighbors=2;, score=0.724 total time=   0.0s\n",
      "[CV 5/5; 9/22] START n_neighbors=2..............................................\n",
      "[CV 5/5; 9/22] END ...............n_neighbors=2;, score=0.705 total time=   0.0s\n",
      "[CV 1/5; 10/22] START n_neighbors=1.............................................\n",
      "[CV 1/5; 10/22] END ..............n_neighbors=1;, score=0.683 total time=   0.0s\n",
      "[CV 2/5; 10/22] START n_neighbors=1.............................................\n",
      "[CV 2/5; 10/22] END ..............n_neighbors=1;, score=0.683 total time=   0.0s\n",
      "[CV 3/5; 10/22] START n_neighbors=1.............................................\n",
      "[CV 3/5; 10/22] END ..............n_neighbors=1;, score=0.667 total time=   0.0s\n",
      "[CV 4/5; 10/22] START n_neighbors=1.............................................\n",
      "[CV 4/5; 10/22] END ..............n_neighbors=1;, score=0.691 total time=   0.0s\n",
      "[CV 5/5; 10/22] START n_neighbors=1.............................................\n",
      "[CV 5/5; 10/22] END ..............n_neighbors=1;, score=0.656 total time=   0.0s\n",
      "[CV 1/5; 11/22] START n_neighbors=3.............................................\n",
      "[CV 1/5; 11/22] END ..............n_neighbors=3;, score=0.683 total time=   0.0s\n",
      "[CV 2/5; 11/22] START n_neighbors=3.............................................\n",
      "[CV 2/5; 11/22] END ..............n_neighbors=3;, score=0.756 total time=   0.0s\n",
      "[CV 3/5; 11/22] START n_neighbors=3.............................................\n",
      "[CV 3/5; 11/22] END ..............n_neighbors=3;, score=0.699 total time=   0.0s\n",
      "[CV 4/5; 11/22] START n_neighbors=3.............................................\n",
      "[CV 4/5; 11/22] END ..............n_neighbors=3;, score=0.748 total time=   0.0s\n",
      "[CV 5/5; 11/22] START n_neighbors=3.............................................\n",
      "[CV 5/5; 11/22] END ..............n_neighbors=3;, score=0.672 total time=   0.0s\n",
      "[CV 1/5; 12/22] START n_neighbors=34............................................\n",
      "[CV 1/5; 12/22] END .............n_neighbors=34;, score=0.699 total time=   0.0s\n",
      "[CV 2/5; 12/22] START n_neighbors=34............................................\n",
      "[CV 2/5; 12/22] END .............n_neighbors=34;, score=0.740 total time=   0.0s\n",
      "[CV 3/5; 12/22] START n_neighbors=34............................................\n",
      "[CV 3/5; 12/22] END .............n_neighbors=34;, score=0.715 total time=   0.0s\n",
      "[CV 4/5; 12/22] START n_neighbors=34............................................\n",
      "[CV 4/5; 12/22] END .............n_neighbors=34;, score=0.699 total time=   0.0s\n",
      "[CV 5/5; 12/22] START n_neighbors=34............................................\n",
      "[CV 5/5; 12/22] END .............n_neighbors=34;, score=0.738 total time=   0.0s\n",
      "[CV 1/5; 13/22] START n_neighbors=15............................................\n",
      "[CV 1/5; 13/22] END .............n_neighbors=15;, score=0.748 total time=   0.0s\n",
      "[CV 2/5; 13/22] START n_neighbors=15............................................\n",
      "[CV 2/5; 13/22] END .............n_neighbors=15;, score=0.756 total time=   0.0s\n",
      "[CV 3/5; 13/22] START n_neighbors=15............................................\n",
      "[CV 3/5; 13/22] END .............n_neighbors=15;, score=0.724 total time=   0.0s\n",
      "[CV 4/5; 13/22] START n_neighbors=15............................................\n",
      "[CV 4/5; 13/22] END .............n_neighbors=15;, score=0.740 total time=   0.0s\n",
      "[CV 5/5; 13/22] START n_neighbors=15............................................\n",
      "[CV 5/5; 13/22] END .............n_neighbors=15;, score=0.705 total time=   0.0s\n",
      "[CV 1/5; 14/22] START n_neighbors=16............................................\n",
      "[CV 1/5; 14/22] END .............n_neighbors=16;, score=0.715 total time=   0.0s\n",
      "[CV 2/5; 14/22] START n_neighbors=16............................................\n",
      "[CV 2/5; 14/22] END .............n_neighbors=16;, score=0.772 total time=   0.0s\n",
      "[CV 3/5; 14/22] START n_neighbors=16............................................\n",
      "[CV 3/5; 14/22] END .............n_neighbors=16;, score=0.756 total time=   0.0s\n",
      "[CV 4/5; 14/22] START n_neighbors=16............................................\n",
      "[CV 4/5; 14/22] END .............n_neighbors=16;, score=0.724 total time=   0.0s\n",
      "[CV 5/5; 14/22] START n_neighbors=16............................................\n",
      "[CV 5/5; 14/22] END .............n_neighbors=16;, score=0.705 total time=   0.0s\n",
      "[CV 1/5; 15/22] START n_neighbors=24............................................\n",
      "[CV 1/5; 15/22] END .............n_neighbors=24;, score=0.691 total time=   0.0s\n",
      "[CV 2/5; 15/22] START n_neighbors=24............................................\n",
      "[CV 2/5; 15/22] END .............n_neighbors=24;, score=0.789 total time=   0.0s\n",
      "[CV 3/5; 15/22] START n_neighbors=24............................................\n",
      "[CV 3/5; 15/22] END .............n_neighbors=24;, score=0.724 total time=   0.0s\n",
      "[CV 4/5; 15/22] START n_neighbors=24............................................\n",
      "[CV 4/5; 15/22] END .............n_neighbors=24;, score=0.715 total time=   0.0s\n",
      "[CV 5/5; 15/22] START n_neighbors=24............................................\n",
      "[CV 5/5; 15/22] END .............n_neighbors=24;, score=0.721 total time=   0.0s\n",
      "[CV 1/5; 16/22] START n_neighbors=28............................................\n",
      "[CV 1/5; 16/22] END .............n_neighbors=28;, score=0.699 total time=   0.0s\n",
      "[CV 2/5; 16/22] START n_neighbors=28............................................\n",
      "[CV 2/5; 16/22] END .............n_neighbors=28;, score=0.780 total time=   0.0s\n",
      "[CV 3/5; 16/22] START n_neighbors=28............................................\n",
      "[CV 3/5; 16/22] END .............n_neighbors=28;, score=0.732 total time=   0.0s\n",
      "[CV 4/5; 16/22] START n_neighbors=28............................................\n",
      "[CV 4/5; 16/22] END .............n_neighbors=28;, score=0.691 total time=   0.0s\n",
      "[CV 5/5; 16/22] START n_neighbors=28............................................\n",
      "[CV 5/5; 16/22] END .............n_neighbors=28;, score=0.713 total time=   0.0s\n",
      "[CV 1/5; 17/22] START leaf_size=2...............................................\n",
      "[CV 1/5; 17/22] END ................leaf_size=2;, score=0.667 total time=   0.0s\n",
      "[CV 2/5; 17/22] START leaf_size=2...............................................\n",
      "[CV 2/5; 17/22] END ................leaf_size=2;, score=0.764 total time=   0.0s\n",
      "[CV 3/5; 17/22] START leaf_size=2...............................................\n",
      "[CV 3/5; 17/22] END ................leaf_size=2;, score=0.748 total time=   0.0s\n",
      "[CV 4/5; 17/22] START leaf_size=2...............................................\n",
      "[CV 4/5; 17/22] END ................leaf_size=2;, score=0.715 total time=   0.0s\n",
      "[CV 5/5; 17/22] START leaf_size=2...............................................\n",
      "[CV 5/5; 17/22] END ................leaf_size=2;, score=0.770 total time=   0.0s\n",
      "[CV 1/5; 18/22] START leaf_size=4...............................................\n",
      "[CV 1/5; 18/22] END ................leaf_size=4;, score=0.667 total time=   0.0s\n",
      "[CV 2/5; 18/22] START leaf_size=4...............................................\n",
      "[CV 2/5; 18/22] END ................leaf_size=4;, score=0.764 total time=   0.0s\n",
      "[CV 3/5; 18/22] START leaf_size=4...............................................\n",
      "[CV 3/5; 18/22] END ................leaf_size=4;, score=0.748 total time=   0.0s\n",
      "[CV 4/5; 18/22] START leaf_size=4...............................................\n",
      "[CV 4/5; 18/22] END ................leaf_size=4;, score=0.715 total time=   0.0s\n",
      "[CV 5/5; 18/22] START leaf_size=4...............................................\n",
      "[CV 5/5; 18/22] END ................leaf_size=4;, score=0.770 total time=   0.0s\n",
      "[CV 1/5; 19/22] START leaf_size=3...............................................\n",
      "[CV 1/5; 19/22] END ................leaf_size=3;, score=0.667 total time=   0.0s\n",
      "[CV 2/5; 19/22] START leaf_size=3...............................................\n",
      "[CV 2/5; 19/22] END ................leaf_size=3;, score=0.764 total time=   0.0s\n",
      "[CV 3/5; 19/22] START leaf_size=3...............................................\n",
      "[CV 3/5; 19/22] END ................leaf_size=3;, score=0.748 total time=   0.0s\n",
      "[CV 4/5; 19/22] START leaf_size=3...............................................\n",
      "[CV 4/5; 19/22] END ................leaf_size=3;, score=0.715 total time=   0.0s\n",
      "[CV 5/5; 19/22] START leaf_size=3...............................................\n",
      "[CV 5/5; 19/22] END ................leaf_size=3;, score=0.770 total time=   0.0s\n",
      "[CV 1/5; 20/22] START leaf_size=10..............................................\n",
      "[CV 1/5; 20/22] END ...............leaf_size=10;, score=0.667 total time=   0.0s\n",
      "[CV 2/5; 20/22] START leaf_size=10..............................................\n",
      "[CV 2/5; 20/22] END ...............leaf_size=10;, score=0.764 total time=   0.0s\n",
      "[CV 3/5; 20/22] START leaf_size=10..............................................\n",
      "[CV 3/5; 20/22] END ...............leaf_size=10;, score=0.748 total time=   0.0s\n",
      "[CV 4/5; 20/22] START leaf_size=10..............................................\n",
      "[CV 4/5; 20/22] END ...............leaf_size=10;, score=0.715 total time=   0.0s\n",
      "[CV 5/5; 20/22] START leaf_size=10..............................................\n",
      "[CV 5/5; 20/22] END ...............leaf_size=10;, score=0.770 total time=   0.0s\n",
      "[CV 1/5; 21/22] START leaf_size=5...............................................\n",
      "[CV 1/5; 21/22] END ................leaf_size=5;, score=0.667 total time=   0.0s\n",
      "[CV 2/5; 21/22] START leaf_size=5...............................................\n",
      "[CV 2/5; 21/22] END ................leaf_size=5;, score=0.764 total time=   0.0s\n",
      "[CV 3/5; 21/22] START leaf_size=5...............................................\n",
      "[CV 3/5; 21/22] END ................leaf_size=5;, score=0.748 total time=   0.0s\n",
      "[CV 4/5; 21/22] START leaf_size=5...............................................\n",
      "[CV 4/5; 21/22] END ................leaf_size=5;, score=0.715 total time=   0.0s\n",
      "[CV 5/5; 21/22] START leaf_size=5...............................................\n",
      "[CV 5/5; 21/22] END ................leaf_size=5;, score=0.770 total time=   0.0s\n",
      "[CV 1/5; 22/22] START leaf_size=1...............................................\n",
      "[CV 1/5; 22/22] END ................leaf_size=1;, score=0.667 total time=   0.0s\n",
      "[CV 2/5; 22/22] START leaf_size=1...............................................\n",
      "[CV 2/5; 22/22] END ................leaf_size=1;, score=0.764 total time=   0.0s\n",
      "[CV 3/5; 22/22] START leaf_size=1...............................................\n",
      "[CV 3/5; 22/22] END ................leaf_size=1;, score=0.748 total time=   0.0s\n",
      "[CV 4/5; 22/22] START leaf_size=1...............................................\n",
      "[CV 4/5; 22/22] END ................leaf_size=1;, score=0.715 total time=   0.0s\n",
      "[CV 5/5; 22/22] START leaf_size=1...............................................\n",
      "[CV 5/5; 22/22] END ................leaf_size=1;, score=0.770 total time=   0.0s\n"
     ]
    },
    {
     "data": {
      "text/html": [
       "<style>#sk-container-id-11 {color: black;background-color: white;}#sk-container-id-11 pre{padding: 0;}#sk-container-id-11 div.sk-toggleable {background-color: white;}#sk-container-id-11 label.sk-toggleable__label {cursor: pointer;display: block;width: 100%;margin-bottom: 0;padding: 0.3em;box-sizing: border-box;text-align: center;}#sk-container-id-11 label.sk-toggleable__label-arrow:before {content: \"▸\";float: left;margin-right: 0.25em;color: #696969;}#sk-container-id-11 label.sk-toggleable__label-arrow:hover:before {color: black;}#sk-container-id-11 div.sk-estimator:hover label.sk-toggleable__label-arrow:before {color: black;}#sk-container-id-11 div.sk-toggleable__content {max-height: 0;max-width: 0;overflow: hidden;text-align: left;background-color: #f0f8ff;}#sk-container-id-11 div.sk-toggleable__content pre {margin: 0.2em;color: black;border-radius: 0.25em;background-color: #f0f8ff;}#sk-container-id-11 input.sk-toggleable__control:checked~div.sk-toggleable__content {max-height: 200px;max-width: 100%;overflow: auto;}#sk-container-id-11 input.sk-toggleable__control:checked~label.sk-toggleable__label-arrow:before {content: \"▾\";}#sk-container-id-11 div.sk-estimator input.sk-toggleable__control:checked~label.sk-toggleable__label {background-color: #d4ebff;}#sk-container-id-11 div.sk-label input.sk-toggleable__control:checked~label.sk-toggleable__label {background-color: #d4ebff;}#sk-container-id-11 input.sk-hidden--visually {border: 0;clip: rect(1px 1px 1px 1px);clip: rect(1px, 1px, 1px, 1px);height: 1px;margin: -1px;overflow: hidden;padding: 0;position: absolute;width: 1px;}#sk-container-id-11 div.sk-estimator {font-family: monospace;background-color: #f0f8ff;border: 1px dotted black;border-radius: 0.25em;box-sizing: border-box;margin-bottom: 0.5em;}#sk-container-id-11 div.sk-estimator:hover {background-color: #d4ebff;}#sk-container-id-11 div.sk-parallel-item::after {content: \"\";width: 100%;border-bottom: 1px solid gray;flex-grow: 1;}#sk-container-id-11 div.sk-label:hover label.sk-toggleable__label {background-color: #d4ebff;}#sk-container-id-11 div.sk-serial::before {content: \"\";position: absolute;border-left: 1px solid gray;box-sizing: border-box;top: 0;bottom: 0;left: 50%;z-index: 0;}#sk-container-id-11 div.sk-serial {display: flex;flex-direction: column;align-items: center;background-color: white;padding-right: 0.2em;padding-left: 0.2em;position: relative;}#sk-container-id-11 div.sk-item {position: relative;z-index: 1;}#sk-container-id-11 div.sk-parallel {display: flex;align-items: stretch;justify-content: center;background-color: white;position: relative;}#sk-container-id-11 div.sk-item::before, #sk-container-id-11 div.sk-parallel-item::before {content: \"\";position: absolute;border-left: 1px solid gray;box-sizing: border-box;top: 0;bottom: 0;left: 50%;z-index: -1;}#sk-container-id-11 div.sk-parallel-item {display: flex;flex-direction: column;z-index: 1;position: relative;background-color: white;}#sk-container-id-11 div.sk-parallel-item:first-child::after {align-self: flex-end;width: 50%;}#sk-container-id-11 div.sk-parallel-item:last-child::after {align-self: flex-start;width: 50%;}#sk-container-id-11 div.sk-parallel-item:only-child::after {width: 0;}#sk-container-id-11 div.sk-dashed-wrapped {border: 1px dashed gray;margin: 0 0.4em 0.5em 0.4em;box-sizing: border-box;padding-bottom: 0.4em;background-color: white;}#sk-container-id-11 div.sk-label label {font-family: monospace;font-weight: bold;display: inline-block;line-height: 1.2em;}#sk-container-id-11 div.sk-label-container {text-align: center;}#sk-container-id-11 div.sk-container {/* jupyter's `normalize.less` sets `[hidden] { display: none; }` but bootstrap.min.css set `[hidden] { display: none !important; }` so we also need the `!important` here to be able to override the default hidden behavior on the sphinx rendered scikit-learn.org. See: https://github.com/scikit-learn/scikit-learn/issues/21755 */display: inline-block !important;position: relative;}#sk-container-id-11 div.sk-text-repr-fallback {display: none;}</style><div id=\"sk-container-id-11\" class=\"sk-top-container\"><div class=\"sk-text-repr-fallback\"><pre>GridSearchCV(cv=5, estimator=KNeighborsClassifier(n_neighbors=10),\n",
       "             param_grid=[{&#x27;n_neighbors&#x27;: [4, 5, 7, 9, 10, 30, 20, 6, 2, 1, 3,\n",
       "                                          34, 15, 16, 24, 28]},\n",
       "                         {&#x27;leaf_size&#x27;: [2, 4, 3, 10, 5, 1]}],\n",
       "             verbose=16)</pre><b>In a Jupyter environment, please rerun this cell to show the HTML representation or trust the notebook. <br />On GitHub, the HTML representation is unable to render, please try loading this page with nbviewer.org.</b></div><div class=\"sk-container\" hidden><div class=\"sk-item sk-dashed-wrapped\"><div class=\"sk-label-container\"><div class=\"sk-label sk-toggleable\"><input class=\"sk-toggleable__control sk-hidden--visually\" id=\"sk-estimator-id-21\" type=\"checkbox\" ><label for=\"sk-estimator-id-21\" class=\"sk-toggleable__label sk-toggleable__label-arrow\">GridSearchCV</label><div class=\"sk-toggleable__content\"><pre>GridSearchCV(cv=5, estimator=KNeighborsClassifier(n_neighbors=10),\n",
       "             param_grid=[{&#x27;n_neighbors&#x27;: [4, 5, 7, 9, 10, 30, 20, 6, 2, 1, 3,\n",
       "                                          34, 15, 16, 24, 28]},\n",
       "                         {&#x27;leaf_size&#x27;: [2, 4, 3, 10, 5, 1]}],\n",
       "             verbose=16)</pre></div></div></div><div class=\"sk-parallel\"><div class=\"sk-parallel-item\"><div class=\"sk-item\"><div class=\"sk-label-container\"><div class=\"sk-label sk-toggleable\"><input class=\"sk-toggleable__control sk-hidden--visually\" id=\"sk-estimator-id-22\" type=\"checkbox\" ><label for=\"sk-estimator-id-22\" class=\"sk-toggleable__label sk-toggleable__label-arrow\">estimator: KNeighborsClassifier</label><div class=\"sk-toggleable__content\"><pre>KNeighborsClassifier(n_neighbors=10)</pre></div></div></div><div class=\"sk-serial\"><div class=\"sk-item\"><div class=\"sk-estimator sk-toggleable\"><input class=\"sk-toggleable__control sk-hidden--visually\" id=\"sk-estimator-id-23\" type=\"checkbox\" ><label for=\"sk-estimator-id-23\" class=\"sk-toggleable__label sk-toggleable__label-arrow\">KNeighborsClassifier</label><div class=\"sk-toggleable__content\"><pre>KNeighborsClassifier(n_neighbors=10)</pre></div></div></div></div></div></div></div></div></div></div>"
      ],
      "text/plain": [
       "GridSearchCV(cv=5, estimator=KNeighborsClassifier(n_neighbors=10),\n",
       "             param_grid=[{'n_neighbors': [4, 5, 7, 9, 10, 30, 20, 6, 2, 1, 3,\n",
       "                                          34, 15, 16, 24, 28]},\n",
       "                         {'leaf_size': [2, 4, 3, 10, 5, 1]}],\n",
       "             verbose=16)"
      ]
     },
     "execution_count": 50,
     "metadata": {},
     "output_type": "execute_result"
    }
   ],
   "source": [
    "#optimisons le model knn\n",
    "#parametre du grid\n",
    "params=[\n",
    "    {'n_neighbors':[4,5,7,9,10,30,20,6,2,1,3,34,15,16,24,28]},\n",
    "    {'leaf_size':[2,4,3,10,5,1]}\n",
    "    \n",
    "]\n",
    "##instantiation du model\n",
    "knn_best_model=GridSearchCV(knn,params,cv=5,verbose=16)\n",
    "knn_best_model.fit(X_train,Y_train)"
   ]
  },
  {
   "cell_type": "code",
   "execution_count": 51,
   "id": "376466de-1790-4492-918b-643eafe37c4e",
   "metadata": {},
   "outputs": [
    {
     "data": {
      "text/plain": [
       "{'n_neighbors': 9}"
      ]
     },
     "execution_count": 51,
     "metadata": {},
     "output_type": "execute_result"
    }
   ],
   "source": [
    "#parametres optionnaux\n",
    "knn_best_model.best_params_"
   ]
  },
  {
   "cell_type": "code",
   "execution_count": 52,
   "id": "1dda12e5-df53-447e-ad9e-47e63e5a800e",
   "metadata": {},
   "outputs": [],
   "source": [
    "#model optimal\n",
    "knn_best_model.best_estimator_\n",
    "pred_knn_best = knn_best_model.best_estimator_.predict(X_test)"
   ]
  },
  {
   "cell_type": "code",
   "execution_count": 53,
   "id": "7d151ded-d4a0-42c8-9d73-ca2f64670e72",
   "metadata": {},
   "outputs": [
    {
     "data": {
      "text/plain": [
       "0.7377982140477143"
      ]
     },
     "execution_count": 53,
     "metadata": {},
     "output_type": "execute_result"
    }
   ],
   "source": [
    "#meilleur score\n",
    "knn_best_model.best_score_"
   ]
  },
  {
   "cell_type": "code",
   "execution_count": 54,
   "id": "b42fd1df-1682-4aa3-83e3-39e9b4e70c91",
   "metadata": {},
   "outputs": [
    {
     "name": "stdout",
     "output_type": "stream",
     "text": [
      "le taux accuracy knn est de 0.7402597402597403\n",
      "le taux accuracy knn_best est de 0.7142857142857143\n"
     ]
    }
   ],
   "source": [
    "#Calculons le taux d'accuracy\n",
    "knn_acc = accuracy_score(Y_test,pred_knn)\n",
    "print('le taux accuracy knn est de', knn_acc)\n",
    "\n",
    "knn_best_acc = accuracy_score(Y_test,pred_knn_best)\n",
    "print('le taux accuracy knn_best est de', knn_best_acc)"
   ]
  },
  {
   "cell_type": "code",
   "execution_count": 55,
   "id": "51b60f59-61b9-4fa6-99d0-5ba0a0b3757a",
   "metadata": {},
   "outputs": [
    {
     "name": "stderr",
     "output_type": "stream",
     "text": [
      "C:\\Users\\lenovo\\AppData\\Local\\Programs\\Python\\Python310\\lib\\site-packages\\sklearn\\linear_model\\_logistic.py:444: ConvergenceWarning: lbfgs failed to converge (status=1):\n",
      "STOP: TOTAL NO. of ITERATIONS REACHED LIMIT.\n",
      "\n",
      "Increase the number of iterations (max_iter) or scale the data as shown in:\n",
      "    https://scikit-learn.org/stable/modules/preprocessing.html\n",
      "Please also refer to the documentation for alternative solver options:\n",
      "    https://scikit-learn.org/stable/modules/linear_model.html#logistic-regression\n",
      "  n_iter_i = _check_optimize_result(\n"
     ]
    }
   ],
   "source": [
    "#Appliquons un modele de regression Logistic\n",
    "#instanciation\n",
    "from sklearn.linear_model import LogisticRegression\n",
    "lr = LogisticRegression()\n",
    "lr\n",
    "#fitting du model\n",
    "lr.fit(X_train,Y_train)\n",
    "#prediction\n",
    "pred_lr = lr.predict(X_test)"
   ]
  },
  {
   "cell_type": "code",
   "execution_count": 56,
   "id": "82197a7d-5457-4c14-9112-ec03c4104311",
   "metadata": {},
   "outputs": [
    {
     "name": "stdout",
     "output_type": "stream",
     "text": [
      "Fitting 5 folds for each of 15 candidates, totalling 75 fits\n",
      "[CV 1/5; 1/15] START penalty=l1.................................................\n",
      "[CV 1/5; 1/15] END ....................penalty=l1;, score=nan total time=   0.0s\n",
      "[CV 2/5; 1/15] START penalty=l1.................................................\n",
      "[CV 2/5; 1/15] END ....................penalty=l1;, score=nan total time=   0.0s\n",
      "[CV 3/5; 1/15] START penalty=l1.................................................\n",
      "[CV 3/5; 1/15] END ....................penalty=l1;, score=nan total time=   0.0s\n",
      "[CV 4/5; 1/15] START penalty=l1.................................................\n",
      "[CV 4/5; 1/15] END ....................penalty=l1;, score=nan total time=   0.0s\n",
      "[CV 5/5; 1/15] START penalty=l1.................................................\n",
      "[CV 5/5; 1/15] END ....................penalty=l1;, score=nan total time=   0.0s\n",
      "[CV 1/5; 2/15] START penalty=l2.................................................\n",
      "[CV 1/5; 2/15] END ..................penalty=l2;, score=0.772 total time=   0.0s\n",
      "[CV 2/5; 2/15] START penalty=l2.................................................\n",
      "[CV 2/5; 2/15] END ..................penalty=l2;, score=0.780 total time=   0.0s\n",
      "[CV 3/5; 2/15] START penalty=l2.................................................\n",
      "[CV 3/5; 2/15] END ..................penalty=l2;, score=0.748 total time=   0.0s\n",
      "[CV 4/5; 2/15] START penalty=l2.................................................\n",
      "[CV 4/5; 2/15] END ..................penalty=l2;, score=0.764 total time=   0.0s\n",
      "[CV 5/5; 2/15] START penalty=l2.................................................\n"
     ]
    },
    {
     "name": "stderr",
     "output_type": "stream",
     "text": [
      "C:\\Users\\lenovo\\AppData\\Local\\Programs\\Python\\Python310\\lib\\site-packages\\sklearn\\linear_model\\_logistic.py:444: ConvergenceWarning: lbfgs failed to converge (status=1):\n",
      "STOP: TOTAL NO. of ITERATIONS REACHED LIMIT.\n",
      "\n",
      "Increase the number of iterations (max_iter) or scale the data as shown in:\n",
      "    https://scikit-learn.org/stable/modules/preprocessing.html\n",
      "Please also refer to the documentation for alternative solver options:\n",
      "    https://scikit-learn.org/stable/modules/linear_model.html#logistic-regression\n",
      "  n_iter_i = _check_optimize_result(\n",
      "C:\\Users\\lenovo\\AppData\\Local\\Programs\\Python\\Python310\\lib\\site-packages\\sklearn\\linear_model\\_logistic.py:444: ConvergenceWarning: lbfgs failed to converge (status=1):\n",
      "STOP: TOTAL NO. of ITERATIONS REACHED LIMIT.\n",
      "\n",
      "Increase the number of iterations (max_iter) or scale the data as shown in:\n",
      "    https://scikit-learn.org/stable/modules/preprocessing.html\n",
      "Please also refer to the documentation for alternative solver options:\n",
      "    https://scikit-learn.org/stable/modules/linear_model.html#logistic-regression\n",
      "  n_iter_i = _check_optimize_result(\n",
      "C:\\Users\\lenovo\\AppData\\Local\\Programs\\Python\\Python310\\lib\\site-packages\\sklearn\\linear_model\\_logistic.py:444: ConvergenceWarning: lbfgs failed to converge (status=1):\n",
      "STOP: TOTAL NO. of ITERATIONS REACHED LIMIT.\n",
      "\n",
      "Increase the number of iterations (max_iter) or scale the data as shown in:\n",
      "    https://scikit-learn.org/stable/modules/preprocessing.html\n",
      "Please also refer to the documentation for alternative solver options:\n",
      "    https://scikit-learn.org/stable/modules/linear_model.html#logistic-regression\n",
      "  n_iter_i = _check_optimize_result(\n",
      "C:\\Users\\lenovo\\AppData\\Local\\Programs\\Python\\Python310\\lib\\site-packages\\sklearn\\linear_model\\_logistic.py:444: ConvergenceWarning: lbfgs failed to converge (status=1):\n",
      "STOP: TOTAL NO. of ITERATIONS REACHED LIMIT.\n",
      "\n",
      "Increase the number of iterations (max_iter) or scale the data as shown in:\n",
      "    https://scikit-learn.org/stable/modules/preprocessing.html\n",
      "Please also refer to the documentation for alternative solver options:\n",
      "    https://scikit-learn.org/stable/modules/linear_model.html#logistic-regression\n",
      "  n_iter_i = _check_optimize_result(\n",
      "C:\\Users\\lenovo\\AppData\\Local\\Programs\\Python\\Python310\\lib\\site-packages\\sklearn\\linear_model\\_logistic.py:444: ConvergenceWarning: lbfgs failed to converge (status=1):\n",
      "STOP: TOTAL NO. of ITERATIONS REACHED LIMIT.\n",
      "\n",
      "Increase the number of iterations (max_iter) or scale the data as shown in:\n",
      "    https://scikit-learn.org/stable/modules/preprocessing.html\n",
      "Please also refer to the documentation for alternative solver options:\n",
      "    https://scikit-learn.org/stable/modules/linear_model.html#logistic-regression\n",
      "  n_iter_i = _check_optimize_result(\n"
     ]
    },
    {
     "name": "stdout",
     "output_type": "stream",
     "text": [
      "[CV 5/5; 2/15] END ..................penalty=l2;, score=0.730 total time=   0.0s\n",
      "[CV 1/5; 3/15] START penalty=elasticnet.........................................\n",
      "[CV 1/5; 3/15] END ............penalty=elasticnet;, score=nan total time=   0.0s\n",
      "[CV 2/5; 3/15] START penalty=elasticnet.........................................\n",
      "[CV 2/5; 3/15] END ............penalty=elasticnet;, score=nan total time=   0.0s\n",
      "[CV 3/5; 3/15] START penalty=elasticnet.........................................\n",
      "[CV 3/5; 3/15] END ............penalty=elasticnet;, score=nan total time=   0.0s\n",
      "[CV 4/5; 3/15] START penalty=elasticnet.........................................\n",
      "[CV 4/5; 3/15] END ............penalty=elasticnet;, score=nan total time=   0.0s\n",
      "[CV 5/5; 3/15] START penalty=elasticnet.........................................\n",
      "[CV 5/5; 3/15] END ............penalty=elasticnet;, score=nan total time=   0.0s\n",
      "[CV 1/5; 4/15] START penalty=none...............................................\n"
     ]
    },
    {
     "name": "stderr",
     "output_type": "stream",
     "text": [
      "C:\\Users\\lenovo\\AppData\\Local\\Programs\\Python\\Python310\\lib\\site-packages\\sklearn\\linear_model\\_logistic.py:444: ConvergenceWarning: lbfgs failed to converge (status=1):\n",
      "STOP: TOTAL NO. of ITERATIONS REACHED LIMIT.\n",
      "\n",
      "Increase the number of iterations (max_iter) or scale the data as shown in:\n",
      "    https://scikit-learn.org/stable/modules/preprocessing.html\n",
      "Please also refer to the documentation for alternative solver options:\n",
      "    https://scikit-learn.org/stable/modules/linear_model.html#logistic-regression\n",
      "  n_iter_i = _check_optimize_result(\n",
      "C:\\Users\\lenovo\\AppData\\Local\\Programs\\Python\\Python310\\lib\\site-packages\\sklearn\\linear_model\\_logistic.py:444: ConvergenceWarning: lbfgs failed to converge (status=1):\n",
      "STOP: TOTAL NO. of ITERATIONS REACHED LIMIT.\n",
      "\n",
      "Increase the number of iterations (max_iter) or scale the data as shown in:\n",
      "    https://scikit-learn.org/stable/modules/preprocessing.html\n",
      "Please also refer to the documentation for alternative solver options:\n",
      "    https://scikit-learn.org/stable/modules/linear_model.html#logistic-regression\n",
      "  n_iter_i = _check_optimize_result(\n"
     ]
    },
    {
     "name": "stdout",
     "output_type": "stream",
     "text": [
      "[CV 1/5; 4/15] END ................penalty=none;, score=0.772 total time=   0.0s\n",
      "[CV 2/5; 4/15] START penalty=none...............................................\n",
      "[CV 2/5; 4/15] END ................penalty=none;, score=0.780 total time=   0.0s\n",
      "[CV 3/5; 4/15] START penalty=none...............................................\n",
      "[CV 3/5; 4/15] END ................penalty=none;, score=0.724 total time=   0.0s\n",
      "[CV 4/5; 4/15] START penalty=none...............................................\n",
      "[CV 4/5; 4/15] END ................penalty=none;, score=0.764 total time=   0.0s\n",
      "[CV 5/5; 4/15] START penalty=none...............................................\n",
      "[CV 5/5; 4/15] END ................penalty=none;, score=0.770 total time=   0.0s\n",
      "[CV 1/5; 5/15] START solver=newton-cg...........................................\n"
     ]
    },
    {
     "name": "stderr",
     "output_type": "stream",
     "text": [
      "C:\\Users\\lenovo\\AppData\\Local\\Programs\\Python\\Python310\\lib\\site-packages\\sklearn\\linear_model\\_logistic.py:444: ConvergenceWarning: lbfgs failed to converge (status=1):\n",
      "STOP: TOTAL NO. of ITERATIONS REACHED LIMIT.\n",
      "\n",
      "Increase the number of iterations (max_iter) or scale the data as shown in:\n",
      "    https://scikit-learn.org/stable/modules/preprocessing.html\n",
      "Please also refer to the documentation for alternative solver options:\n",
      "    https://scikit-learn.org/stable/modules/linear_model.html#logistic-regression\n",
      "  n_iter_i = _check_optimize_result(\n",
      "C:\\Users\\lenovo\\AppData\\Local\\Programs\\Python\\Python310\\lib\\site-packages\\sklearn\\linear_model\\_logistic.py:444: ConvergenceWarning: lbfgs failed to converge (status=1):\n",
      "STOP: TOTAL NO. of ITERATIONS REACHED LIMIT.\n",
      "\n",
      "Increase the number of iterations (max_iter) or scale the data as shown in:\n",
      "    https://scikit-learn.org/stable/modules/preprocessing.html\n",
      "Please also refer to the documentation for alternative solver options:\n",
      "    https://scikit-learn.org/stable/modules/linear_model.html#logistic-regression\n",
      "  n_iter_i = _check_optimize_result(\n",
      "C:\\Users\\lenovo\\AppData\\Local\\Programs\\Python\\Python310\\lib\\site-packages\\sklearn\\linear_model\\_logistic.py:444: ConvergenceWarning: lbfgs failed to converge (status=1):\n",
      "STOP: TOTAL NO. of ITERATIONS REACHED LIMIT.\n",
      "\n",
      "Increase the number of iterations (max_iter) or scale the data as shown in:\n",
      "    https://scikit-learn.org/stable/modules/preprocessing.html\n",
      "Please also refer to the documentation for alternative solver options:\n",
      "    https://scikit-learn.org/stable/modules/linear_model.html#logistic-regression\n",
      "  n_iter_i = _check_optimize_result(\n"
     ]
    },
    {
     "name": "stdout",
     "output_type": "stream",
     "text": [
      "[CV 1/5; 5/15] END ............solver=newton-cg;, score=0.772 total time=   0.0s\n",
      "[CV 2/5; 5/15] START solver=newton-cg...........................................\n",
      "[CV 2/5; 5/15] END ............solver=newton-cg;, score=0.780 total time=   0.0s\n",
      "[CV 3/5; 5/15] START solver=newton-cg...........................................\n",
      "[CV 3/5; 5/15] END ............solver=newton-cg;, score=0.764 total time=   0.0s\n",
      "[CV 4/5; 5/15] START solver=newton-cg...........................................\n",
      "[CV 4/5; 5/15] END ............solver=newton-cg;, score=0.764 total time=   0.0s\n",
      "[CV 5/5; 5/15] START solver=newton-cg...........................................\n",
      "[CV 5/5; 5/15] END ............solver=newton-cg;, score=0.730 total time=   0.0s\n",
      "[CV 1/5; 6/15] START solver=lbfgs...............................................\n",
      "[CV 1/5; 6/15] END ................solver=lbfgs;, score=0.772 total time=   0.0s\n",
      "[CV 2/5; 6/15] START solver=lbfgs...............................................\n",
      "[CV 2/5; 6/15] END ................solver=lbfgs;, score=0.780 total time=   0.0s\n",
      "[CV 3/5; 6/15] START solver=lbfgs...............................................\n",
      "[CV 3/5; 6/15] END ................solver=lbfgs;, score=0.748 total time=   0.0s\n",
      "[CV 4/5; 6/15] START solver=lbfgs...............................................\n",
      "[CV 4/5; 6/15] END ................solver=lbfgs;, score=0.764 total time=   0.0s\n",
      "[CV 5/5; 6/15] START solver=lbfgs...............................................\n",
      "[CV 5/5; 6/15] END ................solver=lbfgs;, score=0.730 total time=   0.0s\n",
      "[CV 1/5; 7/15] START solver=liblinear...........................................\n",
      "[CV 1/5; 7/15] END ............solver=liblinear;, score=0.780 total time=   0.0s\n",
      "[CV 2/5; 7/15] START solver=liblinear...........................................\n",
      "[CV 2/5; 7/15] END ............solver=liblinear;, score=0.764 total time=   0.0s\n",
      "[CV 3/5; 7/15] START solver=liblinear...........................................\n",
      "[CV 3/5; 7/15] END ............solver=liblinear;, score=0.748 total time=   0.0s\n",
      "[CV 4/5; 7/15] START solver=liblinear...........................................\n",
      "[CV 4/5; 7/15] END ............solver=liblinear;, score=0.772 total time=   0.0s\n",
      "[CV 5/5; 7/15] START solver=liblinear...........................................\n",
      "[CV 5/5; 7/15] END ............solver=liblinear;, score=0.730 total time=   0.0s\n",
      "[CV 1/5; 8/15] START solver=sag.................................................\n",
      "[CV 1/5; 8/15] END ..................solver=sag;, score=0.675 total time=   0.0s\n",
      "[CV 2/5; 8/15] START solver=sag.................................................\n",
      "[CV 2/5; 8/15] END ..................solver=sag;, score=0.691 total time=   0.0s\n",
      "[CV 3/5; 8/15] START solver=sag.................................................\n"
     ]
    },
    {
     "name": "stderr",
     "output_type": "stream",
     "text": [
      "C:\\Users\\lenovo\\AppData\\Local\\Programs\\Python\\Python310\\lib\\site-packages\\sklearn\\linear_model\\_logistic.py:444: ConvergenceWarning: lbfgs failed to converge (status=1):\n",
      "STOP: TOTAL NO. of ITERATIONS REACHED LIMIT.\n",
      "\n",
      "Increase the number of iterations (max_iter) or scale the data as shown in:\n",
      "    https://scikit-learn.org/stable/modules/preprocessing.html\n",
      "Please also refer to the documentation for alternative solver options:\n",
      "    https://scikit-learn.org/stable/modules/linear_model.html#logistic-regression\n",
      "  n_iter_i = _check_optimize_result(\n",
      "C:\\Users\\lenovo\\AppData\\Local\\Programs\\Python\\Python310\\lib\\site-packages\\sklearn\\linear_model\\_logistic.py:444: ConvergenceWarning: lbfgs failed to converge (status=1):\n",
      "STOP: TOTAL NO. of ITERATIONS REACHED LIMIT.\n",
      "\n",
      "Increase the number of iterations (max_iter) or scale the data as shown in:\n",
      "    https://scikit-learn.org/stable/modules/preprocessing.html\n",
      "Please also refer to the documentation for alternative solver options:\n",
      "    https://scikit-learn.org/stable/modules/linear_model.html#logistic-regression\n",
      "  n_iter_i = _check_optimize_result(\n",
      "C:\\Users\\lenovo\\AppData\\Local\\Programs\\Python\\Python310\\lib\\site-packages\\sklearn\\linear_model\\_logistic.py:444: ConvergenceWarning: lbfgs failed to converge (status=1):\n",
      "STOP: TOTAL NO. of ITERATIONS REACHED LIMIT.\n",
      "\n",
      "Increase the number of iterations (max_iter) or scale the data as shown in:\n",
      "    https://scikit-learn.org/stable/modules/preprocessing.html\n",
      "Please also refer to the documentation for alternative solver options:\n",
      "    https://scikit-learn.org/stable/modules/linear_model.html#logistic-regression\n",
      "  n_iter_i = _check_optimize_result(\n",
      "C:\\Users\\lenovo\\AppData\\Local\\Programs\\Python\\Python310\\lib\\site-packages\\sklearn\\linear_model\\_logistic.py:444: ConvergenceWarning: lbfgs failed to converge (status=1):\n",
      "STOP: TOTAL NO. of ITERATIONS REACHED LIMIT.\n",
      "\n",
      "Increase the number of iterations (max_iter) or scale the data as shown in:\n",
      "    https://scikit-learn.org/stable/modules/preprocessing.html\n",
      "Please also refer to the documentation for alternative solver options:\n",
      "    https://scikit-learn.org/stable/modules/linear_model.html#logistic-regression\n",
      "  n_iter_i = _check_optimize_result(\n",
      "C:\\Users\\lenovo\\AppData\\Local\\Programs\\Python\\Python310\\lib\\site-packages\\sklearn\\linear_model\\_logistic.py:444: ConvergenceWarning: lbfgs failed to converge (status=1):\n",
      "STOP: TOTAL NO. of ITERATIONS REACHED LIMIT.\n",
      "\n",
      "Increase the number of iterations (max_iter) or scale the data as shown in:\n",
      "    https://scikit-learn.org/stable/modules/preprocessing.html\n",
      "Please also refer to the documentation for alternative solver options:\n",
      "    https://scikit-learn.org/stable/modules/linear_model.html#logistic-regression\n",
      "  n_iter_i = _check_optimize_result(\n",
      "C:\\Users\\lenovo\\AppData\\Local\\Programs\\Python\\Python310\\lib\\site-packages\\sklearn\\linear_model\\_sag.py:350: ConvergenceWarning: The max_iter was reached which means the coef_ did not converge\n",
      "  warnings.warn(\n",
      "C:\\Users\\lenovo\\AppData\\Local\\Programs\\Python\\Python310\\lib\\site-packages\\sklearn\\linear_model\\_sag.py:350: ConvergenceWarning: The max_iter was reached which means the coef_ did not converge\n",
      "  warnings.warn(\n",
      "C:\\Users\\lenovo\\AppData\\Local\\Programs\\Python\\Python310\\lib\\site-packages\\sklearn\\linear_model\\_sag.py:350: ConvergenceWarning: The max_iter was reached which means the coef_ did not converge\n",
      "  warnings.warn(\n"
     ]
    },
    {
     "name": "stdout",
     "output_type": "stream",
     "text": [
      "[CV 3/5; 8/15] END ..................solver=sag;, score=0.650 total time=   0.0s\n",
      "[CV 4/5; 8/15] START solver=sag.................................................\n",
      "[CV 4/5; 8/15] END ..................solver=sag;, score=0.707 total time=   0.0s\n",
      "[CV 5/5; 8/15] START solver=sag.................................................\n",
      "[CV 5/5; 8/15] END ..................solver=sag;, score=0.672 total time=   0.0s\n",
      "[CV 1/5; 9/15] START solver=saga................................................\n",
      "[CV 1/5; 9/15] END .................solver=saga;, score=0.675 total time=   0.0s\n",
      "[CV 2/5; 9/15] START solver=saga................................................\n",
      "[CV 2/5; 9/15] END .................solver=saga;, score=0.691 total time=   0.0s\n",
      "[CV 3/5; 9/15] START solver=saga................................................\n",
      "[CV 3/5; 9/15] END .................solver=saga;, score=0.642 total time=   0.0s\n",
      "[CV 4/5; 9/15] START solver=saga................................................\n",
      "[CV 4/5; 9/15] END .................solver=saga;, score=0.683 total time=   0.0s\n",
      "[CV 5/5; 9/15] START solver=saga................................................\n",
      "[CV 5/5; 9/15] END .................solver=saga;, score=0.664 total time=   0.0s\n",
      "[CV 1/5; 10/15] START max_iter=1000.............................................\n",
      "[CV 1/5; 10/15] END ..............max_iter=1000;, score=0.772 total time=   0.0s\n",
      "[CV 2/5; 10/15] START max_iter=1000.............................................\n"
     ]
    },
    {
     "name": "stderr",
     "output_type": "stream",
     "text": [
      "C:\\Users\\lenovo\\AppData\\Local\\Programs\\Python\\Python310\\lib\\site-packages\\sklearn\\linear_model\\_sag.py:350: ConvergenceWarning: The max_iter was reached which means the coef_ did not converge\n",
      "  warnings.warn(\n",
      "C:\\Users\\lenovo\\AppData\\Local\\Programs\\Python\\Python310\\lib\\site-packages\\sklearn\\linear_model\\_sag.py:350: ConvergenceWarning: The max_iter was reached which means the coef_ did not converge\n",
      "  warnings.warn(\n",
      "C:\\Users\\lenovo\\AppData\\Local\\Programs\\Python\\Python310\\lib\\site-packages\\sklearn\\linear_model\\_sag.py:350: ConvergenceWarning: The max_iter was reached which means the coef_ did not converge\n",
      "  warnings.warn(\n",
      "C:\\Users\\lenovo\\AppData\\Local\\Programs\\Python\\Python310\\lib\\site-packages\\sklearn\\linear_model\\_sag.py:350: ConvergenceWarning: The max_iter was reached which means the coef_ did not converge\n",
      "  warnings.warn(\n",
      "C:\\Users\\lenovo\\AppData\\Local\\Programs\\Python\\Python310\\lib\\site-packages\\sklearn\\linear_model\\_sag.py:350: ConvergenceWarning: The max_iter was reached which means the coef_ did not converge\n",
      "  warnings.warn(\n",
      "C:\\Users\\lenovo\\AppData\\Local\\Programs\\Python\\Python310\\lib\\site-packages\\sklearn\\linear_model\\_sag.py:350: ConvergenceWarning: The max_iter was reached which means the coef_ did not converge\n",
      "  warnings.warn(\n",
      "C:\\Users\\lenovo\\AppData\\Local\\Programs\\Python\\Python310\\lib\\site-packages\\sklearn\\linear_model\\_sag.py:350: ConvergenceWarning: The max_iter was reached which means the coef_ did not converge\n",
      "  warnings.warn(\n"
     ]
    },
    {
     "name": "stdout",
     "output_type": "stream",
     "text": [
      "[CV 2/5; 10/15] END ..............max_iter=1000;, score=0.780 total time=   0.0s\n",
      "[CV 3/5; 10/15] START max_iter=1000.............................................\n",
      "[CV 3/5; 10/15] END ..............max_iter=1000;, score=0.764 total time=   0.0s\n",
      "[CV 4/5; 10/15] START max_iter=1000.............................................\n",
      "[CV 4/5; 10/15] END ..............max_iter=1000;, score=0.764 total time=   0.0s\n",
      "[CV 5/5; 10/15] START max_iter=1000.............................................\n",
      "[CV 5/5; 10/15] END ..............max_iter=1000;, score=0.730 total time=   0.0s\n",
      "[CV 1/5; 11/15] START max_iter=100..............................................\n",
      "[CV 1/5; 11/15] END ...............max_iter=100;, score=0.772 total time=   0.0s\n",
      "[CV 2/5; 11/15] START max_iter=100..............................................\n",
      "[CV 2/5; 11/15] END ...............max_iter=100;, score=0.780 total time=   0.0s\n",
      "[CV 3/5; 11/15] START max_iter=100..............................................\n",
      "[CV 3/5; 11/15] END ...............max_iter=100;, score=0.748 total time=   0.0s\n",
      "[CV 4/5; 11/15] START max_iter=100..............................................\n",
      "[CV 4/5; 11/15] END ...............max_iter=100;, score=0.764 total time=   0.0s\n",
      "[CV 5/5; 11/15] START max_iter=100..............................................\n"
     ]
    },
    {
     "name": "stderr",
     "output_type": "stream",
     "text": [
      "C:\\Users\\lenovo\\AppData\\Local\\Programs\\Python\\Python310\\lib\\site-packages\\sklearn\\linear_model\\_logistic.py:444: ConvergenceWarning: lbfgs failed to converge (status=1):\n",
      "STOP: TOTAL NO. of ITERATIONS REACHED LIMIT.\n",
      "\n",
      "Increase the number of iterations (max_iter) or scale the data as shown in:\n",
      "    https://scikit-learn.org/stable/modules/preprocessing.html\n",
      "Please also refer to the documentation for alternative solver options:\n",
      "    https://scikit-learn.org/stable/modules/linear_model.html#logistic-regression\n",
      "  n_iter_i = _check_optimize_result(\n",
      "C:\\Users\\lenovo\\AppData\\Local\\Programs\\Python\\Python310\\lib\\site-packages\\sklearn\\linear_model\\_logistic.py:444: ConvergenceWarning: lbfgs failed to converge (status=1):\n",
      "STOP: TOTAL NO. of ITERATIONS REACHED LIMIT.\n",
      "\n",
      "Increase the number of iterations (max_iter) or scale the data as shown in:\n",
      "    https://scikit-learn.org/stable/modules/preprocessing.html\n",
      "Please also refer to the documentation for alternative solver options:\n",
      "    https://scikit-learn.org/stable/modules/linear_model.html#logistic-regression\n",
      "  n_iter_i = _check_optimize_result(\n",
      "C:\\Users\\lenovo\\AppData\\Local\\Programs\\Python\\Python310\\lib\\site-packages\\sklearn\\linear_model\\_logistic.py:444: ConvergenceWarning: lbfgs failed to converge (status=1):\n",
      "STOP: TOTAL NO. of ITERATIONS REACHED LIMIT.\n",
      "\n",
      "Increase the number of iterations (max_iter) or scale the data as shown in:\n",
      "    https://scikit-learn.org/stable/modules/preprocessing.html\n",
      "Please also refer to the documentation for alternative solver options:\n",
      "    https://scikit-learn.org/stable/modules/linear_model.html#logistic-regression\n",
      "  n_iter_i = _check_optimize_result(\n",
      "C:\\Users\\lenovo\\AppData\\Local\\Programs\\Python\\Python310\\lib\\site-packages\\sklearn\\linear_model\\_logistic.py:444: ConvergenceWarning: lbfgs failed to converge (status=1):\n",
      "STOP: TOTAL NO. of ITERATIONS REACHED LIMIT.\n",
      "\n",
      "Increase the number of iterations (max_iter) or scale the data as shown in:\n",
      "    https://scikit-learn.org/stable/modules/preprocessing.html\n",
      "Please also refer to the documentation for alternative solver options:\n",
      "    https://scikit-learn.org/stable/modules/linear_model.html#logistic-regression\n",
      "  n_iter_i = _check_optimize_result(\n",
      "C:\\Users\\lenovo\\AppData\\Local\\Programs\\Python\\Python310\\lib\\site-packages\\sklearn\\linear_model\\_logistic.py:444: ConvergenceWarning: lbfgs failed to converge (status=1):\n",
      "STOP: TOTAL NO. of ITERATIONS REACHED LIMIT.\n",
      "\n",
      "Increase the number of iterations (max_iter) or scale the data as shown in:\n",
      "    https://scikit-learn.org/stable/modules/preprocessing.html\n",
      "Please also refer to the documentation for alternative solver options:\n",
      "    https://scikit-learn.org/stable/modules/linear_model.html#logistic-regression\n",
      "  n_iter_i = _check_optimize_result(\n",
      "C:\\Users\\lenovo\\AppData\\Local\\Programs\\Python\\Python310\\lib\\site-packages\\sklearn\\linear_model\\_logistic.py:444: ConvergenceWarning: lbfgs failed to converge (status=1):\n",
      "STOP: TOTAL NO. of ITERATIONS REACHED LIMIT.\n",
      "\n",
      "Increase the number of iterations (max_iter) or scale the data as shown in:\n",
      "    https://scikit-learn.org/stable/modules/preprocessing.html\n",
      "Please also refer to the documentation for alternative solver options:\n",
      "    https://scikit-learn.org/stable/modules/linear_model.html#logistic-regression\n",
      "  n_iter_i = _check_optimize_result(\n",
      "C:\\Users\\lenovo\\AppData\\Local\\Programs\\Python\\Python310\\lib\\site-packages\\sklearn\\linear_model\\_logistic.py:444: ConvergenceWarning: lbfgs failed to converge (status=1):\n",
      "STOP: TOTAL NO. of ITERATIONS REACHED LIMIT.\n",
      "\n",
      "Increase the number of iterations (max_iter) or scale the data as shown in:\n",
      "    https://scikit-learn.org/stable/modules/preprocessing.html\n",
      "Please also refer to the documentation for alternative solver options:\n",
      "    https://scikit-learn.org/stable/modules/linear_model.html#logistic-regression\n",
      "  n_iter_i = _check_optimize_result(\n",
      "C:\\Users\\lenovo\\AppData\\Local\\Programs\\Python\\Python310\\lib\\site-packages\\sklearn\\linear_model\\_logistic.py:444: ConvergenceWarning: lbfgs failed to converge (status=1):\n",
      "STOP: TOTAL NO. of ITERATIONS REACHED LIMIT.\n",
      "\n",
      "Increase the number of iterations (max_iter) or scale the data as shown in:\n",
      "    https://scikit-learn.org/stable/modules/preprocessing.html\n",
      "Please also refer to the documentation for alternative solver options:\n",
      "    https://scikit-learn.org/stable/modules/linear_model.html#logistic-regression\n",
      "  n_iter_i = _check_optimize_result(\n",
      "C:\\Users\\lenovo\\AppData\\Local\\Programs\\Python\\Python310\\lib\\site-packages\\sklearn\\linear_model\\_logistic.py:444: ConvergenceWarning: lbfgs failed to converge (status=1):\n",
      "STOP: TOTAL NO. of ITERATIONS REACHED LIMIT.\n",
      "\n",
      "Increase the number of iterations (max_iter) or scale the data as shown in:\n",
      "    https://scikit-learn.org/stable/modules/preprocessing.html\n",
      "Please also refer to the documentation for alternative solver options:\n",
      "    https://scikit-learn.org/stable/modules/linear_model.html#logistic-regression\n",
      "  n_iter_i = _check_optimize_result(\n"
     ]
    },
    {
     "name": "stdout",
     "output_type": "stream",
     "text": [
      "[CV 5/5; 11/15] END ...............max_iter=100;, score=0.730 total time=   0.0s\n",
      "[CV 1/5; 12/15] START max_iter=10...............................................\n",
      "[CV 1/5; 12/15] END ................max_iter=10;, score=0.691 total time=   0.0s\n",
      "[CV 2/5; 12/15] START max_iter=10...............................................\n",
      "[CV 2/5; 12/15] END ................max_iter=10;, score=0.691 total time=   0.0s\n",
      "[CV 3/5; 12/15] START max_iter=10...............................................\n",
      "[CV 3/5; 12/15] END ................max_iter=10;, score=0.634 total time=   0.0s\n",
      "[CV 4/5; 12/15] START max_iter=10...............................................\n",
      "[CV 4/5; 12/15] END ................max_iter=10;, score=0.675 total time=   0.0s\n",
      "[CV 5/5; 12/15] START max_iter=10...............................................\n",
      "[CV 5/5; 12/15] END ................max_iter=10;, score=0.664 total time=   0.0s\n",
      "[CV 1/5; 13/15] START max_iter=34...............................................\n",
      "[CV 1/5; 13/15] END ................max_iter=34;, score=0.683 total time=   0.0s\n",
      "[CV 2/5; 13/15] START max_iter=34...............................................\n",
      "[CV 2/5; 13/15] END ................max_iter=34;, score=0.715 total time=   0.0s\n",
      "[CV 3/5; 13/15] START max_iter=34...............................................\n",
      "[CV 3/5; 13/15] END ................max_iter=34;, score=0.634 total time=   0.0s\n",
      "[CV 4/5; 13/15] START max_iter=34...............................................\n",
      "[CV 4/5; 13/15] END ................max_iter=34;, score=0.740 total time=   0.0s\n",
      "[CV 5/5; 13/15] START max_iter=34...............................................\n",
      "[CV 5/5; 13/15] END ................max_iter=34;, score=0.713 total time=   0.0s\n",
      "[CV 1/5; 14/15] START max_iter=55...............................................\n",
      "[CV 1/5; 14/15] END ................max_iter=55;, score=0.699 total time=   0.0s\n",
      "[CV 2/5; 14/15] START max_iter=55...............................................\n",
      "[CV 2/5; 14/15] END ................max_iter=55;, score=0.780 total time=   0.0s\n",
      "[CV 3/5; 14/15] START max_iter=55...............................................\n"
     ]
    },
    {
     "name": "stderr",
     "output_type": "stream",
     "text": [
      "C:\\Users\\lenovo\\AppData\\Local\\Programs\\Python\\Python310\\lib\\site-packages\\sklearn\\linear_model\\_logistic.py:444: ConvergenceWarning: lbfgs failed to converge (status=1):\n",
      "STOP: TOTAL NO. of ITERATIONS REACHED LIMIT.\n",
      "\n",
      "Increase the number of iterations (max_iter) or scale the data as shown in:\n",
      "    https://scikit-learn.org/stable/modules/preprocessing.html\n",
      "Please also refer to the documentation for alternative solver options:\n",
      "    https://scikit-learn.org/stable/modules/linear_model.html#logistic-regression\n",
      "  n_iter_i = _check_optimize_result(\n",
      "C:\\Users\\lenovo\\AppData\\Local\\Programs\\Python\\Python310\\lib\\site-packages\\sklearn\\linear_model\\_logistic.py:444: ConvergenceWarning: lbfgs failed to converge (status=1):\n",
      "STOP: TOTAL NO. of ITERATIONS REACHED LIMIT.\n",
      "\n",
      "Increase the number of iterations (max_iter) or scale the data as shown in:\n",
      "    https://scikit-learn.org/stable/modules/preprocessing.html\n",
      "Please also refer to the documentation for alternative solver options:\n",
      "    https://scikit-learn.org/stable/modules/linear_model.html#logistic-regression\n",
      "  n_iter_i = _check_optimize_result(\n",
      "C:\\Users\\lenovo\\AppData\\Local\\Programs\\Python\\Python310\\lib\\site-packages\\sklearn\\linear_model\\_logistic.py:444: ConvergenceWarning: lbfgs failed to converge (status=1):\n",
      "STOP: TOTAL NO. of ITERATIONS REACHED LIMIT.\n",
      "\n",
      "Increase the number of iterations (max_iter) or scale the data as shown in:\n",
      "    https://scikit-learn.org/stable/modules/preprocessing.html\n",
      "Please also refer to the documentation for alternative solver options:\n",
      "    https://scikit-learn.org/stable/modules/linear_model.html#logistic-regression\n",
      "  n_iter_i = _check_optimize_result(\n",
      "C:\\Users\\lenovo\\AppData\\Local\\Programs\\Python\\Python310\\lib\\site-packages\\sklearn\\linear_model\\_logistic.py:444: ConvergenceWarning: lbfgs failed to converge (status=1):\n",
      "STOP: TOTAL NO. of ITERATIONS REACHED LIMIT.\n",
      "\n",
      "Increase the number of iterations (max_iter) or scale the data as shown in:\n",
      "    https://scikit-learn.org/stable/modules/preprocessing.html\n",
      "Please also refer to the documentation for alternative solver options:\n",
      "    https://scikit-learn.org/stable/modules/linear_model.html#logistic-regression\n",
      "  n_iter_i = _check_optimize_result(\n",
      "C:\\Users\\lenovo\\AppData\\Local\\Programs\\Python\\Python310\\lib\\site-packages\\sklearn\\linear_model\\_logistic.py:444: ConvergenceWarning: lbfgs failed to converge (status=1):\n",
      "STOP: TOTAL NO. of ITERATIONS REACHED LIMIT.\n",
      "\n",
      "Increase the number of iterations (max_iter) or scale the data as shown in:\n",
      "    https://scikit-learn.org/stable/modules/preprocessing.html\n",
      "Please also refer to the documentation for alternative solver options:\n",
      "    https://scikit-learn.org/stable/modules/linear_model.html#logistic-regression\n",
      "  n_iter_i = _check_optimize_result(\n",
      "C:\\Users\\lenovo\\AppData\\Local\\Programs\\Python\\Python310\\lib\\site-packages\\sklearn\\linear_model\\_logistic.py:444: ConvergenceWarning: lbfgs failed to converge (status=1):\n",
      "STOP: TOTAL NO. of ITERATIONS REACHED LIMIT.\n",
      "\n",
      "Increase the number of iterations (max_iter) or scale the data as shown in:\n",
      "    https://scikit-learn.org/stable/modules/preprocessing.html\n",
      "Please also refer to the documentation for alternative solver options:\n",
      "    https://scikit-learn.org/stable/modules/linear_model.html#logistic-regression\n",
      "  n_iter_i = _check_optimize_result(\n",
      "C:\\Users\\lenovo\\AppData\\Local\\Programs\\Python\\Python310\\lib\\site-packages\\sklearn\\linear_model\\_logistic.py:444: ConvergenceWarning: lbfgs failed to converge (status=1):\n",
      "STOP: TOTAL NO. of ITERATIONS REACHED LIMIT.\n",
      "\n",
      "Increase the number of iterations (max_iter) or scale the data as shown in:\n",
      "    https://scikit-learn.org/stable/modules/preprocessing.html\n",
      "Please also refer to the documentation for alternative solver options:\n",
      "    https://scikit-learn.org/stable/modules/linear_model.html#logistic-regression\n",
      "  n_iter_i = _check_optimize_result(\n",
      "C:\\Users\\lenovo\\AppData\\Local\\Programs\\Python\\Python310\\lib\\site-packages\\sklearn\\linear_model\\_logistic.py:444: ConvergenceWarning: lbfgs failed to converge (status=1):\n",
      "STOP: TOTAL NO. of ITERATIONS REACHED LIMIT.\n",
      "\n",
      "Increase the number of iterations (max_iter) or scale the data as shown in:\n",
      "    https://scikit-learn.org/stable/modules/preprocessing.html\n",
      "Please also refer to the documentation for alternative solver options:\n",
      "    https://scikit-learn.org/stable/modules/linear_model.html#logistic-regression\n",
      "  n_iter_i = _check_optimize_result(\n",
      "C:\\Users\\lenovo\\AppData\\Local\\Programs\\Python\\Python310\\lib\\site-packages\\sklearn\\linear_model\\_logistic.py:444: ConvergenceWarning: lbfgs failed to converge (status=1):\n",
      "STOP: TOTAL NO. of ITERATIONS REACHED LIMIT.\n",
      "\n",
      "Increase the number of iterations (max_iter) or scale the data as shown in:\n",
      "    https://scikit-learn.org/stable/modules/preprocessing.html\n",
      "Please also refer to the documentation for alternative solver options:\n",
      "    https://scikit-learn.org/stable/modules/linear_model.html#logistic-regression\n",
      "  n_iter_i = _check_optimize_result(\n",
      "C:\\Users\\lenovo\\AppData\\Local\\Programs\\Python\\Python310\\lib\\site-packages\\sklearn\\linear_model\\_logistic.py:444: ConvergenceWarning: lbfgs failed to converge (status=1):\n",
      "STOP: TOTAL NO. of ITERATIONS REACHED LIMIT.\n",
      "\n",
      "Increase the number of iterations (max_iter) or scale the data as shown in:\n",
      "    https://scikit-learn.org/stable/modules/preprocessing.html\n",
      "Please also refer to the documentation for alternative solver options:\n",
      "    https://scikit-learn.org/stable/modules/linear_model.html#logistic-regression\n",
      "  n_iter_i = _check_optimize_result(\n"
     ]
    },
    {
     "name": "stdout",
     "output_type": "stream",
     "text": [
      "[CV 3/5; 14/15] END ................max_iter=55;, score=0.740 total time=   0.0s\n",
      "[CV 4/5; 14/15] START max_iter=55...............................................\n",
      "[CV 4/5; 14/15] END ................max_iter=55;, score=0.756 total time=   0.0s\n",
      "[CV 5/5; 14/15] START max_iter=55...............................................\n",
      "[CV 5/5; 14/15] END ................max_iter=55;, score=0.738 total time=   0.0s\n",
      "[CV 1/5; 15/15] START max_iter=78...............................................\n",
      "[CV 1/5; 15/15] END ................max_iter=78;, score=0.789 total time=   0.0s\n",
      "[CV 2/5; 15/15] START max_iter=78...............................................\n",
      "[CV 2/5; 15/15] END ................max_iter=78;, score=0.772 total time=   0.0s\n",
      "[CV 3/5; 15/15] START max_iter=78...............................................\n",
      "[CV 3/5; 15/15] END ................max_iter=78;, score=0.724 total time=   0.0s\n",
      "[CV 4/5; 15/15] START max_iter=78...............................................\n",
      "[CV 4/5; 15/15] END ................max_iter=78;, score=0.756 total time=   0.0s\n",
      "[CV 5/5; 15/15] START max_iter=78...............................................\n",
      "[CV 5/5; 15/15] END ................max_iter=78;, score=0.762 total time=   0.0s\n"
     ]
    },
    {
     "name": "stderr",
     "output_type": "stream",
     "text": [
      "C:\\Users\\lenovo\\AppData\\Local\\Programs\\Python\\Python310\\lib\\site-packages\\sklearn\\linear_model\\_logistic.py:444: ConvergenceWarning: lbfgs failed to converge (status=1):\n",
      "STOP: TOTAL NO. of ITERATIONS REACHED LIMIT.\n",
      "\n",
      "Increase the number of iterations (max_iter) or scale the data as shown in:\n",
      "    https://scikit-learn.org/stable/modules/preprocessing.html\n",
      "Please also refer to the documentation for alternative solver options:\n",
      "    https://scikit-learn.org/stable/modules/linear_model.html#logistic-regression\n",
      "  n_iter_i = _check_optimize_result(\n",
      "C:\\Users\\lenovo\\AppData\\Local\\Programs\\Python\\Python310\\lib\\site-packages\\sklearn\\linear_model\\_logistic.py:444: ConvergenceWarning: lbfgs failed to converge (status=1):\n",
      "STOP: TOTAL NO. of ITERATIONS REACHED LIMIT.\n",
      "\n",
      "Increase the number of iterations (max_iter) or scale the data as shown in:\n",
      "    https://scikit-learn.org/stable/modules/preprocessing.html\n",
      "Please also refer to the documentation for alternative solver options:\n",
      "    https://scikit-learn.org/stable/modules/linear_model.html#logistic-regression\n",
      "  n_iter_i = _check_optimize_result(\n",
      "C:\\Users\\lenovo\\AppData\\Local\\Programs\\Python\\Python310\\lib\\site-packages\\sklearn\\linear_model\\_logistic.py:444: ConvergenceWarning: lbfgs failed to converge (status=1):\n",
      "STOP: TOTAL NO. of ITERATIONS REACHED LIMIT.\n",
      "\n",
      "Increase the number of iterations (max_iter) or scale the data as shown in:\n",
      "    https://scikit-learn.org/stable/modules/preprocessing.html\n",
      "Please also refer to the documentation for alternative solver options:\n",
      "    https://scikit-learn.org/stable/modules/linear_model.html#logistic-regression\n",
      "  n_iter_i = _check_optimize_result(\n",
      "C:\\Users\\lenovo\\AppData\\Local\\Programs\\Python\\Python310\\lib\\site-packages\\sklearn\\linear_model\\_logistic.py:444: ConvergenceWarning: lbfgs failed to converge (status=1):\n",
      "STOP: TOTAL NO. of ITERATIONS REACHED LIMIT.\n",
      "\n",
      "Increase the number of iterations (max_iter) or scale the data as shown in:\n",
      "    https://scikit-learn.org/stable/modules/preprocessing.html\n",
      "Please also refer to the documentation for alternative solver options:\n",
      "    https://scikit-learn.org/stable/modules/linear_model.html#logistic-regression\n",
      "  n_iter_i = _check_optimize_result(\n",
      "C:\\Users\\lenovo\\AppData\\Local\\Programs\\Python\\Python310\\lib\\site-packages\\sklearn\\linear_model\\_logistic.py:444: ConvergenceWarning: lbfgs failed to converge (status=1):\n",
      "STOP: TOTAL NO. of ITERATIONS REACHED LIMIT.\n",
      "\n",
      "Increase the number of iterations (max_iter) or scale the data as shown in:\n",
      "    https://scikit-learn.org/stable/modules/preprocessing.html\n",
      "Please also refer to the documentation for alternative solver options:\n",
      "    https://scikit-learn.org/stable/modules/linear_model.html#logistic-regression\n",
      "  n_iter_i = _check_optimize_result(\n",
      "C:\\Users\\lenovo\\AppData\\Local\\Programs\\Python\\Python310\\lib\\site-packages\\sklearn\\linear_model\\_logistic.py:444: ConvergenceWarning: lbfgs failed to converge (status=1):\n",
      "STOP: TOTAL NO. of ITERATIONS REACHED LIMIT.\n",
      "\n",
      "Increase the number of iterations (max_iter) or scale the data as shown in:\n",
      "    https://scikit-learn.org/stable/modules/preprocessing.html\n",
      "Please also refer to the documentation for alternative solver options:\n",
      "    https://scikit-learn.org/stable/modules/linear_model.html#logistic-regression\n",
      "  n_iter_i = _check_optimize_result(\n",
      "C:\\Users\\lenovo\\AppData\\Local\\Programs\\Python\\Python310\\lib\\site-packages\\sklearn\\model_selection\\_validation.py:378: FitFailedWarning: \n",
      "10 fits failed out of a total of 75.\n",
      "The score on these train-test partitions for these parameters will be set to nan.\n",
      "If these failures are not expected, you can try to debug them by setting error_score='raise'.\n",
      "\n",
      "Below are more details about the failures:\n",
      "--------------------------------------------------------------------------------\n",
      "5 fits failed with the following error:\n",
      "Traceback (most recent call last):\n",
      "  File \"C:\\Users\\lenovo\\AppData\\Local\\Programs\\Python\\Python310\\lib\\site-packages\\sklearn\\model_selection\\_validation.py\", line 686, in _fit_and_score\n",
      "    estimator.fit(X_train, y_train, **fit_params)\n",
      "  File \"C:\\Users\\lenovo\\AppData\\Local\\Programs\\Python\\Python310\\lib\\site-packages\\sklearn\\linear_model\\_logistic.py\", line 1091, in fit\n",
      "    solver = _check_solver(self.solver, self.penalty, self.dual)\n",
      "  File \"C:\\Users\\lenovo\\AppData\\Local\\Programs\\Python\\Python310\\lib\\site-packages\\sklearn\\linear_model\\_logistic.py\", line 61, in _check_solver\n",
      "    raise ValueError(\n",
      "ValueError: Solver lbfgs supports only 'l2' or 'none' penalties, got l1 penalty.\n",
      "\n",
      "--------------------------------------------------------------------------------\n",
      "5 fits failed with the following error:\n",
      "Traceback (most recent call last):\n",
      "  File \"C:\\Users\\lenovo\\AppData\\Local\\Programs\\Python\\Python310\\lib\\site-packages\\sklearn\\model_selection\\_validation.py\", line 686, in _fit_and_score\n",
      "    estimator.fit(X_train, y_train, **fit_params)\n",
      "  File \"C:\\Users\\lenovo\\AppData\\Local\\Programs\\Python\\Python310\\lib\\site-packages\\sklearn\\linear_model\\_logistic.py\", line 1091, in fit\n",
      "    solver = _check_solver(self.solver, self.penalty, self.dual)\n",
      "  File \"C:\\Users\\lenovo\\AppData\\Local\\Programs\\Python\\Python310\\lib\\site-packages\\sklearn\\linear_model\\_logistic.py\", line 61, in _check_solver\n",
      "    raise ValueError(\n",
      "ValueError: Solver lbfgs supports only 'l2' or 'none' penalties, got elasticnet penalty.\n",
      "\n",
      "  warnings.warn(some_fits_failed_message, FitFailedWarning)\n",
      "C:\\Users\\lenovo\\AppData\\Local\\Programs\\Python\\Python310\\lib\\site-packages\\sklearn\\model_selection\\_search.py:953: UserWarning: One or more of the test scores are non-finite: [       nan 0.75890977        nan 0.76222844 0.7621618  0.75890977\n",
      " 0.75890977 0.67914168 0.67099827 0.7621618  0.75890977 0.67099827\n",
      " 0.6970945  0.74266293 0.7605891 ]\n",
      "  warnings.warn(\n",
      "C:\\Users\\lenovo\\AppData\\Local\\Programs\\Python\\Python310\\lib\\site-packages\\sklearn\\linear_model\\_logistic.py:444: ConvergenceWarning: lbfgs failed to converge (status=1):\n",
      "STOP: TOTAL NO. of ITERATIONS REACHED LIMIT.\n",
      "\n",
      "Increase the number of iterations (max_iter) or scale the data as shown in:\n",
      "    https://scikit-learn.org/stable/modules/preprocessing.html\n",
      "Please also refer to the documentation for alternative solver options:\n",
      "    https://scikit-learn.org/stable/modules/linear_model.html#logistic-regression\n",
      "  n_iter_i = _check_optimize_result(\n"
     ]
    },
    {
     "data": {
      "text/html": [
       "<style>#sk-container-id-12 {color: black;background-color: white;}#sk-container-id-12 pre{padding: 0;}#sk-container-id-12 div.sk-toggleable {background-color: white;}#sk-container-id-12 label.sk-toggleable__label {cursor: pointer;display: block;width: 100%;margin-bottom: 0;padding: 0.3em;box-sizing: border-box;text-align: center;}#sk-container-id-12 label.sk-toggleable__label-arrow:before {content: \"▸\";float: left;margin-right: 0.25em;color: #696969;}#sk-container-id-12 label.sk-toggleable__label-arrow:hover:before {color: black;}#sk-container-id-12 div.sk-estimator:hover label.sk-toggleable__label-arrow:before {color: black;}#sk-container-id-12 div.sk-toggleable__content {max-height: 0;max-width: 0;overflow: hidden;text-align: left;background-color: #f0f8ff;}#sk-container-id-12 div.sk-toggleable__content pre {margin: 0.2em;color: black;border-radius: 0.25em;background-color: #f0f8ff;}#sk-container-id-12 input.sk-toggleable__control:checked~div.sk-toggleable__content {max-height: 200px;max-width: 100%;overflow: auto;}#sk-container-id-12 input.sk-toggleable__control:checked~label.sk-toggleable__label-arrow:before {content: \"▾\";}#sk-container-id-12 div.sk-estimator input.sk-toggleable__control:checked~label.sk-toggleable__label {background-color: #d4ebff;}#sk-container-id-12 div.sk-label input.sk-toggleable__control:checked~label.sk-toggleable__label {background-color: #d4ebff;}#sk-container-id-12 input.sk-hidden--visually {border: 0;clip: rect(1px 1px 1px 1px);clip: rect(1px, 1px, 1px, 1px);height: 1px;margin: -1px;overflow: hidden;padding: 0;position: absolute;width: 1px;}#sk-container-id-12 div.sk-estimator {font-family: monospace;background-color: #f0f8ff;border: 1px dotted black;border-radius: 0.25em;box-sizing: border-box;margin-bottom: 0.5em;}#sk-container-id-12 div.sk-estimator:hover {background-color: #d4ebff;}#sk-container-id-12 div.sk-parallel-item::after {content: \"\";width: 100%;border-bottom: 1px solid gray;flex-grow: 1;}#sk-container-id-12 div.sk-label:hover label.sk-toggleable__label {background-color: #d4ebff;}#sk-container-id-12 div.sk-serial::before {content: \"\";position: absolute;border-left: 1px solid gray;box-sizing: border-box;top: 0;bottom: 0;left: 50%;z-index: 0;}#sk-container-id-12 div.sk-serial {display: flex;flex-direction: column;align-items: center;background-color: white;padding-right: 0.2em;padding-left: 0.2em;position: relative;}#sk-container-id-12 div.sk-item {position: relative;z-index: 1;}#sk-container-id-12 div.sk-parallel {display: flex;align-items: stretch;justify-content: center;background-color: white;position: relative;}#sk-container-id-12 div.sk-item::before, #sk-container-id-12 div.sk-parallel-item::before {content: \"\";position: absolute;border-left: 1px solid gray;box-sizing: border-box;top: 0;bottom: 0;left: 50%;z-index: -1;}#sk-container-id-12 div.sk-parallel-item {display: flex;flex-direction: column;z-index: 1;position: relative;background-color: white;}#sk-container-id-12 div.sk-parallel-item:first-child::after {align-self: flex-end;width: 50%;}#sk-container-id-12 div.sk-parallel-item:last-child::after {align-self: flex-start;width: 50%;}#sk-container-id-12 div.sk-parallel-item:only-child::after {width: 0;}#sk-container-id-12 div.sk-dashed-wrapped {border: 1px dashed gray;margin: 0 0.4em 0.5em 0.4em;box-sizing: border-box;padding-bottom: 0.4em;background-color: white;}#sk-container-id-12 div.sk-label label {font-family: monospace;font-weight: bold;display: inline-block;line-height: 1.2em;}#sk-container-id-12 div.sk-label-container {text-align: center;}#sk-container-id-12 div.sk-container {/* jupyter's `normalize.less` sets `[hidden] { display: none; }` but bootstrap.min.css set `[hidden] { display: none !important; }` so we also need the `!important` here to be able to override the default hidden behavior on the sphinx rendered scikit-learn.org. See: https://github.com/scikit-learn/scikit-learn/issues/21755 */display: inline-block !important;position: relative;}#sk-container-id-12 div.sk-text-repr-fallback {display: none;}</style><div id=\"sk-container-id-12\" class=\"sk-top-container\"><div class=\"sk-text-repr-fallback\"><pre>GridSearchCV(cv=5, estimator=LogisticRegression(),\n",
       "             param_grid=[{&#x27;penalty&#x27;: [&#x27;l1&#x27;, &#x27;l2&#x27;, &#x27;elasticnet&#x27;, &#x27;none&#x27;]},\n",
       "                         {&#x27;solver&#x27;: [&#x27;newton-cg&#x27;, &#x27;lbfgs&#x27;, &#x27;liblinear&#x27;, &#x27;sag&#x27;,\n",
       "                                     &#x27;saga&#x27;]},\n",
       "                         {&#x27;max_iter&#x27;: [1000, 100, 10, 34, 55, 78]}],\n",
       "             verbose=16)</pre><b>In a Jupyter environment, please rerun this cell to show the HTML representation or trust the notebook. <br />On GitHub, the HTML representation is unable to render, please try loading this page with nbviewer.org.</b></div><div class=\"sk-container\" hidden><div class=\"sk-item sk-dashed-wrapped\"><div class=\"sk-label-container\"><div class=\"sk-label sk-toggleable\"><input class=\"sk-toggleable__control sk-hidden--visually\" id=\"sk-estimator-id-24\" type=\"checkbox\" ><label for=\"sk-estimator-id-24\" class=\"sk-toggleable__label sk-toggleable__label-arrow\">GridSearchCV</label><div class=\"sk-toggleable__content\"><pre>GridSearchCV(cv=5, estimator=LogisticRegression(),\n",
       "             param_grid=[{&#x27;penalty&#x27;: [&#x27;l1&#x27;, &#x27;l2&#x27;, &#x27;elasticnet&#x27;, &#x27;none&#x27;]},\n",
       "                         {&#x27;solver&#x27;: [&#x27;newton-cg&#x27;, &#x27;lbfgs&#x27;, &#x27;liblinear&#x27;, &#x27;sag&#x27;,\n",
       "                                     &#x27;saga&#x27;]},\n",
       "                         {&#x27;max_iter&#x27;: [1000, 100, 10, 34, 55, 78]}],\n",
       "             verbose=16)</pre></div></div></div><div class=\"sk-parallel\"><div class=\"sk-parallel-item\"><div class=\"sk-item\"><div class=\"sk-label-container\"><div class=\"sk-label sk-toggleable\"><input class=\"sk-toggleable__control sk-hidden--visually\" id=\"sk-estimator-id-25\" type=\"checkbox\" ><label for=\"sk-estimator-id-25\" class=\"sk-toggleable__label sk-toggleable__label-arrow\">estimator: LogisticRegression</label><div class=\"sk-toggleable__content\"><pre>LogisticRegression()</pre></div></div></div><div class=\"sk-serial\"><div class=\"sk-item\"><div class=\"sk-estimator sk-toggleable\"><input class=\"sk-toggleable__control sk-hidden--visually\" id=\"sk-estimator-id-26\" type=\"checkbox\" ><label for=\"sk-estimator-id-26\" class=\"sk-toggleable__label sk-toggleable__label-arrow\">LogisticRegression</label><div class=\"sk-toggleable__content\"><pre>LogisticRegression()</pre></div></div></div></div></div></div></div></div></div></div>"
      ],
      "text/plain": [
       "GridSearchCV(cv=5, estimator=LogisticRegression(),\n",
       "             param_grid=[{'penalty': ['l1', 'l2', 'elasticnet', 'none']},\n",
       "                         {'solver': ['newton-cg', 'lbfgs', 'liblinear', 'sag',\n",
       "                                     'saga']},\n",
       "                         {'max_iter': [1000, 100, 10, 34, 55, 78]}],\n",
       "             verbose=16)"
      ]
     },
     "execution_count": 56,
     "metadata": {},
     "output_type": "execute_result"
    }
   ],
   "source": [
    "#optimisons le model de regression logistique\n",
    "#parametre du grid\n",
    "params=[\n",
    "    {'penalty':['l1', 'l2', 'elasticnet', 'none']},\n",
    "    {'solver':['newton-cg', 'lbfgs', 'liblinear', 'sag', 'saga']},\n",
    "    {'max_iter':[1000,100,10,34,55,78]}\n",
    "]\n",
    "##instantiation du model\n",
    "lr_best_model=GridSearchCV(lr,params,cv=5,verbose=16)\n",
    "lr_best_model.fit(X_train,Y_train)"
   ]
  },
  {
   "cell_type": "code",
   "execution_count": 57,
   "id": "7ac94173-2755-49f9-833f-3194fd2458da",
   "metadata": {},
   "outputs": [
    {
     "data": {
      "text/plain": [
       "{'penalty': 'none'}"
      ]
     },
     "execution_count": 57,
     "metadata": {},
     "output_type": "execute_result"
    }
   ],
   "source": [
    "#parametres optionnaux\n",
    "lr_best_model.best_params_"
   ]
  },
  {
   "cell_type": "code",
   "execution_count": 58,
   "id": "32d88d09-6271-4c70-b30d-827f256783a9",
   "metadata": {},
   "outputs": [
    {
     "data": {
      "text/html": [
       "<style>#sk-container-id-13 {color: black;background-color: white;}#sk-container-id-13 pre{padding: 0;}#sk-container-id-13 div.sk-toggleable {background-color: white;}#sk-container-id-13 label.sk-toggleable__label {cursor: pointer;display: block;width: 100%;margin-bottom: 0;padding: 0.3em;box-sizing: border-box;text-align: center;}#sk-container-id-13 label.sk-toggleable__label-arrow:before {content: \"▸\";float: left;margin-right: 0.25em;color: #696969;}#sk-container-id-13 label.sk-toggleable__label-arrow:hover:before {color: black;}#sk-container-id-13 div.sk-estimator:hover label.sk-toggleable__label-arrow:before {color: black;}#sk-container-id-13 div.sk-toggleable__content {max-height: 0;max-width: 0;overflow: hidden;text-align: left;background-color: #f0f8ff;}#sk-container-id-13 div.sk-toggleable__content pre {margin: 0.2em;color: black;border-radius: 0.25em;background-color: #f0f8ff;}#sk-container-id-13 input.sk-toggleable__control:checked~div.sk-toggleable__content {max-height: 200px;max-width: 100%;overflow: auto;}#sk-container-id-13 input.sk-toggleable__control:checked~label.sk-toggleable__label-arrow:before {content: \"▾\";}#sk-container-id-13 div.sk-estimator input.sk-toggleable__control:checked~label.sk-toggleable__label {background-color: #d4ebff;}#sk-container-id-13 div.sk-label input.sk-toggleable__control:checked~label.sk-toggleable__label {background-color: #d4ebff;}#sk-container-id-13 input.sk-hidden--visually {border: 0;clip: rect(1px 1px 1px 1px);clip: rect(1px, 1px, 1px, 1px);height: 1px;margin: -1px;overflow: hidden;padding: 0;position: absolute;width: 1px;}#sk-container-id-13 div.sk-estimator {font-family: monospace;background-color: #f0f8ff;border: 1px dotted black;border-radius: 0.25em;box-sizing: border-box;margin-bottom: 0.5em;}#sk-container-id-13 div.sk-estimator:hover {background-color: #d4ebff;}#sk-container-id-13 div.sk-parallel-item::after {content: \"\";width: 100%;border-bottom: 1px solid gray;flex-grow: 1;}#sk-container-id-13 div.sk-label:hover label.sk-toggleable__label {background-color: #d4ebff;}#sk-container-id-13 div.sk-serial::before {content: \"\";position: absolute;border-left: 1px solid gray;box-sizing: border-box;top: 0;bottom: 0;left: 50%;z-index: 0;}#sk-container-id-13 div.sk-serial {display: flex;flex-direction: column;align-items: center;background-color: white;padding-right: 0.2em;padding-left: 0.2em;position: relative;}#sk-container-id-13 div.sk-item {position: relative;z-index: 1;}#sk-container-id-13 div.sk-parallel {display: flex;align-items: stretch;justify-content: center;background-color: white;position: relative;}#sk-container-id-13 div.sk-item::before, #sk-container-id-13 div.sk-parallel-item::before {content: \"\";position: absolute;border-left: 1px solid gray;box-sizing: border-box;top: 0;bottom: 0;left: 50%;z-index: -1;}#sk-container-id-13 div.sk-parallel-item {display: flex;flex-direction: column;z-index: 1;position: relative;background-color: white;}#sk-container-id-13 div.sk-parallel-item:first-child::after {align-self: flex-end;width: 50%;}#sk-container-id-13 div.sk-parallel-item:last-child::after {align-self: flex-start;width: 50%;}#sk-container-id-13 div.sk-parallel-item:only-child::after {width: 0;}#sk-container-id-13 div.sk-dashed-wrapped {border: 1px dashed gray;margin: 0 0.4em 0.5em 0.4em;box-sizing: border-box;padding-bottom: 0.4em;background-color: white;}#sk-container-id-13 div.sk-label label {font-family: monospace;font-weight: bold;display: inline-block;line-height: 1.2em;}#sk-container-id-13 div.sk-label-container {text-align: center;}#sk-container-id-13 div.sk-container {/* jupyter's `normalize.less` sets `[hidden] { display: none; }` but bootstrap.min.css set `[hidden] { display: none !important; }` so we also need the `!important` here to be able to override the default hidden behavior on the sphinx rendered scikit-learn.org. See: https://github.com/scikit-learn/scikit-learn/issues/21755 */display: inline-block !important;position: relative;}#sk-container-id-13 div.sk-text-repr-fallback {display: none;}</style><div id=\"sk-container-id-13\" class=\"sk-top-container\"><div class=\"sk-text-repr-fallback\"><pre>LogisticRegression(penalty=&#x27;none&#x27;)</pre><b>In a Jupyter environment, please rerun this cell to show the HTML representation or trust the notebook. <br />On GitHub, the HTML representation is unable to render, please try loading this page with nbviewer.org.</b></div><div class=\"sk-container\" hidden><div class=\"sk-item\"><div class=\"sk-estimator sk-toggleable\"><input class=\"sk-toggleable__control sk-hidden--visually\" id=\"sk-estimator-id-27\" type=\"checkbox\" checked><label for=\"sk-estimator-id-27\" class=\"sk-toggleable__label sk-toggleable__label-arrow\">LogisticRegression</label><div class=\"sk-toggleable__content\"><pre>LogisticRegression(penalty=&#x27;none&#x27;)</pre></div></div></div></div></div>"
      ],
      "text/plain": [
       "LogisticRegression(penalty='none')"
      ]
     },
     "execution_count": 58,
     "metadata": {},
     "output_type": "execute_result"
    }
   ],
   "source": [
    "#model optimal\n",
    "lr_best_model.best_estimator_"
   ]
  },
  {
   "cell_type": "code",
   "execution_count": 59,
   "id": "f96bdb52-2bfa-4025-94c2-53f9236d8acc",
   "metadata": {},
   "outputs": [
    {
     "data": {
      "text/plain": [
       "0.7622284419565506"
      ]
     },
     "execution_count": 59,
     "metadata": {},
     "output_type": "execute_result"
    }
   ],
   "source": [
    "#meilleur score\n",
    "lr_best_model.best_score_"
   ]
  },
  {
   "cell_type": "code",
   "execution_count": 60,
   "id": "8694849e-b9e7-4b36-b388-3b69e75ec025",
   "metadata": {},
   "outputs": [
    {
     "name": "stdout",
     "output_type": "stream",
     "text": [
      "le taux accuracy de regression logistique est de 0.8116883116883117\n"
     ]
    }
   ],
   "source": [
    "#Calculons le taux d'accuracy\n",
    "lr_acc = accuracy_score(Y_test,pred_lr)\n",
    "print('le taux accuracy de regression logistique est de', lr_acc)"
   ]
  },
  {
   "cell_type": "code",
   "execution_count": 61,
   "id": "b335d1dd-6af9-424c-be40-1a9468cb3e03",
   "metadata": {},
   "outputs": [],
   "source": [
    "# Appliquons un modele de Naive Bayesian\n",
    "#instanciation du model\n",
    "from sklearn.naive_bayes import GaussianNB\n",
    "gnb = GaussianNB()\n",
    "#fitting du model\n",
    "gnb.fit(X_train,Y_train)\n",
    "#predictions du model\n",
    "pred_gnb = gnb.predict(X_test)"
   ]
  },
  {
   "cell_type": "code",
   "execution_count": 62,
   "id": "21610170-46e9-496a-aa19-0a490e984343",
   "metadata": {},
   "outputs": [
    {
     "name": "stdout",
     "output_type": "stream",
     "text": [
      "Fitting 5 folds for each of 2 candidates, totalling 10 fits\n",
      "[CV 1/5; 1/2] START priors=None.................................................\n",
      "[CV 1/5; 1/2] END ..................priors=None;, score=0.748 total time=   0.0s\n",
      "[CV 2/5; 1/2] START priors=None.................................................\n",
      "[CV 2/5; 1/2] END ..................priors=None;, score=0.764 total time=   0.0s\n",
      "[CV 3/5; 1/2] START priors=None.................................................\n",
      "[CV 3/5; 1/2] END ..................priors=None;, score=0.715 total time=   0.0s\n",
      "[CV 4/5; 1/2] START priors=None.................................................\n",
      "[CV 4/5; 1/2] END ..................priors=None;, score=0.748 total time=   0.0s\n",
      "[CV 5/5; 1/2] START priors=None.................................................\n",
      "[CV 5/5; 1/2] END ..................priors=None;, score=0.738 total time=   0.0s\n",
      "[CV 1/5; 2/2] START priors=.....................................................\n",
      "[CV 1/5; 2/2] END ........................priors=;, score=nan total time=   0.0s\n",
      "[CV 2/5; 2/2] START priors=.....................................................\n",
      "[CV 2/5; 2/2] END ........................priors=;, score=nan total time=   0.0s\n",
      "[CV 3/5; 2/2] START priors=.....................................................\n",
      "[CV 3/5; 2/2] END ........................priors=;, score=nan total time=   0.0s\n",
      "[CV 4/5; 2/2] START priors=.....................................................\n",
      "[CV 4/5; 2/2] END ........................priors=;, score=nan total time=   0.0s\n",
      "[CV 5/5; 2/2] START priors=.....................................................\n",
      "[CV 5/5; 2/2] END ........................priors=;, score=nan total time=   0.0s\n"
     ]
    },
    {
     "name": "stderr",
     "output_type": "stream",
     "text": [
      "C:\\Users\\lenovo\\AppData\\Local\\Programs\\Python\\Python310\\lib\\site-packages\\sklearn\\model_selection\\_validation.py:378: FitFailedWarning: \n",
      "5 fits failed out of a total of 10.\n",
      "The score on these train-test partitions for these parameters will be set to nan.\n",
      "If these failures are not expected, you can try to debug them by setting error_score='raise'.\n",
      "\n",
      "Below are more details about the failures:\n",
      "--------------------------------------------------------------------------------\n",
      "5 fits failed with the following error:\n",
      "Traceback (most recent call last):\n",
      "  File \"C:\\Users\\lenovo\\AppData\\Local\\Programs\\Python\\Python310\\lib\\site-packages\\sklearn\\model_selection\\_validation.py\", line 686, in _fit_and_score\n",
      "    estimator.fit(X_train, y_train, **fit_params)\n",
      "  File \"C:\\Users\\lenovo\\AppData\\Local\\Programs\\Python\\Python310\\lib\\site-packages\\sklearn\\naive_bayes.py\", line 243, in fit\n",
      "    return self._partial_fit(\n",
      "  File \"C:\\Users\\lenovo\\AppData\\Local\\Programs\\Python\\Python310\\lib\\site-packages\\sklearn\\naive_bayes.py\", line 425, in _partial_fit\n",
      "    if len(priors) != n_classes:\n",
      "TypeError: len() of unsized object\n",
      "\n",
      "  warnings.warn(some_fits_failed_message, FitFailedWarning)\n",
      "C:\\Users\\lenovo\\AppData\\Local\\Programs\\Python\\Python310\\lib\\site-packages\\sklearn\\model_selection\\_search.py:953: UserWarning: One or more of the test scores are non-finite: [0.74266293        nan]\n",
      "  warnings.warn(\n"
     ]
    },
    {
     "data": {
      "text/html": [
       "<style>#sk-container-id-14 {color: black;background-color: white;}#sk-container-id-14 pre{padding: 0;}#sk-container-id-14 div.sk-toggleable {background-color: white;}#sk-container-id-14 label.sk-toggleable__label {cursor: pointer;display: block;width: 100%;margin-bottom: 0;padding: 0.3em;box-sizing: border-box;text-align: center;}#sk-container-id-14 label.sk-toggleable__label-arrow:before {content: \"▸\";float: left;margin-right: 0.25em;color: #696969;}#sk-container-id-14 label.sk-toggleable__label-arrow:hover:before {color: black;}#sk-container-id-14 div.sk-estimator:hover label.sk-toggleable__label-arrow:before {color: black;}#sk-container-id-14 div.sk-toggleable__content {max-height: 0;max-width: 0;overflow: hidden;text-align: left;background-color: #f0f8ff;}#sk-container-id-14 div.sk-toggleable__content pre {margin: 0.2em;color: black;border-radius: 0.25em;background-color: #f0f8ff;}#sk-container-id-14 input.sk-toggleable__control:checked~div.sk-toggleable__content {max-height: 200px;max-width: 100%;overflow: auto;}#sk-container-id-14 input.sk-toggleable__control:checked~label.sk-toggleable__label-arrow:before {content: \"▾\";}#sk-container-id-14 div.sk-estimator input.sk-toggleable__control:checked~label.sk-toggleable__label {background-color: #d4ebff;}#sk-container-id-14 div.sk-label input.sk-toggleable__control:checked~label.sk-toggleable__label {background-color: #d4ebff;}#sk-container-id-14 input.sk-hidden--visually {border: 0;clip: rect(1px 1px 1px 1px);clip: rect(1px, 1px, 1px, 1px);height: 1px;margin: -1px;overflow: hidden;padding: 0;position: absolute;width: 1px;}#sk-container-id-14 div.sk-estimator {font-family: monospace;background-color: #f0f8ff;border: 1px dotted black;border-radius: 0.25em;box-sizing: border-box;margin-bottom: 0.5em;}#sk-container-id-14 div.sk-estimator:hover {background-color: #d4ebff;}#sk-container-id-14 div.sk-parallel-item::after {content: \"\";width: 100%;border-bottom: 1px solid gray;flex-grow: 1;}#sk-container-id-14 div.sk-label:hover label.sk-toggleable__label {background-color: #d4ebff;}#sk-container-id-14 div.sk-serial::before {content: \"\";position: absolute;border-left: 1px solid gray;box-sizing: border-box;top: 0;bottom: 0;left: 50%;z-index: 0;}#sk-container-id-14 div.sk-serial {display: flex;flex-direction: column;align-items: center;background-color: white;padding-right: 0.2em;padding-left: 0.2em;position: relative;}#sk-container-id-14 div.sk-item {position: relative;z-index: 1;}#sk-container-id-14 div.sk-parallel {display: flex;align-items: stretch;justify-content: center;background-color: white;position: relative;}#sk-container-id-14 div.sk-item::before, #sk-container-id-14 div.sk-parallel-item::before {content: \"\";position: absolute;border-left: 1px solid gray;box-sizing: border-box;top: 0;bottom: 0;left: 50%;z-index: -1;}#sk-container-id-14 div.sk-parallel-item {display: flex;flex-direction: column;z-index: 1;position: relative;background-color: white;}#sk-container-id-14 div.sk-parallel-item:first-child::after {align-self: flex-end;width: 50%;}#sk-container-id-14 div.sk-parallel-item:last-child::after {align-self: flex-start;width: 50%;}#sk-container-id-14 div.sk-parallel-item:only-child::after {width: 0;}#sk-container-id-14 div.sk-dashed-wrapped {border: 1px dashed gray;margin: 0 0.4em 0.5em 0.4em;box-sizing: border-box;padding-bottom: 0.4em;background-color: white;}#sk-container-id-14 div.sk-label label {font-family: monospace;font-weight: bold;display: inline-block;line-height: 1.2em;}#sk-container-id-14 div.sk-label-container {text-align: center;}#sk-container-id-14 div.sk-container {/* jupyter's `normalize.less` sets `[hidden] { display: none; }` but bootstrap.min.css set `[hidden] { display: none !important; }` so we also need the `!important` here to be able to override the default hidden behavior on the sphinx rendered scikit-learn.org. See: https://github.com/scikit-learn/scikit-learn/issues/21755 */display: inline-block !important;position: relative;}#sk-container-id-14 div.sk-text-repr-fallback {display: none;}</style><div id=\"sk-container-id-14\" class=\"sk-top-container\"><div class=\"sk-text-repr-fallback\"><pre>GridSearchCV(cv=5, estimator=GaussianNB(), param_grid=[{&#x27;priors&#x27;: [None, &#x27;&#x27;]}],\n",
       "             verbose=16)</pre><b>In a Jupyter environment, please rerun this cell to show the HTML representation or trust the notebook. <br />On GitHub, the HTML representation is unable to render, please try loading this page with nbviewer.org.</b></div><div class=\"sk-container\" hidden><div class=\"sk-item sk-dashed-wrapped\"><div class=\"sk-label-container\"><div class=\"sk-label sk-toggleable\"><input class=\"sk-toggleable__control sk-hidden--visually\" id=\"sk-estimator-id-28\" type=\"checkbox\" ><label for=\"sk-estimator-id-28\" class=\"sk-toggleable__label sk-toggleable__label-arrow\">GridSearchCV</label><div class=\"sk-toggleable__content\"><pre>GridSearchCV(cv=5, estimator=GaussianNB(), param_grid=[{&#x27;priors&#x27;: [None, &#x27;&#x27;]}],\n",
       "             verbose=16)</pre></div></div></div><div class=\"sk-parallel\"><div class=\"sk-parallel-item\"><div class=\"sk-item\"><div class=\"sk-label-container\"><div class=\"sk-label sk-toggleable\"><input class=\"sk-toggleable__control sk-hidden--visually\" id=\"sk-estimator-id-29\" type=\"checkbox\" ><label for=\"sk-estimator-id-29\" class=\"sk-toggleable__label sk-toggleable__label-arrow\">estimator: GaussianNB</label><div class=\"sk-toggleable__content\"><pre>GaussianNB()</pre></div></div></div><div class=\"sk-serial\"><div class=\"sk-item\"><div class=\"sk-estimator sk-toggleable\"><input class=\"sk-toggleable__control sk-hidden--visually\" id=\"sk-estimator-id-30\" type=\"checkbox\" ><label for=\"sk-estimator-id-30\" class=\"sk-toggleable__label sk-toggleable__label-arrow\">GaussianNB</label><div class=\"sk-toggleable__content\"><pre>GaussianNB()</pre></div></div></div></div></div></div></div></div></div></div>"
      ],
      "text/plain": [
       "GridSearchCV(cv=5, estimator=GaussianNB(), param_grid=[{'priors': [None, '']}],\n",
       "             verbose=16)"
      ]
     },
     "execution_count": 62,
     "metadata": {},
     "output_type": "execute_result"
    }
   ],
   "source": [
    "params=[\n",
    "    {'priors':[None,'']}\n",
    "]\n",
    "##instantiation du model\n",
    "gnb_best_model=GridSearchCV(gnb,params,cv=5,verbose=16)\n",
    "gnb_best_model.fit(X_train,Y_train)"
   ]
  },
  {
   "cell_type": "code",
   "execution_count": 63,
   "id": "27369a41-26ea-42da-b448-3c685b0e0df5",
   "metadata": {},
   "outputs": [
    {
     "data": {
      "text/plain": [
       "{'priors': None}"
      ]
     },
     "execution_count": 63,
     "metadata": {},
     "output_type": "execute_result"
    }
   ],
   "source": [
    "#parametres optionnaux\n",
    "gnb_best_model.best_params_"
   ]
  },
  {
   "cell_type": "code",
   "execution_count": 64,
   "id": "095c6683-139c-4f9d-9093-0cd06ad016cf",
   "metadata": {},
   "outputs": [
    {
     "data": {
      "text/html": [
       "<style>#sk-container-id-15 {color: black;background-color: white;}#sk-container-id-15 pre{padding: 0;}#sk-container-id-15 div.sk-toggleable {background-color: white;}#sk-container-id-15 label.sk-toggleable__label {cursor: pointer;display: block;width: 100%;margin-bottom: 0;padding: 0.3em;box-sizing: border-box;text-align: center;}#sk-container-id-15 label.sk-toggleable__label-arrow:before {content: \"▸\";float: left;margin-right: 0.25em;color: #696969;}#sk-container-id-15 label.sk-toggleable__label-arrow:hover:before {color: black;}#sk-container-id-15 div.sk-estimator:hover label.sk-toggleable__label-arrow:before {color: black;}#sk-container-id-15 div.sk-toggleable__content {max-height: 0;max-width: 0;overflow: hidden;text-align: left;background-color: #f0f8ff;}#sk-container-id-15 div.sk-toggleable__content pre {margin: 0.2em;color: black;border-radius: 0.25em;background-color: #f0f8ff;}#sk-container-id-15 input.sk-toggleable__control:checked~div.sk-toggleable__content {max-height: 200px;max-width: 100%;overflow: auto;}#sk-container-id-15 input.sk-toggleable__control:checked~label.sk-toggleable__label-arrow:before {content: \"▾\";}#sk-container-id-15 div.sk-estimator input.sk-toggleable__control:checked~label.sk-toggleable__label {background-color: #d4ebff;}#sk-container-id-15 div.sk-label input.sk-toggleable__control:checked~label.sk-toggleable__label {background-color: #d4ebff;}#sk-container-id-15 input.sk-hidden--visually {border: 0;clip: rect(1px 1px 1px 1px);clip: rect(1px, 1px, 1px, 1px);height: 1px;margin: -1px;overflow: hidden;padding: 0;position: absolute;width: 1px;}#sk-container-id-15 div.sk-estimator {font-family: monospace;background-color: #f0f8ff;border: 1px dotted black;border-radius: 0.25em;box-sizing: border-box;margin-bottom: 0.5em;}#sk-container-id-15 div.sk-estimator:hover {background-color: #d4ebff;}#sk-container-id-15 div.sk-parallel-item::after {content: \"\";width: 100%;border-bottom: 1px solid gray;flex-grow: 1;}#sk-container-id-15 div.sk-label:hover label.sk-toggleable__label {background-color: #d4ebff;}#sk-container-id-15 div.sk-serial::before {content: \"\";position: absolute;border-left: 1px solid gray;box-sizing: border-box;top: 0;bottom: 0;left: 50%;z-index: 0;}#sk-container-id-15 div.sk-serial {display: flex;flex-direction: column;align-items: center;background-color: white;padding-right: 0.2em;padding-left: 0.2em;position: relative;}#sk-container-id-15 div.sk-item {position: relative;z-index: 1;}#sk-container-id-15 div.sk-parallel {display: flex;align-items: stretch;justify-content: center;background-color: white;position: relative;}#sk-container-id-15 div.sk-item::before, #sk-container-id-15 div.sk-parallel-item::before {content: \"\";position: absolute;border-left: 1px solid gray;box-sizing: border-box;top: 0;bottom: 0;left: 50%;z-index: -1;}#sk-container-id-15 div.sk-parallel-item {display: flex;flex-direction: column;z-index: 1;position: relative;background-color: white;}#sk-container-id-15 div.sk-parallel-item:first-child::after {align-self: flex-end;width: 50%;}#sk-container-id-15 div.sk-parallel-item:last-child::after {align-self: flex-start;width: 50%;}#sk-container-id-15 div.sk-parallel-item:only-child::after {width: 0;}#sk-container-id-15 div.sk-dashed-wrapped {border: 1px dashed gray;margin: 0 0.4em 0.5em 0.4em;box-sizing: border-box;padding-bottom: 0.4em;background-color: white;}#sk-container-id-15 div.sk-label label {font-family: monospace;font-weight: bold;display: inline-block;line-height: 1.2em;}#sk-container-id-15 div.sk-label-container {text-align: center;}#sk-container-id-15 div.sk-container {/* jupyter's `normalize.less` sets `[hidden] { display: none; }` but bootstrap.min.css set `[hidden] { display: none !important; }` so we also need the `!important` here to be able to override the default hidden behavior on the sphinx rendered scikit-learn.org. See: https://github.com/scikit-learn/scikit-learn/issues/21755 */display: inline-block !important;position: relative;}#sk-container-id-15 div.sk-text-repr-fallback {display: none;}</style><div id=\"sk-container-id-15\" class=\"sk-top-container\"><div class=\"sk-text-repr-fallback\"><pre>GaussianNB()</pre><b>In a Jupyter environment, please rerun this cell to show the HTML representation or trust the notebook. <br />On GitHub, the HTML representation is unable to render, please try loading this page with nbviewer.org.</b></div><div class=\"sk-container\" hidden><div class=\"sk-item\"><div class=\"sk-estimator sk-toggleable\"><input class=\"sk-toggleable__control sk-hidden--visually\" id=\"sk-estimator-id-31\" type=\"checkbox\" checked><label for=\"sk-estimator-id-31\" class=\"sk-toggleable__label sk-toggleable__label-arrow\">GaussianNB</label><div class=\"sk-toggleable__content\"><pre>GaussianNB()</pre></div></div></div></div></div>"
      ],
      "text/plain": [
       "GaussianNB()"
      ]
     },
     "execution_count": 64,
     "metadata": {},
     "output_type": "execute_result"
    }
   ],
   "source": [
    "#model optimal\n",
    "gnb_best_model.best_estimator_"
   ]
  },
  {
   "cell_type": "code",
   "execution_count": 65,
   "id": "9757892a-baa0-4258-86c9-5e95ee992875",
   "metadata": {},
   "outputs": [
    {
     "data": {
      "text/plain": [
       "0.7426629348260696"
      ]
     },
     "execution_count": 65,
     "metadata": {},
     "output_type": "execute_result"
    }
   ],
   "source": [
    "#meilleur score\n",
    "gnb_best_model.best_score_"
   ]
  },
  {
   "cell_type": "code",
   "execution_count": 66,
   "id": "1bfb08e8-2bae-4ff5-95fd-1de3b2f485e2",
   "metadata": {},
   "outputs": [
    {
     "name": "stdout",
     "output_type": "stream",
     "text": [
      "le taux accuracy de Naive Bayesian est de 0.7922077922077922\n"
     ]
    }
   ],
   "source": [
    "#Calculons le taux d'accuracy\n",
    "gnb_acc = accuracy_score(Y_test,pred_gnb)\n",
    "print('le taux accuracy de Naive Bayesian est de', gnb_acc)"
   ]
  },
  {
   "cell_type": "code",
   "execution_count": 67,
   "id": "b89bf94e-1a1e-4bda-b86d-5989cc9f3746",
   "metadata": {},
   "outputs": [],
   "source": [
    "#Appliquons un modele d'Arbre de decision\n",
    "#instanciation du model\n",
    "from sklearn.tree import DecisionTreeClassifier\n",
    "dtc = DecisionTreeClassifier()\n",
    "#fitting du model\n",
    "dtc.fit(X_train,Y_train)\n",
    "#predictions du model\n",
    "pred_dtc = dtc.predict(X_test)"
   ]
  },
  {
   "cell_type": "code",
   "execution_count": 68,
   "id": "fe870b1d-3a26-428b-8717-4fc1f1603d12",
   "metadata": {},
   "outputs": [
    {
     "name": "stdout",
     "output_type": "stream",
     "text": [
      "Fitting 15 folds for each of 20 candidates, totalling 300 fits\n",
      "[CV 1/15; 1/20] START criterion=gini............................................\n",
      "[CV 1/15; 1/20] END .............criterion=gini;, score=0.707 total time=   0.0s\n",
      "[CV 2/15; 1/20] START criterion=gini............................................\n",
      "[CV 2/15; 1/20] END .............criterion=gini;, score=0.634 total time=   0.0s\n",
      "[CV 3/15; 1/20] START criterion=gini............................................\n",
      "[CV 3/15; 1/20] END .............criterion=gini;, score=0.585 total time=   0.0s\n",
      "[CV 4/15; 1/20] START criterion=gini............................................\n",
      "[CV 4/15; 1/20] END .............criterion=gini;, score=0.780 total time=   0.0s\n",
      "[CV 5/15; 1/20] START criterion=gini............................................\n",
      "[CV 5/15; 1/20] END .............criterion=gini;, score=0.707 total time=   0.0s\n",
      "[CV 6/15; 1/20] START criterion=gini............................................\n",
      "[CV 6/15; 1/20] END .............criterion=gini;, score=0.707 total time=   0.0s\n",
      "[CV 7/15; 1/20] START criterion=gini............................................\n",
      "[CV 7/15; 1/20] END .............criterion=gini;, score=0.659 total time=   0.0s\n",
      "[CV 8/15; 1/20] START criterion=gini............................................\n",
      "[CV 8/15; 1/20] END .............criterion=gini;, score=0.707 total time=   0.0s\n",
      "[CV 9/15; 1/20] START criterion=gini............................................\n",
      "[CV 9/15; 1/20] END .............criterion=gini;, score=0.683 total time=   0.0s\n",
      "[CV 10/15; 1/20] START criterion=gini...........................................\n",
      "[CV 10/15; 1/20] END ............criterion=gini;, score=0.707 total time=   0.0s\n",
      "[CV 11/15; 1/20] START criterion=gini...........................................\n",
      "[CV 11/15; 1/20] END ............criterion=gini;, score=0.707 total time=   0.0s\n",
      "[CV 12/15; 1/20] START criterion=gini...........................................\n",
      "[CV 12/15; 1/20] END ............criterion=gini;, score=0.756 total time=   0.0s\n",
      "[CV 13/15; 1/20] START criterion=gini...........................................\n",
      "[CV 13/15; 1/20] END ............criterion=gini;, score=0.561 total time=   0.0s\n",
      "[CV 14/15; 1/20] START criterion=gini...........................................\n",
      "[CV 14/15; 1/20] END ............criterion=gini;, score=0.634 total time=   0.0s\n",
      "[CV 15/15; 1/20] START criterion=gini...........................................\n",
      "[CV 15/15; 1/20] END ............criterion=gini;, score=0.625 total time=   0.0s\n",
      "[CV 1/15; 2/20] START criterion=entropy.........................................\n",
      "[CV 1/15; 2/20] END ..........criterion=entropy;, score=0.683 total time=   0.0s\n",
      "[CV 2/15; 2/20] START criterion=entropy.........................................\n",
      "[CV 2/15; 2/20] END ..........criterion=entropy;, score=0.756 total time=   0.0s\n",
      "[CV 3/15; 2/20] START criterion=entropy.........................................\n",
      "[CV 3/15; 2/20] END ..........criterion=entropy;, score=0.634 total time=   0.0s\n",
      "[CV 4/15; 2/20] START criterion=entropy.........................................\n",
      "[CV 4/15; 2/20] END ..........criterion=entropy;, score=0.707 total time=   0.0s\n",
      "[CV 5/15; 2/20] START criterion=entropy.........................................\n",
      "[CV 5/15; 2/20] END ..........criterion=entropy;, score=0.707 total time=   0.0s\n",
      "[CV 6/15; 2/20] START criterion=entropy.........................................\n",
      "[CV 6/15; 2/20] END ..........criterion=entropy;, score=0.683 total time=   0.0s\n",
      "[CV 7/15; 2/20] START criterion=entropy.........................................\n",
      "[CV 7/15; 2/20] END ..........criterion=entropy;, score=0.659 total time=   0.0s\n",
      "[CV 8/15; 2/20] START criterion=entropy.........................................\n",
      "[CV 8/15; 2/20] END ..........criterion=entropy;, score=0.854 total time=   0.0s\n",
      "[CV 9/15; 2/20] START criterion=entropy.........................................\n",
      "[CV 9/15; 2/20] END ..........criterion=entropy;, score=0.659 total time=   0.0s\n",
      "[CV 10/15; 2/20] START criterion=entropy........................................\n",
      "[CV 10/15; 2/20] END .........criterion=entropy;, score=0.707 total time=   0.0s\n",
      "[CV 11/15; 2/20] START criterion=entropy........................................\n",
      "[CV 11/15; 2/20] END .........criterion=entropy;, score=0.634 total time=   0.0s\n",
      "[CV 12/15; 2/20] START criterion=entropy........................................\n",
      "[CV 12/15; 2/20] END .........criterion=entropy;, score=0.732 total time=   0.0s\n",
      "[CV 13/15; 2/20] START criterion=entropy........................................\n",
      "[CV 13/15; 2/20] END .........criterion=entropy;, score=0.610 total time=   0.0s\n",
      "[CV 14/15; 2/20] START criterion=entropy........................................\n",
      "[CV 14/15; 2/20] END .........criterion=entropy;, score=0.683 total time=   0.0s\n",
      "[CV 15/15; 2/20] START criterion=entropy........................................\n",
      "[CV 15/15; 2/20] END .........criterion=entropy;, score=0.675 total time=   0.0s\n",
      "[CV 1/15; 3/20] START max_depth=10..............................................\n",
      "[CV 1/15; 3/20] END ...............max_depth=10;, score=0.634 total time=   0.0s\n",
      "[CV 2/15; 3/20] START max_depth=10..............................................\n",
      "[CV 2/15; 3/20] END ...............max_depth=10;, score=0.683 total time=   0.0s\n",
      "[CV 3/15; 3/20] START max_depth=10..............................................\n",
      "[CV 3/15; 3/20] END ...............max_depth=10;, score=0.610 total time=   0.0s\n",
      "[CV 4/15; 3/20] START max_depth=10..............................................\n",
      "[CV 4/15; 3/20] END ...............max_depth=10;, score=0.829 total time=   0.0s\n",
      "[CV 5/15; 3/20] START max_depth=10..............................................\n",
      "[CV 5/15; 3/20] END ...............max_depth=10;, score=0.634 total time=   0.0s\n",
      "[CV 6/15; 3/20] START max_depth=10..............................................\n",
      "[CV 6/15; 3/20] END ...............max_depth=10;, score=0.732 total time=   0.0s\n",
      "[CV 7/15; 3/20] START max_depth=10..............................................\n",
      "[CV 7/15; 3/20] END ...............max_depth=10;, score=0.683 total time=   0.0s\n",
      "[CV 8/15; 3/20] START max_depth=10..............................................\n",
      "[CV 8/15; 3/20] END ...............max_depth=10;, score=0.780 total time=   0.0s\n",
      "[CV 9/15; 3/20] START max_depth=10..............................................\n",
      "[CV 9/15; 3/20] END ...............max_depth=10;, score=0.683 total time=   0.0s\n",
      "[CV 10/15; 3/20] START max_depth=10.............................................\n",
      "[CV 10/15; 3/20] END ..............max_depth=10;, score=0.707 total time=   0.0s\n",
      "[CV 11/15; 3/20] START max_depth=10.............................................\n",
      "[CV 11/15; 3/20] END ..............max_depth=10;, score=0.683 total time=   0.0s\n",
      "[CV 12/15; 3/20] START max_depth=10.............................................\n",
      "[CV 12/15; 3/20] END ..............max_depth=10;, score=0.756 total time=   0.0s\n",
      "[CV 13/15; 3/20] START max_depth=10.............................................\n",
      "[CV 13/15; 3/20] END ..............max_depth=10;, score=0.561 total time=   0.0s\n",
      "[CV 14/15; 3/20] START max_depth=10.............................................\n",
      "[CV 14/15; 3/20] END ..............max_depth=10;, score=0.659 total time=   0.0s\n",
      "[CV 15/15; 3/20] START max_depth=10.............................................\n",
      "[CV 15/15; 3/20] END ..............max_depth=10;, score=0.675 total time=   0.0s\n",
      "[CV 1/15; 4/20] START max_depth=15..............................................\n",
      "[CV 1/15; 4/20] END ...............max_depth=15;, score=0.707 total time=   0.0s\n",
      "[CV 2/15; 4/20] START max_depth=15..............................................\n",
      "[CV 2/15; 4/20] END ...............max_depth=15;, score=0.659 total time=   0.0s\n",
      "[CV 3/15; 4/20] START max_depth=15..............................................\n",
      "[CV 3/15; 4/20] END ...............max_depth=15;, score=0.659 total time=   0.0s\n",
      "[CV 4/15; 4/20] START max_depth=15..............................................\n",
      "[CV 4/15; 4/20] END ...............max_depth=15;, score=0.829 total time=   0.0s\n",
      "[CV 5/15; 4/20] START max_depth=15..............................................\n",
      "[CV 5/15; 4/20] END ...............max_depth=15;, score=0.659 total time=   0.0s\n",
      "[CV 6/15; 4/20] START max_depth=15..............................................\n",
      "[CV 6/15; 4/20] END ...............max_depth=15;, score=0.683 total time=   0.0s\n",
      "[CV 7/15; 4/20] START max_depth=15..............................................\n",
      "[CV 7/15; 4/20] END ...............max_depth=15;, score=0.659 total time=   0.0s\n",
      "[CV 8/15; 4/20] START max_depth=15..............................................\n",
      "[CV 8/15; 4/20] END ...............max_depth=15;, score=0.707 total time=   0.0s\n",
      "[CV 9/15; 4/20] START max_depth=15..............................................\n",
      "[CV 9/15; 4/20] END ...............max_depth=15;, score=0.634 total time=   0.0s\n",
      "[CV 10/15; 4/20] START max_depth=15.............................................\n",
      "[CV 10/15; 4/20] END ..............max_depth=15;, score=0.707 total time=   0.0s\n",
      "[CV 11/15; 4/20] START max_depth=15.............................................\n",
      "[CV 11/15; 4/20] END ..............max_depth=15;, score=0.683 total time=   0.0s\n",
      "[CV 12/15; 4/20] START max_depth=15.............................................\n",
      "[CV 12/15; 4/20] END ..............max_depth=15;, score=0.756 total time=   0.0s\n",
      "[CV 13/15; 4/20] START max_depth=15.............................................\n",
      "[CV 13/15; 4/20] END ..............max_depth=15;, score=0.537 total time=   0.0s\n",
      "[CV 14/15; 4/20] START max_depth=15.............................................\n",
      "[CV 14/15; 4/20] END ..............max_depth=15;, score=0.659 total time=   0.0s\n",
      "[CV 15/15; 4/20] START max_depth=15.............................................\n",
      "[CV 15/15; 4/20] END ..............max_depth=15;, score=0.625 total time=   0.0s\n",
      "[CV 1/15; 5/20] START max_depth=25..............................................\n",
      "[CV 1/15; 5/20] END ...............max_depth=25;, score=0.683 total time=   0.0s\n",
      "[CV 2/15; 5/20] START max_depth=25..............................................\n",
      "[CV 2/15; 5/20] END ...............max_depth=25;, score=0.659 total time=   0.0s\n",
      "[CV 3/15; 5/20] START max_depth=25..............................................\n",
      "[CV 3/15; 5/20] END ...............max_depth=25;, score=0.634 total time=   0.0s\n",
      "[CV 4/15; 5/20] START max_depth=25..............................................\n",
      "[CV 4/15; 5/20] END ...............max_depth=25;, score=0.854 total time=   0.0s\n",
      "[CV 5/15; 5/20] START max_depth=25..............................................\n",
      "[CV 5/15; 5/20] END ...............max_depth=25;, score=0.707 total time=   0.0s\n",
      "[CV 6/15; 5/20] START max_depth=25..............................................\n",
      "[CV 6/15; 5/20] END ...............max_depth=25;, score=0.732 total time=   0.0s\n",
      "[CV 7/15; 5/20] START max_depth=25..............................................\n",
      "[CV 7/15; 5/20] END ...............max_depth=25;, score=0.683 total time=   0.0s\n",
      "[CV 8/15; 5/20] START max_depth=25..............................................\n",
      "[CV 8/15; 5/20] END ...............max_depth=25;, score=0.756 total time=   0.0s\n",
      "[CV 9/15; 5/20] START max_depth=25..............................................\n",
      "[CV 9/15; 5/20] END ...............max_depth=25;, score=0.585 total time=   0.0s\n",
      "[CV 10/15; 5/20] START max_depth=25.............................................\n",
      "[CV 10/15; 5/20] END ..............max_depth=25;, score=0.683 total time=   0.0s\n",
      "[CV 11/15; 5/20] START max_depth=25.............................................\n",
      "[CV 11/15; 5/20] END ..............max_depth=25;, score=0.659 total time=   0.0s\n",
      "[CV 12/15; 5/20] START max_depth=25.............................................\n",
      "[CV 12/15; 5/20] END ..............max_depth=25;, score=0.780 total time=   0.0s\n",
      "[CV 13/15; 5/20] START max_depth=25.............................................\n",
      "[CV 13/15; 5/20] END ..............max_depth=25;, score=0.561 total time=   0.0s\n",
      "[CV 14/15; 5/20] START max_depth=25.............................................\n",
      "[CV 14/15; 5/20] END ..............max_depth=25;, score=0.610 total time=   0.0s\n",
      "[CV 15/15; 5/20] START max_depth=25.............................................\n",
      "[CV 15/15; 5/20] END ..............max_depth=25;, score=0.675 total time=   0.0s\n",
      "[CV 1/15; 6/20] START max_depth=33..............................................\n",
      "[CV 1/15; 6/20] END ...............max_depth=33;, score=0.683 total time=   0.0s\n",
      "[CV 2/15; 6/20] START max_depth=33..............................................\n",
      "[CV 2/15; 6/20] END ...............max_depth=33;, score=0.683 total time=   0.0s\n",
      "[CV 3/15; 6/20] START max_depth=33..............................................\n",
      "[CV 3/15; 6/20] END ...............max_depth=33;, score=0.585 total time=   0.0s\n",
      "[CV 4/15; 6/20] START max_depth=33..............................................\n",
      "[CV 4/15; 6/20] END ...............max_depth=33;, score=0.805 total time=   0.0s\n",
      "[CV 5/15; 6/20] START max_depth=33..............................................\n",
      "[CV 5/15; 6/20] END ...............max_depth=33;, score=0.707 total time=   0.0s\n",
      "[CV 6/15; 6/20] START max_depth=33..............................................\n",
      "[CV 6/15; 6/20] END ...............max_depth=33;, score=0.707 total time=   0.0s\n",
      "[CV 7/15; 6/20] START max_depth=33..............................................\n",
      "[CV 7/15; 6/20] END ...............max_depth=33;, score=0.707 total time=   0.0s\n",
      "[CV 8/15; 6/20] START max_depth=33..............................................\n",
      "[CV 8/15; 6/20] END ...............max_depth=33;, score=0.707 total time=   0.0s\n",
      "[CV 9/15; 6/20] START max_depth=33..............................................\n",
      "[CV 9/15; 6/20] END ...............max_depth=33;, score=0.659 total time=   0.0s\n",
      "[CV 10/15; 6/20] START max_depth=33.............................................\n",
      "[CV 10/15; 6/20] END ..............max_depth=33;, score=0.707 total time=   0.0s\n",
      "[CV 11/15; 6/20] START max_depth=33.............................................\n",
      "[CV 11/15; 6/20] END ..............max_depth=33;, score=0.683 total time=   0.0s\n",
      "[CV 12/15; 6/20] START max_depth=33.............................................\n",
      "[CV 12/15; 6/20] END ..............max_depth=33;, score=0.756 total time=   0.0s\n",
      "[CV 13/15; 6/20] START max_depth=33.............................................\n",
      "[CV 13/15; 6/20] END ..............max_depth=33;, score=0.585 total time=   0.0s\n",
      "[CV 14/15; 6/20] START max_depth=33.............................................\n",
      "[CV 14/15; 6/20] END ..............max_depth=33;, score=0.634 total time=   0.0s\n",
      "[CV 15/15; 6/20] START max_depth=33.............................................\n",
      "[CV 15/15; 6/20] END ..............max_depth=33;, score=0.675 total time=   0.0s\n",
      "[CV 1/15; 7/20] START max_depth=5...............................................\n",
      "[CV 1/15; 7/20] END ................max_depth=5;, score=0.659 total time=   0.0s\n",
      "[CV 2/15; 7/20] START max_depth=5...............................................\n",
      "[CV 2/15; 7/20] END ................max_depth=5;, score=0.683 total time=   0.0s\n",
      "[CV 3/15; 7/20] START max_depth=5...............................................\n",
      "[CV 3/15; 7/20] END ................max_depth=5;, score=0.659 total time=   0.0s\n",
      "[CV 4/15; 7/20] START max_depth=5...............................................\n",
      "[CV 4/15; 7/20] END ................max_depth=5;, score=0.780 total time=   0.0s\n",
      "[CV 5/15; 7/20] START max_depth=5...............................................\n",
      "[CV 5/15; 7/20] END ................max_depth=5;, score=0.707 total time=   0.0s\n",
      "[CV 6/15; 7/20] START max_depth=5...............................................\n",
      "[CV 6/15; 7/20] END ................max_depth=5;, score=0.756 total time=   0.0s\n",
      "[CV 7/15; 7/20] START max_depth=5...............................................\n",
      "[CV 7/15; 7/20] END ................max_depth=5;, score=0.610 total time=   0.0s\n",
      "[CV 8/15; 7/20] START max_depth=5...............................................\n",
      "[CV 8/15; 7/20] END ................max_depth=5;, score=0.732 total time=   0.0s\n",
      "[CV 9/15; 7/20] START max_depth=5...............................................\n",
      "[CV 9/15; 7/20] END ................max_depth=5;, score=0.634 total time=   0.0s\n",
      "[CV 10/15; 7/20] START max_depth=5..............................................\n",
      "[CV 10/15; 7/20] END ...............max_depth=5;, score=0.732 total time=   0.0s\n",
      "[CV 11/15; 7/20] START max_depth=5..............................................\n",
      "[CV 11/15; 7/20] END ...............max_depth=5;, score=0.659 total time=   0.0s\n",
      "[CV 12/15; 7/20] START max_depth=5..............................................\n",
      "[CV 12/15; 7/20] END ...............max_depth=5;, score=0.780 total time=   0.0s\n",
      "[CV 13/15; 7/20] START max_depth=5..............................................\n",
      "[CV 13/15; 7/20] END ...............max_depth=5;, score=0.585 total time=   0.0s\n",
      "[CV 14/15; 7/20] START max_depth=5..............................................\n",
      "[CV 14/15; 7/20] END ...............max_depth=5;, score=0.780 total time=   0.0s\n",
      "[CV 15/15; 7/20] START max_depth=5..............................................\n",
      "[CV 15/15; 7/20] END ...............max_depth=5;, score=0.650 total time=   0.0s\n",
      "[CV 1/15; 8/20] START max_depth=None............................................\n",
      "[CV 1/15; 8/20] END .............max_depth=None;, score=0.683 total time=   0.0s\n",
      "[CV 2/15; 8/20] START max_depth=None............................................\n",
      "[CV 2/15; 8/20] END .............max_depth=None;, score=0.634 total time=   0.0s\n",
      "[CV 3/15; 8/20] START max_depth=None............................................\n",
      "[CV 3/15; 8/20] END .............max_depth=None;, score=0.634 total time=   0.0s\n",
      "[CV 4/15; 8/20] START max_depth=None............................................\n",
      "[CV 4/15; 8/20] END .............max_depth=None;, score=0.780 total time=   0.0s\n",
      "[CV 5/15; 8/20] START max_depth=None............................................\n",
      "[CV 5/15; 8/20] END .............max_depth=None;, score=0.707 total time=   0.0s\n",
      "[CV 6/15; 8/20] START max_depth=None............................................\n",
      "[CV 6/15; 8/20] END .............max_depth=None;, score=0.780 total time=   0.0s\n",
      "[CV 7/15; 8/20] START max_depth=None............................................\n",
      "[CV 7/15; 8/20] END .............max_depth=None;, score=0.683 total time=   0.0s\n",
      "[CV 8/15; 8/20] START max_depth=None............................................\n",
      "[CV 8/15; 8/20] END .............max_depth=None;, score=0.707 total time=   0.0s\n",
      "[CV 9/15; 8/20] START max_depth=None............................................\n",
      "[CV 9/15; 8/20] END .............max_depth=None;, score=0.634 total time=   0.0s\n",
      "[CV 10/15; 8/20] START max_depth=None...........................................\n",
      "[CV 10/15; 8/20] END ............max_depth=None;, score=0.707 total time=   0.0s\n",
      "[CV 11/15; 8/20] START max_depth=None...........................................\n",
      "[CV 11/15; 8/20] END ............max_depth=None;, score=0.732 total time=   0.0s\n",
      "[CV 12/15; 8/20] START max_depth=None...........................................\n",
      "[CV 12/15; 8/20] END ............max_depth=None;, score=0.732 total time=   0.0s\n",
      "[CV 13/15; 8/20] START max_depth=None...........................................\n",
      "[CV 13/15; 8/20] END ............max_depth=None;, score=0.585 total time=   0.0s\n",
      "[CV 14/15; 8/20] START max_depth=None...........................................\n",
      "[CV 14/15; 8/20] END ............max_depth=None;, score=0.610 total time=   0.0s\n",
      "[CV 15/15; 8/20] START max_depth=None...........................................\n",
      "[CV 15/15; 8/20] END ............max_depth=None;, score=0.650 total time=   0.0s\n",
      "[CV 1/15; 9/20] START min_samples_leaf=1........................................\n",
      "[CV 1/15; 9/20] END .........min_samples_leaf=1;, score=0.659 total time=   0.0s\n",
      "[CV 2/15; 9/20] START min_samples_leaf=1........................................\n",
      "[CV 2/15; 9/20] END .........min_samples_leaf=1;, score=0.659 total time=   0.0s\n",
      "[CV 3/15; 9/20] START min_samples_leaf=1........................................\n",
      "[CV 3/15; 9/20] END .........min_samples_leaf=1;, score=0.634 total time=   0.0s\n",
      "[CV 4/15; 9/20] START min_samples_leaf=1........................................\n",
      "[CV 4/15; 9/20] END .........min_samples_leaf=1;, score=0.829 total time=   0.0s\n",
      "[CV 5/15; 9/20] START min_samples_leaf=1........................................\n",
      "[CV 5/15; 9/20] END .........min_samples_leaf=1;, score=0.683 total time=   0.0s\n",
      "[CV 6/15; 9/20] START min_samples_leaf=1........................................\n",
      "[CV 6/15; 9/20] END .........min_samples_leaf=1;, score=0.683 total time=   0.0s\n",
      "[CV 7/15; 9/20] START min_samples_leaf=1........................................\n",
      "[CV 7/15; 9/20] END .........min_samples_leaf=1;, score=0.683 total time=   0.0s\n",
      "[CV 8/15; 9/20] START min_samples_leaf=1........................................\n",
      "[CV 8/15; 9/20] END .........min_samples_leaf=1;, score=0.732 total time=   0.0s\n",
      "[CV 9/15; 9/20] START min_samples_leaf=1........................................\n",
      "[CV 9/15; 9/20] END .........min_samples_leaf=1;, score=0.659 total time=   0.0s\n",
      "[CV 10/15; 9/20] START min_samples_leaf=1.......................................\n",
      "[CV 10/15; 9/20] END ........min_samples_leaf=1;, score=0.683 total time=   0.0s\n",
      "[CV 11/15; 9/20] START min_samples_leaf=1.......................................\n",
      "[CV 11/15; 9/20] END ........min_samples_leaf=1;, score=0.707 total time=   0.0s\n",
      "[CV 12/15; 9/20] START min_samples_leaf=1.......................................\n",
      "[CV 12/15; 9/20] END ........min_samples_leaf=1;, score=0.756 total time=   0.0s\n",
      "[CV 13/15; 9/20] START min_samples_leaf=1.......................................\n",
      "[CV 13/15; 9/20] END ........min_samples_leaf=1;, score=0.512 total time=   0.0s\n",
      "[CV 14/15; 9/20] START min_samples_leaf=1.......................................\n",
      "[CV 14/15; 9/20] END ........min_samples_leaf=1;, score=0.610 total time=   0.0s\n",
      "[CV 15/15; 9/20] START min_samples_leaf=1.......................................\n",
      "[CV 15/15; 9/20] END ........min_samples_leaf=1;, score=0.625 total time=   0.0s\n",
      "[CV 1/15; 10/20] START min_samples_leaf=5.......................................\n",
      "[CV 1/15; 10/20] END ........min_samples_leaf=5;, score=0.756 total time=   0.0s\n",
      "[CV 2/15; 10/20] START min_samples_leaf=5.......................................\n",
      "[CV 2/15; 10/20] END ........min_samples_leaf=5;, score=0.707 total time=   0.0s\n",
      "[CV 3/15; 10/20] START min_samples_leaf=5.......................................\n",
      "[CV 3/15; 10/20] END ........min_samples_leaf=5;, score=0.707 total time=   0.0s\n",
      "[CV 4/15; 10/20] START min_samples_leaf=5.......................................\n",
      "[CV 4/15; 10/20] END ........min_samples_leaf=5;, score=0.707 total time=   0.0s\n",
      "[CV 5/15; 10/20] START min_samples_leaf=5.......................................\n",
      "[CV 5/15; 10/20] END ........min_samples_leaf=5;, score=0.756 total time=   0.0s\n",
      "[CV 6/15; 10/20] START min_samples_leaf=5.......................................\n",
      "[CV 6/15; 10/20] END ........min_samples_leaf=5;, score=0.683 total time=   0.0s\n",
      "[CV 7/15; 10/20] START min_samples_leaf=5.......................................\n",
      "[CV 7/15; 10/20] END ........min_samples_leaf=5;, score=0.683 total time=   0.0s\n",
      "[CV 8/15; 10/20] START min_samples_leaf=5.......................................\n",
      "[CV 8/15; 10/20] END ........min_samples_leaf=5;, score=0.780 total time=   0.0s\n",
      "[CV 9/15; 10/20] START min_samples_leaf=5.......................................\n",
      "[CV 9/15; 10/20] END ........min_samples_leaf=5;, score=0.585 total time=   0.0s\n",
      "[CV 10/15; 10/20] START min_samples_leaf=5......................................\n",
      "[CV 10/15; 10/20] END .......min_samples_leaf=5;, score=0.780 total time=   0.0s\n",
      "[CV 11/15; 10/20] START min_samples_leaf=5......................................\n",
      "[CV 11/15; 10/20] END .......min_samples_leaf=5;, score=0.610 total time=   0.0s\n",
      "[CV 12/15; 10/20] START min_samples_leaf=5......................................\n",
      "[CV 12/15; 10/20] END .......min_samples_leaf=5;, score=0.756 total time=   0.0s\n",
      "[CV 13/15; 10/20] START min_samples_leaf=5......................................\n",
      "[CV 13/15; 10/20] END .......min_samples_leaf=5;, score=0.634 total time=   0.0s\n",
      "[CV 14/15; 10/20] START min_samples_leaf=5......................................\n",
      "[CV 14/15; 10/20] END .......min_samples_leaf=5;, score=0.707 total time=   0.0s\n",
      "[CV 15/15; 10/20] START min_samples_leaf=5......................................\n",
      "[CV 15/15; 10/20] END .......min_samples_leaf=5;, score=0.725 total time=   0.0s\n",
      "[CV 1/15; 11/20] START min_samples_leaf=4.......................................\n",
      "[CV 1/15; 11/20] END ........min_samples_leaf=4;, score=0.683 total time=   0.0s\n",
      "[CV 2/15; 11/20] START min_samples_leaf=4.......................................\n",
      "[CV 2/15; 11/20] END ........min_samples_leaf=4;, score=0.707 total time=   0.0s\n",
      "[CV 3/15; 11/20] START min_samples_leaf=4.......................................\n",
      "[CV 3/15; 11/20] END ........min_samples_leaf=4;, score=0.683 total time=   0.0s\n",
      "[CV 4/15; 11/20] START min_samples_leaf=4.......................................\n",
      "[CV 4/15; 11/20] END ........min_samples_leaf=4;, score=0.756 total time=   0.0s\n",
      "[CV 5/15; 11/20] START min_samples_leaf=4.......................................\n",
      "[CV 5/15; 11/20] END ........min_samples_leaf=4;, score=0.756 total time=   0.0s\n",
      "[CV 6/15; 11/20] START min_samples_leaf=4.......................................\n",
      "[CV 6/15; 11/20] END ........min_samples_leaf=4;, score=0.780 total time=   0.0s\n",
      "[CV 7/15; 11/20] START min_samples_leaf=4.......................................\n",
      "[CV 7/15; 11/20] END ........min_samples_leaf=4;, score=0.659 total time=   0.0s\n",
      "[CV 8/15; 11/20] START min_samples_leaf=4.......................................\n",
      "[CV 8/15; 11/20] END ........min_samples_leaf=4;, score=0.756 total time=   0.0s\n",
      "[CV 9/15; 11/20] START min_samples_leaf=4.......................................\n",
      "[CV 9/15; 11/20] END ........min_samples_leaf=4;, score=0.585 total time=   0.0s\n",
      "[CV 10/15; 11/20] START min_samples_leaf=4......................................\n",
      "[CV 10/15; 11/20] END .......min_samples_leaf=4;, score=0.756 total time=   0.0s\n",
      "[CV 11/15; 11/20] START min_samples_leaf=4......................................\n",
      "[CV 11/15; 11/20] END .......min_samples_leaf=4;, score=0.610 total time=   0.0s\n",
      "[CV 12/15; 11/20] START min_samples_leaf=4......................................\n",
      "[CV 12/15; 11/20] END .......min_samples_leaf=4;, score=0.780 total time=   0.0s\n",
      "[CV 13/15; 11/20] START min_samples_leaf=4......................................\n",
      "[CV 13/15; 11/20] END .......min_samples_leaf=4;, score=0.659 total time=   0.0s\n",
      "[CV 14/15; 11/20] START min_samples_leaf=4......................................\n",
      "[CV 14/15; 11/20] END .......min_samples_leaf=4;, score=0.707 total time=   0.0s\n",
      "[CV 15/15; 11/20] START min_samples_leaf=4......................................\n",
      "[CV 15/15; 11/20] END .......min_samples_leaf=4;, score=0.700 total time=   0.0s\n",
      "[CV 1/15; 12/20] START min_samples_leaf=3.......................................\n",
      "[CV 1/15; 12/20] END ........min_samples_leaf=3;, score=0.707 total time=   0.0s\n",
      "[CV 2/15; 12/20] START min_samples_leaf=3.......................................\n",
      "[CV 2/15; 12/20] END ........min_samples_leaf=3;, score=0.610 total time=   0.0s\n",
      "[CV 3/15; 12/20] START min_samples_leaf=3.......................................\n",
      "[CV 3/15; 12/20] END ........min_samples_leaf=3;, score=0.634 total time=   0.0s\n",
      "[CV 4/15; 12/20] START min_samples_leaf=3.......................................\n",
      "[CV 4/15; 12/20] END ........min_samples_leaf=3;, score=0.732 total time=   0.0s\n",
      "[CV 5/15; 12/20] START min_samples_leaf=3.......................................\n",
      "[CV 5/15; 12/20] END ........min_samples_leaf=3;, score=0.707 total time=   0.0s\n",
      "[CV 6/15; 12/20] START min_samples_leaf=3.......................................\n",
      "[CV 6/15; 12/20] END ........min_samples_leaf=3;, score=0.683 total time=   0.0s\n",
      "[CV 7/15; 12/20] START min_samples_leaf=3.......................................\n",
      "[CV 7/15; 12/20] END ........min_samples_leaf=3;, score=0.659 total time=   0.0s\n",
      "[CV 8/15; 12/20] START min_samples_leaf=3.......................................\n",
      "[CV 8/15; 12/20] END ........min_samples_leaf=3;, score=0.756 total time=   0.0s\n",
      "[CV 9/15; 12/20] START min_samples_leaf=3.......................................\n",
      "[CV 9/15; 12/20] END ........min_samples_leaf=3;, score=0.634 total time=   0.0s\n",
      "[CV 10/15; 12/20] START min_samples_leaf=3......................................\n",
      "[CV 10/15; 12/20] END .......min_samples_leaf=3;, score=0.732 total time=   0.0s\n",
      "[CV 11/15; 12/20] START min_samples_leaf=3......................................\n",
      "[CV 11/15; 12/20] END .......min_samples_leaf=3;, score=0.634 total time=   0.0s\n",
      "[CV 12/15; 12/20] START min_samples_leaf=3......................................\n",
      "[CV 12/15; 12/20] END .......min_samples_leaf=3;, score=0.805 total time=   0.0s\n",
      "[CV 13/15; 12/20] START min_samples_leaf=3......................................\n",
      "[CV 13/15; 12/20] END .......min_samples_leaf=3;, score=0.659 total time=   0.0s\n",
      "[CV 14/15; 12/20] START min_samples_leaf=3......................................\n",
      "[CV 14/15; 12/20] END .......min_samples_leaf=3;, score=0.659 total time=   0.0s\n",
      "[CV 15/15; 12/20] START min_samples_leaf=3......................................\n",
      "[CV 15/15; 12/20] END .......min_samples_leaf=3;, score=0.700 total time=   0.0s\n",
      "[CV 1/15; 13/20] START min_samples_leaf=2.......................................\n",
      "[CV 1/15; 13/20] END ........min_samples_leaf=2;, score=0.634 total time=   0.0s\n",
      "[CV 2/15; 13/20] START min_samples_leaf=2.......................................\n",
      "[CV 2/15; 13/20] END ........min_samples_leaf=2;, score=0.634 total time=   0.0s\n",
      "[CV 3/15; 13/20] START min_samples_leaf=2.......................................\n",
      "[CV 3/15; 13/20] END ........min_samples_leaf=2;, score=0.732 total time=   0.0s\n",
      "[CV 4/15; 13/20] START min_samples_leaf=2.......................................\n",
      "[CV 4/15; 13/20] END ........min_samples_leaf=2;, score=0.732 total time=   0.0s\n",
      "[CV 5/15; 13/20] START min_samples_leaf=2.......................................\n",
      "[CV 5/15; 13/20] END ........min_samples_leaf=2;, score=0.732 total time=   0.0s\n",
      "[CV 6/15; 13/20] START min_samples_leaf=2.......................................\n",
      "[CV 6/15; 13/20] END ........min_samples_leaf=2;, score=0.707 total time=   0.0s\n",
      "[CV 7/15; 13/20] START min_samples_leaf=2.......................................\n",
      "[CV 7/15; 13/20] END ........min_samples_leaf=2;, score=0.707 total time=   0.0s\n",
      "[CV 8/15; 13/20] START min_samples_leaf=2.......................................\n",
      "[CV 8/15; 13/20] END ........min_samples_leaf=2;, score=0.805 total time=   0.0s\n",
      "[CV 9/15; 13/20] START min_samples_leaf=2.......................................\n",
      "[CV 9/15; 13/20] END ........min_samples_leaf=2;, score=0.610 total time=   0.0s\n",
      "[CV 10/15; 13/20] START min_samples_leaf=2......................................\n",
      "[CV 10/15; 13/20] END .......min_samples_leaf=2;, score=0.756 total time=   0.0s\n",
      "[CV 11/15; 13/20] START min_samples_leaf=2......................................\n",
      "[CV 11/15; 13/20] END .......min_samples_leaf=2;, score=0.683 total time=   0.0s\n",
      "[CV 12/15; 13/20] START min_samples_leaf=2......................................\n",
      "[CV 12/15; 13/20] END .......min_samples_leaf=2;, score=0.732 total time=   0.0s\n",
      "[CV 13/15; 13/20] START min_samples_leaf=2......................................\n",
      "[CV 13/15; 13/20] END .......min_samples_leaf=2;, score=0.585 total time=   0.0s\n",
      "[CV 14/15; 13/20] START min_samples_leaf=2......................................\n",
      "[CV 14/15; 13/20] END .......min_samples_leaf=2;, score=0.683 total time=   0.0s\n",
      "[CV 15/15; 13/20] START min_samples_leaf=2......................................\n",
      "[CV 15/15; 13/20] END .......min_samples_leaf=2;, score=0.700 total time=   0.0s\n",
      "[CV 1/15; 14/20] START max_leaf_nodes=None......................................\n",
      "[CV 1/15; 14/20] END .......max_leaf_nodes=None;, score=0.659 total time=   0.0s\n",
      "[CV 2/15; 14/20] START max_leaf_nodes=None......................................\n",
      "[CV 2/15; 14/20] END .......max_leaf_nodes=None;, score=0.634 total time=   0.0s\n",
      "[CV 3/15; 14/20] START max_leaf_nodes=None......................................\n",
      "[CV 3/15; 14/20] END .......max_leaf_nodes=None;, score=0.610 total time=   0.0s\n",
      "[CV 4/15; 14/20] START max_leaf_nodes=None......................................\n",
      "[CV 4/15; 14/20] END .......max_leaf_nodes=None;, score=0.780 total time=   0.0s\n",
      "[CV 5/15; 14/20] START max_leaf_nodes=None......................................\n",
      "[CV 5/15; 14/20] END .......max_leaf_nodes=None;, score=0.683 total time=   0.0s\n",
      "[CV 6/15; 14/20] START max_leaf_nodes=None......................................\n",
      "[CV 6/15; 14/20] END .......max_leaf_nodes=None;, score=0.732 total time=   0.0s\n",
      "[CV 7/15; 14/20] START max_leaf_nodes=None......................................\n",
      "[CV 7/15; 14/20] END .......max_leaf_nodes=None;, score=0.683 total time=   0.0s\n",
      "[CV 8/15; 14/20] START max_leaf_nodes=None......................................\n",
      "[CV 8/15; 14/20] END .......max_leaf_nodes=None;, score=0.683 total time=   0.0s\n",
      "[CV 9/15; 14/20] START max_leaf_nodes=None......................................\n",
      "[CV 9/15; 14/20] END .......max_leaf_nodes=None;, score=0.610 total time=   0.0s\n",
      "[CV 10/15; 14/20] START max_leaf_nodes=None.....................................\n",
      "[CV 10/15; 14/20] END ......max_leaf_nodes=None;, score=0.707 total time=   0.0s\n",
      "[CV 11/15; 14/20] START max_leaf_nodes=None.....................................\n",
      "[CV 11/15; 14/20] END ......max_leaf_nodes=None;, score=0.659 total time=   0.0s\n",
      "[CV 12/15; 14/20] START max_leaf_nodes=None.....................................\n",
      "[CV 12/15; 14/20] END ......max_leaf_nodes=None;, score=0.732 total time=   0.0s\n",
      "[CV 13/15; 14/20] START max_leaf_nodes=None.....................................\n",
      "[CV 13/15; 14/20] END ......max_leaf_nodes=None;, score=0.537 total time=   0.0s\n",
      "[CV 14/15; 14/20] START max_leaf_nodes=None.....................................\n",
      "[CV 14/15; 14/20] END ......max_leaf_nodes=None;, score=0.634 total time=   0.0s\n",
      "[CV 15/15; 14/20] START max_leaf_nodes=None.....................................\n",
      "[CV 15/15; 14/20] END ......max_leaf_nodes=None;, score=0.675 total time=   0.0s\n",
      "[CV 1/15; 15/20] START max_leaf_nodes=3.........................................\n",
      "[CV 1/15; 15/20] END ..........max_leaf_nodes=3;, score=0.732 total time=   0.0s\n",
      "[CV 2/15; 15/20] START max_leaf_nodes=3.........................................\n",
      "[CV 2/15; 15/20] END ..........max_leaf_nodes=3;, score=0.732 total time=   0.0s\n",
      "[CV 3/15; 15/20] START max_leaf_nodes=3.........................................\n",
      "[CV 3/15; 15/20] END ..........max_leaf_nodes=3;, score=0.829 total time=   0.0s\n",
      "[CV 4/15; 15/20] START max_leaf_nodes=3.........................................\n",
      "[CV 4/15; 15/20] END ..........max_leaf_nodes=3;, score=0.854 total time=   0.0s\n",
      "[CV 5/15; 15/20] START max_leaf_nodes=3.........................................\n",
      "[CV 5/15; 15/20] END ..........max_leaf_nodes=3;, score=0.756 total time=   0.0s\n",
      "[CV 6/15; 15/20] START max_leaf_nodes=3.........................................\n",
      "[CV 6/15; 15/20] END ..........max_leaf_nodes=3;, score=0.732 total time=   0.0s\n",
      "[CV 7/15; 15/20] START max_leaf_nodes=3.........................................\n",
      "[CV 7/15; 15/20] END ..........max_leaf_nodes=3;, score=0.659 total time=   0.0s\n",
      "[CV 8/15; 15/20] START max_leaf_nodes=3.........................................\n",
      "[CV 8/15; 15/20] END ..........max_leaf_nodes=3;, score=0.829 total time=   0.0s\n",
      "[CV 9/15; 15/20] START max_leaf_nodes=3.........................................\n",
      "[CV 9/15; 15/20] END ..........max_leaf_nodes=3;, score=0.707 total time=   0.0s\n",
      "[CV 10/15; 15/20] START max_leaf_nodes=3........................................\n",
      "[CV 10/15; 15/20] END .........max_leaf_nodes=3;, score=0.805 total time=   0.0s\n",
      "[CV 11/15; 15/20] START max_leaf_nodes=3........................................\n",
      "[CV 11/15; 15/20] END .........max_leaf_nodes=3;, score=0.756 total time=   0.0s\n",
      "[CV 12/15; 15/20] START max_leaf_nodes=3........................................\n",
      "[CV 12/15; 15/20] END .........max_leaf_nodes=3;, score=0.707 total time=   0.0s\n",
      "[CV 13/15; 15/20] START max_leaf_nodes=3........................................\n",
      "[CV 13/15; 15/20] END .........max_leaf_nodes=3;, score=0.659 total time=   0.0s\n",
      "[CV 14/15; 15/20] START max_leaf_nodes=3........................................\n",
      "[CV 14/15; 15/20] END .........max_leaf_nodes=3;, score=0.756 total time=   0.0s\n",
      "[CV 15/15; 15/20] START max_leaf_nodes=3........................................\n",
      "[CV 15/15; 15/20] END .........max_leaf_nodes=3;, score=0.750 total time=   0.0s\n",
      "[CV 1/15; 16/20] START max_leaf_nodes=50........................................\n",
      "[CV 1/15; 16/20] END .........max_leaf_nodes=50;, score=0.683 total time=   0.0s\n",
      "[CV 2/15; 16/20] START max_leaf_nodes=50........................................\n",
      "[CV 2/15; 16/20] END .........max_leaf_nodes=50;, score=0.683 total time=   0.0s\n",
      "[CV 3/15; 16/20] START max_leaf_nodes=50........................................\n",
      "[CV 3/15; 16/20] END .........max_leaf_nodes=50;, score=0.659 total time=   0.0s\n",
      "[CV 4/15; 16/20] START max_leaf_nodes=50........................................\n",
      "[CV 4/15; 16/20] END .........max_leaf_nodes=50;, score=0.805 total time=   0.0s\n",
      "[CV 5/15; 16/20] START max_leaf_nodes=50........................................\n",
      "[CV 5/15; 16/20] END .........max_leaf_nodes=50;, score=0.756 total time=   0.0s\n",
      "[CV 6/15; 16/20] START max_leaf_nodes=50........................................\n",
      "[CV 6/15; 16/20] END .........max_leaf_nodes=50;, score=0.805 total time=   0.0s\n",
      "[CV 7/15; 16/20] START max_leaf_nodes=50........................................\n",
      "[CV 7/15; 16/20] END .........max_leaf_nodes=50;, score=0.732 total time=   0.0s\n",
      "[CV 8/15; 16/20] START max_leaf_nodes=50........................................\n",
      "[CV 8/15; 16/20] END .........max_leaf_nodes=50;, score=0.780 total time=   0.0s\n",
      "[CV 9/15; 16/20] START max_leaf_nodes=50........................................\n",
      "[CV 9/15; 16/20] END .........max_leaf_nodes=50;, score=0.561 total time=   0.0s\n",
      "[CV 10/15; 16/20] START max_leaf_nodes=50.......................................\n",
      "[CV 10/15; 16/20] END ........max_leaf_nodes=50;, score=0.683 total time=   0.0s\n",
      "[CV 11/15; 16/20] START max_leaf_nodes=50.......................................\n",
      "[CV 11/15; 16/20] END ........max_leaf_nodes=50;, score=0.683 total time=   0.0s\n",
      "[CV 12/15; 16/20] START max_leaf_nodes=50.......................................\n",
      "[CV 12/15; 16/20] END ........max_leaf_nodes=50;, score=0.756 total time=   0.0s\n",
      "[CV 13/15; 16/20] START max_leaf_nodes=50.......................................\n",
      "[CV 13/15; 16/20] END ........max_leaf_nodes=50;, score=0.585 total time=   0.0s\n",
      "[CV 14/15; 16/20] START max_leaf_nodes=50.......................................\n",
      "[CV 14/15; 16/20] END ........max_leaf_nodes=50;, score=0.707 total time=   0.0s\n",
      "[CV 15/15; 16/20] START max_leaf_nodes=50.......................................\n",
      "[CV 15/15; 16/20] END ........max_leaf_nodes=50;, score=0.675 total time=   0.0s\n",
      "[CV 1/15; 17/20] START max_leaf_nodes=100.......................................\n",
      "[CV 1/15; 17/20] END ........max_leaf_nodes=100;, score=0.707 total time=   0.0s\n",
      "[CV 2/15; 17/20] START max_leaf_nodes=100.......................................\n",
      "[CV 2/15; 17/20] END ........max_leaf_nodes=100;, score=0.659 total time=   0.0s\n",
      "[CV 3/15; 17/20] START max_leaf_nodes=100.......................................\n",
      "[CV 3/15; 17/20] END ........max_leaf_nodes=100;, score=0.634 total time=   0.0s\n",
      "[CV 4/15; 17/20] START max_leaf_nodes=100.......................................\n",
      "[CV 4/15; 17/20] END ........max_leaf_nodes=100;, score=0.780 total time=   0.0s\n",
      "[CV 5/15; 17/20] START max_leaf_nodes=100.......................................\n",
      "[CV 5/15; 17/20] END ........max_leaf_nodes=100;, score=0.707 total time=   0.0s\n",
      "[CV 6/15; 17/20] START max_leaf_nodes=100.......................................\n",
      "[CV 6/15; 17/20] END ........max_leaf_nodes=100;, score=0.707 total time=   0.0s\n",
      "[CV 7/15; 17/20] START max_leaf_nodes=100.......................................\n",
      "[CV 7/15; 17/20] END ........max_leaf_nodes=100;, score=0.707 total time=   0.0s\n",
      "[CV 8/15; 17/20] START max_leaf_nodes=100.......................................\n",
      "[CV 8/15; 17/20] END ........max_leaf_nodes=100;, score=0.732 total time=   0.0s\n",
      "[CV 9/15; 17/20] START max_leaf_nodes=100.......................................\n",
      "[CV 9/15; 17/20] END ........max_leaf_nodes=100;, score=0.659 total time=   0.0s\n",
      "[CV 10/15; 17/20] START max_leaf_nodes=100......................................\n",
      "[CV 10/15; 17/20] END .......max_leaf_nodes=100;, score=0.707 total time=   0.0s\n",
      "[CV 11/15; 17/20] START max_leaf_nodes=100......................................\n",
      "[CV 11/15; 17/20] END .......max_leaf_nodes=100;, score=0.659 total time=   0.0s\n",
      "[CV 12/15; 17/20] START max_leaf_nodes=100......................................\n",
      "[CV 12/15; 17/20] END .......max_leaf_nodes=100;, score=0.732 total time=   0.0s\n",
      "[CV 13/15; 17/20] START max_leaf_nodes=100......................................\n",
      "[CV 13/15; 17/20] END .......max_leaf_nodes=100;, score=0.561 total time=   0.0s\n",
      "[CV 14/15; 17/20] START max_leaf_nodes=100......................................\n",
      "[CV 14/15; 17/20] END .......max_leaf_nodes=100;, score=0.659 total time=   0.0s\n",
      "[CV 15/15; 17/20] START max_leaf_nodes=100......................................\n",
      "[CV 15/15; 17/20] END .......max_leaf_nodes=100;, score=0.675 total time=   0.0s\n",
      "[CV 1/15; 18/20] START max_leaf_nodes=23........................................\n",
      "[CV 1/15; 18/20] END .........max_leaf_nodes=23;, score=0.634 total time=   0.0s\n",
      "[CV 2/15; 18/20] START max_leaf_nodes=23........................................\n",
      "[CV 2/15; 18/20] END .........max_leaf_nodes=23;, score=0.732 total time=   0.0s\n",
      "[CV 3/15; 18/20] START max_leaf_nodes=23........................................\n",
      "[CV 3/15; 18/20] END .........max_leaf_nodes=23;, score=0.683 total time=   0.0s\n",
      "[CV 4/15; 18/20] START max_leaf_nodes=23........................................\n",
      "[CV 4/15; 18/20] END .........max_leaf_nodes=23;, score=0.780 total time=   0.0s\n",
      "[CV 5/15; 18/20] START max_leaf_nodes=23........................................\n",
      "[CV 5/15; 18/20] END .........max_leaf_nodes=23;, score=0.780 total time=   0.0s\n",
      "[CV 6/15; 18/20] START max_leaf_nodes=23........................................\n",
      "[CV 6/15; 18/20] END .........max_leaf_nodes=23;, score=0.780 total time=   0.0s\n",
      "[CV 7/15; 18/20] START max_leaf_nodes=23........................................\n",
      "[CV 7/15; 18/20] END .........max_leaf_nodes=23;, score=0.634 total time=   0.0s\n",
      "[CV 8/15; 18/20] START max_leaf_nodes=23........................................\n",
      "[CV 8/15; 18/20] END .........max_leaf_nodes=23;, score=0.829 total time=   0.0s\n",
      "[CV 9/15; 18/20] START max_leaf_nodes=23........................................\n",
      "[CV 9/15; 18/20] END .........max_leaf_nodes=23;, score=0.634 total time=   0.0s\n",
      "[CV 10/15; 18/20] START max_leaf_nodes=23.......................................\n",
      "[CV 10/15; 18/20] END ........max_leaf_nodes=23;, score=0.732 total time=   0.0s\n",
      "[CV 11/15; 18/20] START max_leaf_nodes=23.......................................\n",
      "[CV 11/15; 18/20] END ........max_leaf_nodes=23;, score=0.659 total time=   0.0s\n",
      "[CV 12/15; 18/20] START max_leaf_nodes=23.......................................\n",
      "[CV 12/15; 18/20] END ........max_leaf_nodes=23;, score=0.780 total time=   0.0s\n",
      "[CV 13/15; 18/20] START max_leaf_nodes=23.......................................\n",
      "[CV 13/15; 18/20] END ........max_leaf_nodes=23;, score=0.610 total time=   0.0s\n",
      "[CV 14/15; 18/20] START max_leaf_nodes=23.......................................\n",
      "[CV 14/15; 18/20] END ........max_leaf_nodes=23;, score=0.756 total time=   0.0s\n",
      "[CV 15/15; 18/20] START max_leaf_nodes=23.......................................\n",
      "[CV 15/15; 18/20] END ........max_leaf_nodes=23;, score=0.750 total time=   0.0s\n",
      "[CV 1/15; 19/20] START max_leaf_nodes=10........................................\n",
      "[CV 1/15; 19/20] END .........max_leaf_nodes=10;, score=0.659 total time=   0.0s\n",
      "[CV 2/15; 19/20] START max_leaf_nodes=10........................................\n",
      "[CV 2/15; 19/20] END .........max_leaf_nodes=10;, score=0.732 total time=   0.0s\n",
      "[CV 3/15; 19/20] START max_leaf_nodes=10........................................\n",
      "[CV 3/15; 19/20] END .........max_leaf_nodes=10;, score=0.683 total time=   0.0s\n",
      "[CV 4/15; 19/20] START max_leaf_nodes=10........................................\n",
      "[CV 4/15; 19/20] END .........max_leaf_nodes=10;, score=0.805 total time=   0.0s\n",
      "[CV 5/15; 19/20] START max_leaf_nodes=10........................................\n",
      "[CV 5/15; 19/20] END .........max_leaf_nodes=10;, score=0.732 total time=   0.0s\n",
      "[CV 6/15; 19/20] START max_leaf_nodes=10........................................\n",
      "[CV 6/15; 19/20] END .........max_leaf_nodes=10;, score=0.756 total time=   0.0s\n",
      "[CV 7/15; 19/20] START max_leaf_nodes=10........................................\n",
      "[CV 7/15; 19/20] END .........max_leaf_nodes=10;, score=0.610 total time=   0.0s\n",
      "[CV 8/15; 19/20] START max_leaf_nodes=10........................................\n",
      "[CV 8/15; 19/20] END .........max_leaf_nodes=10;, score=0.756 total time=   0.0s\n",
      "[CV 9/15; 19/20] START max_leaf_nodes=10........................................\n",
      "[CV 9/15; 19/20] END .........max_leaf_nodes=10;, score=0.683 total time=   0.0s\n",
      "[CV 10/15; 19/20] START max_leaf_nodes=10.......................................\n",
      "[CV 10/15; 19/20] END ........max_leaf_nodes=10;, score=0.732 total time=   0.0s\n",
      "[CV 11/15; 19/20] START max_leaf_nodes=10.......................................\n",
      "[CV 11/15; 19/20] END ........max_leaf_nodes=10;, score=0.732 total time=   0.0s\n",
      "[CV 12/15; 19/20] START max_leaf_nodes=10.......................................\n",
      "[CV 12/15; 19/20] END ........max_leaf_nodes=10;, score=0.683 total time=   0.0s\n",
      "[CV 13/15; 19/20] START max_leaf_nodes=10.......................................\n",
      "[CV 13/15; 19/20] END ........max_leaf_nodes=10;, score=0.683 total time=   0.0s\n",
      "[CV 14/15; 19/20] START max_leaf_nodes=10.......................................\n",
      "[CV 14/15; 19/20] END ........max_leaf_nodes=10;, score=0.780 total time=   0.0s\n",
      "[CV 15/15; 19/20] START max_leaf_nodes=10.......................................\n",
      "[CV 15/15; 19/20] END ........max_leaf_nodes=10;, score=0.700 total time=   0.0s\n",
      "[CV 1/15; 20/20] START max_leaf_nodes=56........................................\n",
      "[CV 1/15; 20/20] END .........max_leaf_nodes=56;, score=0.683 total time=   0.0s\n",
      "[CV 2/15; 20/20] START max_leaf_nodes=56........................................\n",
      "[CV 2/15; 20/20] END .........max_leaf_nodes=56;, score=0.683 total time=   0.0s\n",
      "[CV 3/15; 20/20] START max_leaf_nodes=56........................................\n",
      "[CV 3/15; 20/20] END .........max_leaf_nodes=56;, score=0.659 total time=   0.0s\n",
      "[CV 4/15; 20/20] START max_leaf_nodes=56........................................\n",
      "[CV 4/15; 20/20] END .........max_leaf_nodes=56;, score=0.805 total time=   0.0s\n",
      "[CV 5/15; 20/20] START max_leaf_nodes=56........................................\n",
      "[CV 5/15; 20/20] END .........max_leaf_nodes=56;, score=0.732 total time=   0.0s\n",
      "[CV 6/15; 20/20] START max_leaf_nodes=56........................................\n",
      "[CV 6/15; 20/20] END .........max_leaf_nodes=56;, score=0.756 total time=   0.0s\n",
      "[CV 7/15; 20/20] START max_leaf_nodes=56........................................\n",
      "[CV 7/15; 20/20] END .........max_leaf_nodes=56;, score=0.732 total time=   0.0s\n",
      "[CV 8/15; 20/20] START max_leaf_nodes=56........................................\n",
      "[CV 8/15; 20/20] END .........max_leaf_nodes=56;, score=0.707 total time=   0.0s\n",
      "[CV 9/15; 20/20] START max_leaf_nodes=56........................................\n",
      "[CV 9/15; 20/20] END .........max_leaf_nodes=56;, score=0.561 total time=   0.0s\n",
      "[CV 10/15; 20/20] START max_leaf_nodes=56.......................................\n",
      "[CV 10/15; 20/20] END ........max_leaf_nodes=56;, score=0.683 total time=   0.0s\n",
      "[CV 11/15; 20/20] START max_leaf_nodes=56.......................................\n",
      "[CV 11/15; 20/20] END ........max_leaf_nodes=56;, score=0.732 total time=   0.0s\n",
      "[CV 12/15; 20/20] START max_leaf_nodes=56.......................................\n",
      "[CV 12/15; 20/20] END ........max_leaf_nodes=56;, score=0.780 total time=   0.0s\n",
      "[CV 13/15; 20/20] START max_leaf_nodes=56.......................................\n",
      "[CV 13/15; 20/20] END ........max_leaf_nodes=56;, score=0.585 total time=   0.0s\n",
      "[CV 14/15; 20/20] START max_leaf_nodes=56.......................................\n",
      "[CV 14/15; 20/20] END ........max_leaf_nodes=56;, score=0.659 total time=   0.0s\n",
      "[CV 15/15; 20/20] START max_leaf_nodes=56.......................................\n",
      "[CV 15/15; 20/20] END ........max_leaf_nodes=56;, score=0.700 total time=   0.0s\n"
     ]
    },
    {
     "data": {
      "text/html": [
       "<style>#sk-container-id-16 {color: black;background-color: white;}#sk-container-id-16 pre{padding: 0;}#sk-container-id-16 div.sk-toggleable {background-color: white;}#sk-container-id-16 label.sk-toggleable__label {cursor: pointer;display: block;width: 100%;margin-bottom: 0;padding: 0.3em;box-sizing: border-box;text-align: center;}#sk-container-id-16 label.sk-toggleable__label-arrow:before {content: \"▸\";float: left;margin-right: 0.25em;color: #696969;}#sk-container-id-16 label.sk-toggleable__label-arrow:hover:before {color: black;}#sk-container-id-16 div.sk-estimator:hover label.sk-toggleable__label-arrow:before {color: black;}#sk-container-id-16 div.sk-toggleable__content {max-height: 0;max-width: 0;overflow: hidden;text-align: left;background-color: #f0f8ff;}#sk-container-id-16 div.sk-toggleable__content pre {margin: 0.2em;color: black;border-radius: 0.25em;background-color: #f0f8ff;}#sk-container-id-16 input.sk-toggleable__control:checked~div.sk-toggleable__content {max-height: 200px;max-width: 100%;overflow: auto;}#sk-container-id-16 input.sk-toggleable__control:checked~label.sk-toggleable__label-arrow:before {content: \"▾\";}#sk-container-id-16 div.sk-estimator input.sk-toggleable__control:checked~label.sk-toggleable__label {background-color: #d4ebff;}#sk-container-id-16 div.sk-label input.sk-toggleable__control:checked~label.sk-toggleable__label {background-color: #d4ebff;}#sk-container-id-16 input.sk-hidden--visually {border: 0;clip: rect(1px 1px 1px 1px);clip: rect(1px, 1px, 1px, 1px);height: 1px;margin: -1px;overflow: hidden;padding: 0;position: absolute;width: 1px;}#sk-container-id-16 div.sk-estimator {font-family: monospace;background-color: #f0f8ff;border: 1px dotted black;border-radius: 0.25em;box-sizing: border-box;margin-bottom: 0.5em;}#sk-container-id-16 div.sk-estimator:hover {background-color: #d4ebff;}#sk-container-id-16 div.sk-parallel-item::after {content: \"\";width: 100%;border-bottom: 1px solid gray;flex-grow: 1;}#sk-container-id-16 div.sk-label:hover label.sk-toggleable__label {background-color: #d4ebff;}#sk-container-id-16 div.sk-serial::before {content: \"\";position: absolute;border-left: 1px solid gray;box-sizing: border-box;top: 0;bottom: 0;left: 50%;z-index: 0;}#sk-container-id-16 div.sk-serial {display: flex;flex-direction: column;align-items: center;background-color: white;padding-right: 0.2em;padding-left: 0.2em;position: relative;}#sk-container-id-16 div.sk-item {position: relative;z-index: 1;}#sk-container-id-16 div.sk-parallel {display: flex;align-items: stretch;justify-content: center;background-color: white;position: relative;}#sk-container-id-16 div.sk-item::before, #sk-container-id-16 div.sk-parallel-item::before {content: \"\";position: absolute;border-left: 1px solid gray;box-sizing: border-box;top: 0;bottom: 0;left: 50%;z-index: -1;}#sk-container-id-16 div.sk-parallel-item {display: flex;flex-direction: column;z-index: 1;position: relative;background-color: white;}#sk-container-id-16 div.sk-parallel-item:first-child::after {align-self: flex-end;width: 50%;}#sk-container-id-16 div.sk-parallel-item:last-child::after {align-self: flex-start;width: 50%;}#sk-container-id-16 div.sk-parallel-item:only-child::after {width: 0;}#sk-container-id-16 div.sk-dashed-wrapped {border: 1px dashed gray;margin: 0 0.4em 0.5em 0.4em;box-sizing: border-box;padding-bottom: 0.4em;background-color: white;}#sk-container-id-16 div.sk-label label {font-family: monospace;font-weight: bold;display: inline-block;line-height: 1.2em;}#sk-container-id-16 div.sk-label-container {text-align: center;}#sk-container-id-16 div.sk-container {/* jupyter's `normalize.less` sets `[hidden] { display: none; }` but bootstrap.min.css set `[hidden] { display: none !important; }` so we also need the `!important` here to be able to override the default hidden behavior on the sphinx rendered scikit-learn.org. See: https://github.com/scikit-learn/scikit-learn/issues/21755 */display: inline-block !important;position: relative;}#sk-container-id-16 div.sk-text-repr-fallback {display: none;}</style><div id=\"sk-container-id-16\" class=\"sk-top-container\"><div class=\"sk-text-repr-fallback\"><pre>GridSearchCV(cv=15, estimator=DecisionTreeClassifier(),\n",
       "             param_grid=[{&#x27;criterion&#x27;: [&#x27;gini&#x27;, &#x27;entropy&#x27;]},\n",
       "                         {&#x27;max_depth&#x27;: [10, 15, 25, 33, 5, None]},\n",
       "                         {&#x27;min_samples_leaf&#x27;: [1, 5, 4, 3, 2]},\n",
       "                         {&#x27;max_leaf_nodes&#x27;: [None, 3, 50, 100, 23, 10, 56]}],\n",
       "             verbose=16)</pre><b>In a Jupyter environment, please rerun this cell to show the HTML representation or trust the notebook. <br />On GitHub, the HTML representation is unable to render, please try loading this page with nbviewer.org.</b></div><div class=\"sk-container\" hidden><div class=\"sk-item sk-dashed-wrapped\"><div class=\"sk-label-container\"><div class=\"sk-label sk-toggleable\"><input class=\"sk-toggleable__control sk-hidden--visually\" id=\"sk-estimator-id-32\" type=\"checkbox\" ><label for=\"sk-estimator-id-32\" class=\"sk-toggleable__label sk-toggleable__label-arrow\">GridSearchCV</label><div class=\"sk-toggleable__content\"><pre>GridSearchCV(cv=15, estimator=DecisionTreeClassifier(),\n",
       "             param_grid=[{&#x27;criterion&#x27;: [&#x27;gini&#x27;, &#x27;entropy&#x27;]},\n",
       "                         {&#x27;max_depth&#x27;: [10, 15, 25, 33, 5, None]},\n",
       "                         {&#x27;min_samples_leaf&#x27;: [1, 5, 4, 3, 2]},\n",
       "                         {&#x27;max_leaf_nodes&#x27;: [None, 3, 50, 100, 23, 10, 56]}],\n",
       "             verbose=16)</pre></div></div></div><div class=\"sk-parallel\"><div class=\"sk-parallel-item\"><div class=\"sk-item\"><div class=\"sk-label-container\"><div class=\"sk-label sk-toggleable\"><input class=\"sk-toggleable__control sk-hidden--visually\" id=\"sk-estimator-id-33\" type=\"checkbox\" ><label for=\"sk-estimator-id-33\" class=\"sk-toggleable__label sk-toggleable__label-arrow\">estimator: DecisionTreeClassifier</label><div class=\"sk-toggleable__content\"><pre>DecisionTreeClassifier()</pre></div></div></div><div class=\"sk-serial\"><div class=\"sk-item\"><div class=\"sk-estimator sk-toggleable\"><input class=\"sk-toggleable__control sk-hidden--visually\" id=\"sk-estimator-id-34\" type=\"checkbox\" ><label for=\"sk-estimator-id-34\" class=\"sk-toggleable__label sk-toggleable__label-arrow\">DecisionTreeClassifier</label><div class=\"sk-toggleable__content\"><pre>DecisionTreeClassifier()</pre></div></div></div></div></div></div></div></div></div></div>"
      ],
      "text/plain": [
       "GridSearchCV(cv=15, estimator=DecisionTreeClassifier(),\n",
       "             param_grid=[{'criterion': ['gini', 'entropy']},\n",
       "                         {'max_depth': [10, 15, 25, 33, 5, None]},\n",
       "                         {'min_samples_leaf': [1, 5, 4, 3, 2]},\n",
       "                         {'max_leaf_nodes': [None, 3, 50, 100, 23, 10, 56]}],\n",
       "             verbose=16)"
      ]
     },
     "execution_count": 68,
     "metadata": {},
     "output_type": "execute_result"
    }
   ],
   "source": [
    "#optimisons le model d'Arbre de decision\n",
    "#parametre du grid\n",
    "params=[\n",
    "    {'criterion':[\"gini\", \"entropy\"]},\n",
    "    {'max_depth':[10,15,25,33,5,None]},\n",
    "    {'min_samples_leaf':[1,5,4,3,2]},\n",
    "    {'max_leaf_nodes':[None,3,50,100,23,10,56]}\n",
    "]\n",
    "##instantiation du model\n",
    "dtc_best_model=GridSearchCV(dtc,params,cv=15,verbose=16)\n",
    "dtc_best_model.fit(X_train,Y_train)"
   ]
  },
  {
   "cell_type": "code",
   "execution_count": 69,
   "id": "1e5634a5-3d95-4ce7-ba8d-18bcfb27045e",
   "metadata": {},
   "outputs": [
    {
     "data": {
      "text/plain": [
       "{'max_leaf_nodes': 3}"
      ]
     },
     "execution_count": 69,
     "metadata": {},
     "output_type": "execute_result"
    }
   ],
   "source": [
    "#parametres optionnaux\n",
    "dtc_best_model.best_params_"
   ]
  },
  {
   "cell_type": "code",
   "execution_count": 70,
   "id": "89a666d4-30b1-4446-aff0-7aab3418d94d",
   "metadata": {},
   "outputs": [
    {
     "data": {
      "text/html": [
       "<style>#sk-container-id-17 {color: black;background-color: white;}#sk-container-id-17 pre{padding: 0;}#sk-container-id-17 div.sk-toggleable {background-color: white;}#sk-container-id-17 label.sk-toggleable__label {cursor: pointer;display: block;width: 100%;margin-bottom: 0;padding: 0.3em;box-sizing: border-box;text-align: center;}#sk-container-id-17 label.sk-toggleable__label-arrow:before {content: \"▸\";float: left;margin-right: 0.25em;color: #696969;}#sk-container-id-17 label.sk-toggleable__label-arrow:hover:before {color: black;}#sk-container-id-17 div.sk-estimator:hover label.sk-toggleable__label-arrow:before {color: black;}#sk-container-id-17 div.sk-toggleable__content {max-height: 0;max-width: 0;overflow: hidden;text-align: left;background-color: #f0f8ff;}#sk-container-id-17 div.sk-toggleable__content pre {margin: 0.2em;color: black;border-radius: 0.25em;background-color: #f0f8ff;}#sk-container-id-17 input.sk-toggleable__control:checked~div.sk-toggleable__content {max-height: 200px;max-width: 100%;overflow: auto;}#sk-container-id-17 input.sk-toggleable__control:checked~label.sk-toggleable__label-arrow:before {content: \"▾\";}#sk-container-id-17 div.sk-estimator input.sk-toggleable__control:checked~label.sk-toggleable__label {background-color: #d4ebff;}#sk-container-id-17 div.sk-label input.sk-toggleable__control:checked~label.sk-toggleable__label {background-color: #d4ebff;}#sk-container-id-17 input.sk-hidden--visually {border: 0;clip: rect(1px 1px 1px 1px);clip: rect(1px, 1px, 1px, 1px);height: 1px;margin: -1px;overflow: hidden;padding: 0;position: absolute;width: 1px;}#sk-container-id-17 div.sk-estimator {font-family: monospace;background-color: #f0f8ff;border: 1px dotted black;border-radius: 0.25em;box-sizing: border-box;margin-bottom: 0.5em;}#sk-container-id-17 div.sk-estimator:hover {background-color: #d4ebff;}#sk-container-id-17 div.sk-parallel-item::after {content: \"\";width: 100%;border-bottom: 1px solid gray;flex-grow: 1;}#sk-container-id-17 div.sk-label:hover label.sk-toggleable__label {background-color: #d4ebff;}#sk-container-id-17 div.sk-serial::before {content: \"\";position: absolute;border-left: 1px solid gray;box-sizing: border-box;top: 0;bottom: 0;left: 50%;z-index: 0;}#sk-container-id-17 div.sk-serial {display: flex;flex-direction: column;align-items: center;background-color: white;padding-right: 0.2em;padding-left: 0.2em;position: relative;}#sk-container-id-17 div.sk-item {position: relative;z-index: 1;}#sk-container-id-17 div.sk-parallel {display: flex;align-items: stretch;justify-content: center;background-color: white;position: relative;}#sk-container-id-17 div.sk-item::before, #sk-container-id-17 div.sk-parallel-item::before {content: \"\";position: absolute;border-left: 1px solid gray;box-sizing: border-box;top: 0;bottom: 0;left: 50%;z-index: -1;}#sk-container-id-17 div.sk-parallel-item {display: flex;flex-direction: column;z-index: 1;position: relative;background-color: white;}#sk-container-id-17 div.sk-parallel-item:first-child::after {align-self: flex-end;width: 50%;}#sk-container-id-17 div.sk-parallel-item:last-child::after {align-self: flex-start;width: 50%;}#sk-container-id-17 div.sk-parallel-item:only-child::after {width: 0;}#sk-container-id-17 div.sk-dashed-wrapped {border: 1px dashed gray;margin: 0 0.4em 0.5em 0.4em;box-sizing: border-box;padding-bottom: 0.4em;background-color: white;}#sk-container-id-17 div.sk-label label {font-family: monospace;font-weight: bold;display: inline-block;line-height: 1.2em;}#sk-container-id-17 div.sk-label-container {text-align: center;}#sk-container-id-17 div.sk-container {/* jupyter's `normalize.less` sets `[hidden] { display: none; }` but bootstrap.min.css set `[hidden] { display: none !important; }` so we also need the `!important` here to be able to override the default hidden behavior on the sphinx rendered scikit-learn.org. See: https://github.com/scikit-learn/scikit-learn/issues/21755 */display: inline-block !important;position: relative;}#sk-container-id-17 div.sk-text-repr-fallback {display: none;}</style><div id=\"sk-container-id-17\" class=\"sk-top-container\"><div class=\"sk-text-repr-fallback\"><pre>DecisionTreeClassifier(max_leaf_nodes=3)</pre><b>In a Jupyter environment, please rerun this cell to show the HTML representation or trust the notebook. <br />On GitHub, the HTML representation is unable to render, please try loading this page with nbviewer.org.</b></div><div class=\"sk-container\" hidden><div class=\"sk-item\"><div class=\"sk-estimator sk-toggleable\"><input class=\"sk-toggleable__control sk-hidden--visually\" id=\"sk-estimator-id-35\" type=\"checkbox\" checked><label for=\"sk-estimator-id-35\" class=\"sk-toggleable__label sk-toggleable__label-arrow\">DecisionTreeClassifier</label><div class=\"sk-toggleable__content\"><pre>DecisionTreeClassifier(max_leaf_nodes=3)</pre></div></div></div></div></div>"
      ],
      "text/plain": [
       "DecisionTreeClassifier(max_leaf_nodes=3)"
      ]
     },
     "execution_count": 70,
     "metadata": {},
     "output_type": "execute_result"
    }
   ],
   "source": [
    "#model optimal\n",
    "dtc_best_model.best_estimator_"
   ]
  },
  {
   "cell_type": "code",
   "execution_count": 71,
   "id": "194564ac-9c1e-4a9c-9f30-24a32fa309bd",
   "metadata": {},
   "outputs": [
    {
     "data": {
      "text/plain": [
       "0.7508130081300812"
      ]
     },
     "execution_count": 71,
     "metadata": {},
     "output_type": "execute_result"
    }
   ],
   "source": [
    "#meilleur score\n",
    "dtc_best_model.best_score_"
   ]
  },
  {
   "cell_type": "code",
   "execution_count": 72,
   "id": "6ac3d9c7-d419-4db8-8875-0fa2d3c62570",
   "metadata": {},
   "outputs": [
    {
     "name": "stdout",
     "output_type": "stream",
     "text": [
      "le taux accuracy de l'Arbre de decision est de 0.7597402597402597\n"
     ]
    }
   ],
   "source": [
    "#Calculons le taux d'accuracy\n",
    "dtc_acc = accuracy_score(Y_test,pred_dtc)\n",
    "print(\"le taux accuracy de l'Arbre de decision est de\", dtc_acc)\n"
   ]
  },
  {
   "cell_type": "code",
   "execution_count": 73,
   "id": "bed5b8b5-51fb-42c5-8111-fbe54eefb1ff",
   "metadata": {},
   "outputs": [
    {
     "data": {
      "text/plain": [
       "[{'meilleur score de knn': 0.7377982140477143},\n",
       " {'meilleur score de lr': 0.7622284419565506},\n",
       " {'meilleur score de gnb': 0.7426629348260696},\n",
       " {'meilleur score de dtc': 0.7508130081300812}]"
      ]
     },
     "execution_count": 73,
     "metadata": {},
     "output_type": "execute_result"
    }
   ],
   "source": [
    "#Choisissons le best modele et interpretons ces resultats\n",
    "t_best = [\n",
    "    {\"meilleur score de knn\":knn_best_model.best_score_},\n",
    "    {\"meilleur score de lr\":lr_best_model.best_score_},\n",
    "    {\"meilleur score de gnb\":gnb_best_model.best_score_},\n",
    "    {\"meilleur score de dtc\":dtc_best_model.best_score_}\n",
    "]\n",
    "t_best"
   ]
  },
  {
   "cell_type": "markdown",
   "id": "10a3ff30-8614-4636-bf7e-d8ec2ba01cdc",
   "metadata": {},
   "source": [
    "## Appliquons le random forest"
   ]
  },
  {
   "cell_type": "markdown",
   "id": "9be6e22b-de31-4184-a7b2-f347839d641b",
   "metadata": {},
   "source": [
    "Explication de l algorithme random forest\n",
    "La forêt aléatoire est un type d’algorithme d’apprentissage automatique supervisé basé sur l’apprentissage d’ensemble. L’apprentissage d’ensemble est un type d’apprentissage où vous joignez différents types d’algorithmes ou le même algorithme plusieurs fois pour former un modèle de prédiction plus puissant. L’algorithme de la forêt aléatoire combine plusieurs algorithmes du même type, c’est-à-dire plusieurs arbres de décision, ce qui donne une forêt d’arbres, d’où le nom de « forêt aléatoire ». L’algorithme de la forêt aléatoire peut être utilisé pour les tâches de régression et de classification.\n",
    "\n",
    "les etapes de l algorithme de random forest\n",
    "Étape 1: Dans la forêt aléatoire, n nombre d’enregistrements aléatoires sont extraits de l’ensemble de données ayant k nombre d’enregistrements.\n",
    "\n",
    "Étape 2 : Des arbres de décision individuels sont construits pour chaque échantillon.\n",
    "\n",
    "Étape 3 : Chaque arbre de décision générera une sortie.\n",
    "\n",
    "Étape 4 : Le résultat final est considéré en fonction duvote majoritaire oude la moyenne pour la classification et la régression, respectivement.\n"
   ]
  },
  {
   "cell_type": "markdown",
   "id": "db3482f3-8ce6-4d12-bc8b-45ca9b47bab6",
   "metadata": {},
   "source": [
    "Random Forest image <img src=\"image.jpg\" width=500 height=600 />"
   ]
  },
  {
   "cell_type": "markdown",
   "id": "53c2cfc8-aee4-4964-8552-0ad55a11ecf5",
   "metadata": {},
   "source": [
    "Avantages\n",
    "\n",
    "1. Il peut être utilisé dans les problèmes de classification et de régression.\n",
    "\n",
    "2. Cela résout le problème du surajustement car la production est basée sur le vote à la majorité ou la moyenne.\n",
    "\n",
    "3. Il fonctionne bien même si les données contiennent des valeurs null / manquantes.\n",
    "\n",
    "4. Chaque arbre de décision créé est indépendant de l’autre, il montre donc la propriété de parallélisation.\n",
    "\n",
    "5. Il est très stable car les réponses moyennes données par un grand nombre d’arbres sont prises.\n",
    "\n",
    "6. Il maintient la diversité car tous les attributs ne sont pas pris en compte lors de la prise de chaque arbre de décision, bien que ce ne soit pas vrai dans tous les cas.\n",
    "\n",
    "7. Il est immunisé contre la malédiction de la dimensionnalité. Étant donné que chaque arbre ne prend pas en compte tous les attributs, l’espace des entités est réduit.\n",
    "\n",
    "8. Nous n’avons pas besoin de séparer les données en train et en test, car il y aura toujours 30% des données qui ne sont pas vues par l’arbre de décision fait de bootstrap.\n",
    "\n",
    "Inconvénients\n",
    "\n",
    "1. La forêt aléatoire est très complexe par rapport aux arbres de décision où les décisions peuvent être prises en suivant le chemin de l’arbre.\n",
    "\n",
    "2. Le temps de formation est plus élevé que celui des autres modèles en raison de sa complexité. Chaque fois qu’il doit faire une prédiction, chaque arbre de décision doit générer une sortie pour les données d’entrée données."
   ]
  },
  {
   "cell_type": "code",
   "execution_count": 74,
   "id": "f640b2b1-5577-49fb-b001-44e201618116",
   "metadata": {},
   "outputs": [
    {
     "data": {
      "text/html": [
       "<style>#sk-container-id-18 {color: black;background-color: white;}#sk-container-id-18 pre{padding: 0;}#sk-container-id-18 div.sk-toggleable {background-color: white;}#sk-container-id-18 label.sk-toggleable__label {cursor: pointer;display: block;width: 100%;margin-bottom: 0;padding: 0.3em;box-sizing: border-box;text-align: center;}#sk-container-id-18 label.sk-toggleable__label-arrow:before {content: \"▸\";float: left;margin-right: 0.25em;color: #696969;}#sk-container-id-18 label.sk-toggleable__label-arrow:hover:before {color: black;}#sk-container-id-18 div.sk-estimator:hover label.sk-toggleable__label-arrow:before {color: black;}#sk-container-id-18 div.sk-toggleable__content {max-height: 0;max-width: 0;overflow: hidden;text-align: left;background-color: #f0f8ff;}#sk-container-id-18 div.sk-toggleable__content pre {margin: 0.2em;color: black;border-radius: 0.25em;background-color: #f0f8ff;}#sk-container-id-18 input.sk-toggleable__control:checked~div.sk-toggleable__content {max-height: 200px;max-width: 100%;overflow: auto;}#sk-container-id-18 input.sk-toggleable__control:checked~label.sk-toggleable__label-arrow:before {content: \"▾\";}#sk-container-id-18 div.sk-estimator input.sk-toggleable__control:checked~label.sk-toggleable__label {background-color: #d4ebff;}#sk-container-id-18 div.sk-label input.sk-toggleable__control:checked~label.sk-toggleable__label {background-color: #d4ebff;}#sk-container-id-18 input.sk-hidden--visually {border: 0;clip: rect(1px 1px 1px 1px);clip: rect(1px, 1px, 1px, 1px);height: 1px;margin: -1px;overflow: hidden;padding: 0;position: absolute;width: 1px;}#sk-container-id-18 div.sk-estimator {font-family: monospace;background-color: #f0f8ff;border: 1px dotted black;border-radius: 0.25em;box-sizing: border-box;margin-bottom: 0.5em;}#sk-container-id-18 div.sk-estimator:hover {background-color: #d4ebff;}#sk-container-id-18 div.sk-parallel-item::after {content: \"\";width: 100%;border-bottom: 1px solid gray;flex-grow: 1;}#sk-container-id-18 div.sk-label:hover label.sk-toggleable__label {background-color: #d4ebff;}#sk-container-id-18 div.sk-serial::before {content: \"\";position: absolute;border-left: 1px solid gray;box-sizing: border-box;top: 0;bottom: 0;left: 50%;z-index: 0;}#sk-container-id-18 div.sk-serial {display: flex;flex-direction: column;align-items: center;background-color: white;padding-right: 0.2em;padding-left: 0.2em;position: relative;}#sk-container-id-18 div.sk-item {position: relative;z-index: 1;}#sk-container-id-18 div.sk-parallel {display: flex;align-items: stretch;justify-content: center;background-color: white;position: relative;}#sk-container-id-18 div.sk-item::before, #sk-container-id-18 div.sk-parallel-item::before {content: \"\";position: absolute;border-left: 1px solid gray;box-sizing: border-box;top: 0;bottom: 0;left: 50%;z-index: -1;}#sk-container-id-18 div.sk-parallel-item {display: flex;flex-direction: column;z-index: 1;position: relative;background-color: white;}#sk-container-id-18 div.sk-parallel-item:first-child::after {align-self: flex-end;width: 50%;}#sk-container-id-18 div.sk-parallel-item:last-child::after {align-self: flex-start;width: 50%;}#sk-container-id-18 div.sk-parallel-item:only-child::after {width: 0;}#sk-container-id-18 div.sk-dashed-wrapped {border: 1px dashed gray;margin: 0 0.4em 0.5em 0.4em;box-sizing: border-box;padding-bottom: 0.4em;background-color: white;}#sk-container-id-18 div.sk-label label {font-family: monospace;font-weight: bold;display: inline-block;line-height: 1.2em;}#sk-container-id-18 div.sk-label-container {text-align: center;}#sk-container-id-18 div.sk-container {/* jupyter's `normalize.less` sets `[hidden] { display: none; }` but bootstrap.min.css set `[hidden] { display: none !important; }` so we also need the `!important` here to be able to override the default hidden behavior on the sphinx rendered scikit-learn.org. See: https://github.com/scikit-learn/scikit-learn/issues/21755 */display: inline-block !important;position: relative;}#sk-container-id-18 div.sk-text-repr-fallback {display: none;}</style><div id=\"sk-container-id-18\" class=\"sk-top-container\"><div class=\"sk-text-repr-fallback\"><pre>RandomForestClassifier(oob_score=True, random_state=12)</pre><b>In a Jupyter environment, please rerun this cell to show the HTML representation or trust the notebook. <br />On GitHub, the HTML representation is unable to render, please try loading this page with nbviewer.org.</b></div><div class=\"sk-container\" hidden><div class=\"sk-item\"><div class=\"sk-estimator sk-toggleable\"><input class=\"sk-toggleable__control sk-hidden--visually\" id=\"sk-estimator-id-36\" type=\"checkbox\" checked><label for=\"sk-estimator-id-36\" class=\"sk-toggleable__label sk-toggleable__label-arrow\">RandomForestClassifier</label><div class=\"sk-toggleable__content\"><pre>RandomForestClassifier(oob_score=True, random_state=12)</pre></div></div></div></div></div>"
      ],
      "text/plain": [
       "RandomForestClassifier(oob_score=True, random_state=12)"
      ]
     },
     "execution_count": 74,
     "metadata": {},
     "output_type": "execute_result"
    }
   ],
   "source": [
    "#INSTANCIATION Du MODELE\n",
    "from sklearn.ensemble import RandomForestClassifier\n",
    "clf = RandomForestClassifier(n_estimators=100,random_state=12,oob_score=True)\n",
    "#fitting du modele\n",
    "clf.fit(X_train,Y_train)"
   ]
  },
  {
   "cell_type": "code",
   "execution_count": 75,
   "id": "1ffced14-84c3-4997-9a5f-9b75919a6ca7",
   "metadata": {},
   "outputs": [
    {
     "data": {
      "text/plain": [
       "0.752442996742671"
      ]
     },
     "execution_count": 75,
     "metadata": {},
     "output_type": "execute_result"
    }
   ],
   "source": [
    "clf.oob_score_\n"
   ]
  },
  {
   "cell_type": "code",
   "execution_count": 76,
   "id": "49c7ce03-343c-423e-869b-59ee50be3f45",
   "metadata": {},
   "outputs": [],
   "source": [
    "rf=RandomForestClassifier(random_state=42,n_jobs=-1)\n"
   ]
  },
  {
   "cell_type": "code",
   "execution_count": 77,
   "id": "04918f82-a10d-49b9-aad4-84fb73a70558",
   "metadata": {},
   "outputs": [
    {
     "name": "stdout",
     "output_type": "stream",
     "text": [
      "Fitting 4 folds for each of 17 candidates, totalling 68 fits\n"
     ]
    },
    {
     "data": {
      "text/html": [
       "<style>#sk-container-id-19 {color: black;background-color: white;}#sk-container-id-19 pre{padding: 0;}#sk-container-id-19 div.sk-toggleable {background-color: white;}#sk-container-id-19 label.sk-toggleable__label {cursor: pointer;display: block;width: 100%;margin-bottom: 0;padding: 0.3em;box-sizing: border-box;text-align: center;}#sk-container-id-19 label.sk-toggleable__label-arrow:before {content: \"▸\";float: left;margin-right: 0.25em;color: #696969;}#sk-container-id-19 label.sk-toggleable__label-arrow:hover:before {color: black;}#sk-container-id-19 div.sk-estimator:hover label.sk-toggleable__label-arrow:before {color: black;}#sk-container-id-19 div.sk-toggleable__content {max-height: 0;max-width: 0;overflow: hidden;text-align: left;background-color: #f0f8ff;}#sk-container-id-19 div.sk-toggleable__content pre {margin: 0.2em;color: black;border-radius: 0.25em;background-color: #f0f8ff;}#sk-container-id-19 input.sk-toggleable__control:checked~div.sk-toggleable__content {max-height: 200px;max-width: 100%;overflow: auto;}#sk-container-id-19 input.sk-toggleable__control:checked~label.sk-toggleable__label-arrow:before {content: \"▾\";}#sk-container-id-19 div.sk-estimator input.sk-toggleable__control:checked~label.sk-toggleable__label {background-color: #d4ebff;}#sk-container-id-19 div.sk-label input.sk-toggleable__control:checked~label.sk-toggleable__label {background-color: #d4ebff;}#sk-container-id-19 input.sk-hidden--visually {border: 0;clip: rect(1px 1px 1px 1px);clip: rect(1px, 1px, 1px, 1px);height: 1px;margin: -1px;overflow: hidden;padding: 0;position: absolute;width: 1px;}#sk-container-id-19 div.sk-estimator {font-family: monospace;background-color: #f0f8ff;border: 1px dotted black;border-radius: 0.25em;box-sizing: border-box;margin-bottom: 0.5em;}#sk-container-id-19 div.sk-estimator:hover {background-color: #d4ebff;}#sk-container-id-19 div.sk-parallel-item::after {content: \"\";width: 100%;border-bottom: 1px solid gray;flex-grow: 1;}#sk-container-id-19 div.sk-label:hover label.sk-toggleable__label {background-color: #d4ebff;}#sk-container-id-19 div.sk-serial::before {content: \"\";position: absolute;border-left: 1px solid gray;box-sizing: border-box;top: 0;bottom: 0;left: 50%;z-index: 0;}#sk-container-id-19 div.sk-serial {display: flex;flex-direction: column;align-items: center;background-color: white;padding-right: 0.2em;padding-left: 0.2em;position: relative;}#sk-container-id-19 div.sk-item {position: relative;z-index: 1;}#sk-container-id-19 div.sk-parallel {display: flex;align-items: stretch;justify-content: center;background-color: white;position: relative;}#sk-container-id-19 div.sk-item::before, #sk-container-id-19 div.sk-parallel-item::before {content: \"\";position: absolute;border-left: 1px solid gray;box-sizing: border-box;top: 0;bottom: 0;left: 50%;z-index: -1;}#sk-container-id-19 div.sk-parallel-item {display: flex;flex-direction: column;z-index: 1;position: relative;background-color: white;}#sk-container-id-19 div.sk-parallel-item:first-child::after {align-self: flex-end;width: 50%;}#sk-container-id-19 div.sk-parallel-item:last-child::after {align-self: flex-start;width: 50%;}#sk-container-id-19 div.sk-parallel-item:only-child::after {width: 0;}#sk-container-id-19 div.sk-dashed-wrapped {border: 1px dashed gray;margin: 0 0.4em 0.5em 0.4em;box-sizing: border-box;padding-bottom: 0.4em;background-color: white;}#sk-container-id-19 div.sk-label label {font-family: monospace;font-weight: bold;display: inline-block;line-height: 1.2em;}#sk-container-id-19 div.sk-label-container {text-align: center;}#sk-container-id-19 div.sk-container {/* jupyter's `normalize.less` sets `[hidden] { display: none; }` but bootstrap.min.css set `[hidden] { display: none !important; }` so we also need the `!important` here to be able to override the default hidden behavior on the sphinx rendered scikit-learn.org. See: https://github.com/scikit-learn/scikit-learn/issues/21755 */display: inline-block !important;position: relative;}#sk-container-id-19 div.sk-text-repr-fallback {display: none;}</style><div id=\"sk-container-id-19\" class=\"sk-top-container\"><div class=\"sk-text-repr-fallback\"><pre>GridSearchCV(cv=4, estimator=RandomForestClassifier(n_jobs=-1, random_state=42),\n",
       "             n_jobs=-1,\n",
       "             param_grid=[{&#x27;max_depth&#x27;: [2, 3, 5, 10, 20]},\n",
       "                         {&#x27;min_samples_leaf&#x27;: [5, 10, 20, 50, 100, 200]},\n",
       "                         {&#x27;n_estimators&#x27;: [10, 25, 30, 50, 100, 200]}],\n",
       "             scoring=&#x27;accuracy&#x27;, verbose=12)</pre><b>In a Jupyter environment, please rerun this cell to show the HTML representation or trust the notebook. <br />On GitHub, the HTML representation is unable to render, please try loading this page with nbviewer.org.</b></div><div class=\"sk-container\" hidden><div class=\"sk-item sk-dashed-wrapped\"><div class=\"sk-label-container\"><div class=\"sk-label sk-toggleable\"><input class=\"sk-toggleable__control sk-hidden--visually\" id=\"sk-estimator-id-37\" type=\"checkbox\" ><label for=\"sk-estimator-id-37\" class=\"sk-toggleable__label sk-toggleable__label-arrow\">GridSearchCV</label><div class=\"sk-toggleable__content\"><pre>GridSearchCV(cv=4, estimator=RandomForestClassifier(n_jobs=-1, random_state=42),\n",
       "             n_jobs=-1,\n",
       "             param_grid=[{&#x27;max_depth&#x27;: [2, 3, 5, 10, 20]},\n",
       "                         {&#x27;min_samples_leaf&#x27;: [5, 10, 20, 50, 100, 200]},\n",
       "                         {&#x27;n_estimators&#x27;: [10, 25, 30, 50, 100, 200]}],\n",
       "             scoring=&#x27;accuracy&#x27;, verbose=12)</pre></div></div></div><div class=\"sk-parallel\"><div class=\"sk-parallel-item\"><div class=\"sk-item\"><div class=\"sk-label-container\"><div class=\"sk-label sk-toggleable\"><input class=\"sk-toggleable__control sk-hidden--visually\" id=\"sk-estimator-id-38\" type=\"checkbox\" ><label for=\"sk-estimator-id-38\" class=\"sk-toggleable__label sk-toggleable__label-arrow\">estimator: RandomForestClassifier</label><div class=\"sk-toggleable__content\"><pre>RandomForestClassifier(n_jobs=-1, random_state=42)</pre></div></div></div><div class=\"sk-serial\"><div class=\"sk-item\"><div class=\"sk-estimator sk-toggleable\"><input class=\"sk-toggleable__control sk-hidden--visually\" id=\"sk-estimator-id-39\" type=\"checkbox\" ><label for=\"sk-estimator-id-39\" class=\"sk-toggleable__label sk-toggleable__label-arrow\">RandomForestClassifier</label><div class=\"sk-toggleable__content\"><pre>RandomForestClassifier(n_jobs=-1, random_state=42)</pre></div></div></div></div></div></div></div></div></div></div>"
      ],
      "text/plain": [
       "GridSearchCV(cv=4, estimator=RandomForestClassifier(n_jobs=-1, random_state=42),\n",
       "             n_jobs=-1,\n",
       "             param_grid=[{'max_depth': [2, 3, 5, 10, 20]},\n",
       "                         {'min_samples_leaf': [5, 10, 20, 50, 100, 200]},\n",
       "                         {'n_estimators': [10, 25, 30, 50, 100, 200]}],\n",
       "             scoring='accuracy', verbose=12)"
      ]
     },
     "execution_count": 77,
     "metadata": {},
     "output_type": "execute_result"
    }
   ],
   "source": [
    "#best params\n",
    "params=[\n",
    "       {'max_depth':[2,3,5,10,20]},\n",
    "       {'min_samples_leaf':[5,10,20,50,100,200]},\n",
    "       {'n_estimators':[10,25,30,50,100,200]}\n",
    "]\n",
    "clf_best_model=GridSearchCV(estimator=rf,param_grid=params,cv=4,n_jobs=-1,verbose=12,scoring='accuracy')\n",
    "clf_best_model.fit(X_train,Y_train)\n"
   ]
  },
  {
   "cell_type": "code",
   "execution_count": 78,
   "id": "2863784c-2dd4-4a6b-9403-3cf6deb9d48d",
   "metadata": {},
   "outputs": [
    {
     "data": {
      "text/plain": [
       "0.7671038112214582"
      ]
     },
     "execution_count": 78,
     "metadata": {},
     "output_type": "execute_result"
    }
   ],
   "source": [
    "#parametres optionnaux\n",
    "clf_best_model.best_score_"
   ]
  },
  {
   "cell_type": "code",
   "execution_count": 79,
   "id": "ec62bee5-1217-4ff9-93fc-f1018aa1fdf9",
   "metadata": {},
   "outputs": [
    {
     "data": {
      "text/html": [
       "<style>#sk-container-id-20 {color: black;background-color: white;}#sk-container-id-20 pre{padding: 0;}#sk-container-id-20 div.sk-toggleable {background-color: white;}#sk-container-id-20 label.sk-toggleable__label {cursor: pointer;display: block;width: 100%;margin-bottom: 0;padding: 0.3em;box-sizing: border-box;text-align: center;}#sk-container-id-20 label.sk-toggleable__label-arrow:before {content: \"▸\";float: left;margin-right: 0.25em;color: #696969;}#sk-container-id-20 label.sk-toggleable__label-arrow:hover:before {color: black;}#sk-container-id-20 div.sk-estimator:hover label.sk-toggleable__label-arrow:before {color: black;}#sk-container-id-20 div.sk-toggleable__content {max-height: 0;max-width: 0;overflow: hidden;text-align: left;background-color: #f0f8ff;}#sk-container-id-20 div.sk-toggleable__content pre {margin: 0.2em;color: black;border-radius: 0.25em;background-color: #f0f8ff;}#sk-container-id-20 input.sk-toggleable__control:checked~div.sk-toggleable__content {max-height: 200px;max-width: 100%;overflow: auto;}#sk-container-id-20 input.sk-toggleable__control:checked~label.sk-toggleable__label-arrow:before {content: \"▾\";}#sk-container-id-20 div.sk-estimator input.sk-toggleable__control:checked~label.sk-toggleable__label {background-color: #d4ebff;}#sk-container-id-20 div.sk-label input.sk-toggleable__control:checked~label.sk-toggleable__label {background-color: #d4ebff;}#sk-container-id-20 input.sk-hidden--visually {border: 0;clip: rect(1px 1px 1px 1px);clip: rect(1px, 1px, 1px, 1px);height: 1px;margin: -1px;overflow: hidden;padding: 0;position: absolute;width: 1px;}#sk-container-id-20 div.sk-estimator {font-family: monospace;background-color: #f0f8ff;border: 1px dotted black;border-radius: 0.25em;box-sizing: border-box;margin-bottom: 0.5em;}#sk-container-id-20 div.sk-estimator:hover {background-color: #d4ebff;}#sk-container-id-20 div.sk-parallel-item::after {content: \"\";width: 100%;border-bottom: 1px solid gray;flex-grow: 1;}#sk-container-id-20 div.sk-label:hover label.sk-toggleable__label {background-color: #d4ebff;}#sk-container-id-20 div.sk-serial::before {content: \"\";position: absolute;border-left: 1px solid gray;box-sizing: border-box;top: 0;bottom: 0;left: 50%;z-index: 0;}#sk-container-id-20 div.sk-serial {display: flex;flex-direction: column;align-items: center;background-color: white;padding-right: 0.2em;padding-left: 0.2em;position: relative;}#sk-container-id-20 div.sk-item {position: relative;z-index: 1;}#sk-container-id-20 div.sk-parallel {display: flex;align-items: stretch;justify-content: center;background-color: white;position: relative;}#sk-container-id-20 div.sk-item::before, #sk-container-id-20 div.sk-parallel-item::before {content: \"\";position: absolute;border-left: 1px solid gray;box-sizing: border-box;top: 0;bottom: 0;left: 50%;z-index: -1;}#sk-container-id-20 div.sk-parallel-item {display: flex;flex-direction: column;z-index: 1;position: relative;background-color: white;}#sk-container-id-20 div.sk-parallel-item:first-child::after {align-self: flex-end;width: 50%;}#sk-container-id-20 div.sk-parallel-item:last-child::after {align-self: flex-start;width: 50%;}#sk-container-id-20 div.sk-parallel-item:only-child::after {width: 0;}#sk-container-id-20 div.sk-dashed-wrapped {border: 1px dashed gray;margin: 0 0.4em 0.5em 0.4em;box-sizing: border-box;padding-bottom: 0.4em;background-color: white;}#sk-container-id-20 div.sk-label label {font-family: monospace;font-weight: bold;display: inline-block;line-height: 1.2em;}#sk-container-id-20 div.sk-label-container {text-align: center;}#sk-container-id-20 div.sk-container {/* jupyter's `normalize.less` sets `[hidden] { display: none; }` but bootstrap.min.css set `[hidden] { display: none !important; }` so we also need the `!important` here to be able to override the default hidden behavior on the sphinx rendered scikit-learn.org. See: https://github.com/scikit-learn/scikit-learn/issues/21755 */display: inline-block !important;position: relative;}#sk-container-id-20 div.sk-text-repr-fallback {display: none;}</style><div id=\"sk-container-id-20\" class=\"sk-top-container\"><div class=\"sk-text-repr-fallback\"><pre>RandomForestClassifier(max_depth=5, n_jobs=-1, random_state=42)</pre><b>In a Jupyter environment, please rerun this cell to show the HTML representation or trust the notebook. <br />On GitHub, the HTML representation is unable to render, please try loading this page with nbviewer.org.</b></div><div class=\"sk-container\" hidden><div class=\"sk-item\"><div class=\"sk-estimator sk-toggleable\"><input class=\"sk-toggleable__control sk-hidden--visually\" id=\"sk-estimator-id-40\" type=\"checkbox\" checked><label for=\"sk-estimator-id-40\" class=\"sk-toggleable__label sk-toggleable__label-arrow\">RandomForestClassifier</label><div class=\"sk-toggleable__content\"><pre>RandomForestClassifier(max_depth=5, n_jobs=-1, random_state=42)</pre></div></div></div></div></div>"
      ],
      "text/plain": [
       "RandomForestClassifier(max_depth=5, n_jobs=-1, random_state=42)"
      ]
     },
     "execution_count": 79,
     "metadata": {},
     "output_type": "execute_result"
    }
   ],
   "source": [
    "#model optimal\n",
    "rf_params_best=clf_best_model.best_estimator_\n",
    "rf_params_best"
   ]
  },
  {
   "cell_type": "code",
   "execution_count": 80,
   "id": "0f7a1ddc-8dff-49a0-bce3-6ade5c358c6b",
   "metadata": {},
   "outputs": [
    {
     "name": "stdout",
     "output_type": "stream",
     "text": [
      "RandomForestClassifier(max_depth=5, n_jobs=-1, random_state=42)\n"
     ]
    }
   ],
   "source": [
    "print(clf_best_model.best_estimator_)"
   ]
  },
  {
   "cell_type": "code",
   "execution_count": 81,
   "id": "20b6f46f-49b8-4d18-9aa8-974c71b0ae28",
   "metadata": {},
   "outputs": [],
   "source": [
    "pred_clf = clf.predict(X_test)\n",
    "pred_clf_best = clf_best_model.best_estimator_.predict(X_test)"
   ]
  },
  {
   "cell_type": "code",
   "execution_count": 82,
   "id": "f7101cfe-22e3-4ffc-960e-dc185999ecdb",
   "metadata": {},
   "outputs": [
    {
     "name": "stdout",
     "output_type": "stream",
     "text": [
      "le taux accuracy de clf est de 0.8116883116883117\n",
      "le taux accuracy clf_best-model est de 0.8181818181818182\n"
     ]
    }
   ],
   "source": [
    "#Calculons le taux d'accuracy\n",
    "clf_acc = accuracy_score(Y_test,pred_clf)\n",
    "print('le taux accuracy de clf est de', clf_acc)\n",
    "\n",
    "clf_best_acc = accuracy_score(Y_test,pred_clf_best)\n",
    "print('le taux accuracy clf_best-model est de', clf_best_acc)"
   ]
  },
  {
   "cell_type": "code",
   "execution_count": 83,
   "id": "5493d93d-629f-4440-8d0a-2765f68ed766",
   "metadata": {},
   "outputs": [
    {
     "data": {
      "text/plain": [
       "[{'meilleur score de knn': 0.7377982140477143},\n",
       " {'meilleur score de lr': 0.7622284419565506},\n",
       " {'meilleur score de gnb': 0.7426629348260696},\n",
       " {'meilleur score de dtc': 0.7508130081300812},\n",
       " {'meilleur score de rf': 0.7671038112214582}]"
      ]
     },
     "execution_count": 83,
     "metadata": {},
     "output_type": "execute_result"
    }
   ],
   "source": [
    "#Choisissons le best modele et interpretons ces resultats\n",
    "t_best = [\n",
    "    {\"meilleur score de knn\":knn_best_model.best_score_},\n",
    "    {\"meilleur score de lr\":lr_best_model.best_score_},\n",
    "    {\"meilleur score de gnb\":gnb_best_model.best_score_},\n",
    "    {\"meilleur score de dtc\":dtc_best_model.best_score_},\n",
    "    {\"meilleur score de rf\":clf_best_model.best_score_}\n",
    "    \n",
    "]\n",
    "t_best"
   ]
  },
  {
   "cell_type": "markdown",
   "id": "3016e9a3-6ad5-407e-86e8-bbd0d369cff7",
   "metadata": {},
   "source": []
  },
  {
   "cell_type": "code",
   "execution_count": 89,
   "id": "106df9e2-39af-453c-b41e-71ddd6b5322b",
   "metadata": {},
   "outputs": [
    {
     "data": {
      "image/png": "[encoded data removed]",
      "text/plain": [
       "<Figure size 432x288 with 1 Axes>"
      ]
     },
     "metadata": {
      "needs_background": "light"
     },
     "output_type": "display_data"
    }
   ],
   "source": [
    "import matplotlib.pyplot as plt\n",
    "fig = plt.figure()\n",
    "ax = fig.add_axes([1,0,1,0.80])\n",
    "algo=['knn_best_model','lr_best_model','gnb_best_model','dtc_best_model','clf_best_model']\n",
    "accuracy_score = [knn_best_model.best_score_,lr_best_model.best_score_,gnb_best_model.best_score_,dtc_best_model.best_score_,clf_best_model.best_score_]\n",
    "ax.bar(algo,accuracy_score)\n",
    "plt.show()"
   ]
  },
  {
   "cell_type": "markdown",
   "id": "088fa525-bcc6-4674-b8f7-cf09a580625f",
   "metadata": {},
   "source": [
    "## ANALYSE"
   ]
  },
  {
   "cell_type": "markdown",
   "id": "ff823591-6771-4dc0-be75-2a60d0546e56",
   "metadata": {},
   "source": [
    "Nous remarquons que l'algorithme avec le meilleur score est le random forest. cela s'explique par le fait qu'il \n",
    "--> est nettement plus precis que la plupart des classificateurs non lineaires\n",
    "--> ne fait pas face au probleme de surajustement car il prend la moyenne de toutes les predictions, annule les biais et resout ainsi le probleme de surajustement \n",
    "Le random forest est plus perfomant que le decision tree classifier car il est une amelioration de ce dernier.\n",
    "Le deuxieme algorithme est la regression logistique cela s'explique du fait que cette derniére etait trés utilisé avant l'avenement des réseaux de neurones, Dans cette figure elle a un score tres proche de celui du random forest."
   ]
  },
  {
   "cell_type": "code",
   "execution_count": null,
   "id": "b2be98b6-1edc-4b7c-b8f8-8f42afce9954",
   "metadata": {},
   "outputs": [],
   "source": []
  }
 ],
 "metadata": {
  "kernelspec": {
   "display_name": "Python 3 (ipykernel)",
   "language": "python",
   "name": "python3"
  },
  "language_info": {
   "codemirror_mode": {
    "name": "ipython",
    "version": 3
   },
   "file_extension": ".py",
   "mimetype": "text/x-python",
   "name": "python",
   "nbconvert_exporter": "python",
   "pygments_lexer": "ipython3",
   "version": "3.10.4"
  }
 },
 "nbformat": 4,
 "nbformat_minor": 5
}
